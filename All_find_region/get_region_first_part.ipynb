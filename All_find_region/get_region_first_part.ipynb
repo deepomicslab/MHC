{
 "cells": [
  {
   "cell_type": "code",
   "execution_count": 1,
   "metadata": {},
   "outputs": [],
   "source": [
    "import pysam\n",
    "from pysam import VariantFile as vcf\n",
    "import operator\n",
    "from math import log2\n",
    "import pandas as pd\n",
    "from pandas import DataFrame as dataframe\n",
    "import matplotlib.pyplot as plt\n",
    "import numpy as np\n",
    "from scipy.spatial.distance import pdist, squareform\n",
    "import scipy\n",
    "import  os\n",
    "import os.path\n",
    "import matplotlib.colors as mcolors\n",
    "from scipy import stats"
   ]
  },
  {
   "cell_type": "code",
   "execution_count": 2,
   "metadata": {},
   "outputs": [],
   "source": [
    "def getAveragePer1000(filepath,n,filename):\n",
    "    csv_data = pd.read_csv(filepath, low_memory = False)#防止弹出警告\n",
    "    csv_df = pd.DataFrame(csv_data)\n",
    "    averages = [np.mean(csv_df.loc[i:i+n-1, \"P\"]) for i in range(0, csv_df.shape[0], n)]\n",
    "    np.savetxt('../csvfile_bin_1000_AveragewithoutX/'+filename+'.csv', averages, delimiter = ',')\n",
    "    return averages"
   ]
  },
  {
   "cell_type": "code",
   "execution_count": 3,
   "metadata": {},
   "outputs": [],
   "source": [
    "def ifExistCSVFile_1000Average(filename):\n",
    "    filepath='../csvfile_bin_1000_AveragewithoutX/'\n",
    "    files=os.listdir(filepath)\n",
    "    if filename in files:\n",
    "        return True\n",
    "    else:\n",
    "        return False"
   ]
  },
  {
   "cell_type": "code",
   "execution_count": 4,
   "metadata": {},
   "outputs": [],
   "source": [
    "arrforDistribution=[]\n",
    "for curDir, dirs, files in os.walk(top=\"../csvfiles/\"):\n",
    "    for file in files:\n",
    "        if file.startswith(\"index_prob_split_\"):\n",
    "            fileprefix=file[file.index(\"chr\"):file.index(\".\")]\n",
    "            if fileprefix.split(\"_\")[0]!=\"chrX\":\n",
    "                filepath=os.path.join(curDir,file)\n",
    "                arrforDistribution+=getAveragePer1000(filepath=filepath,n=1000,filename=fileprefix)\n",
    "        "
   ]
  },
  {
   "cell_type": "code",
   "execution_count": 5,
   "metadata": {},
   "outputs": [],
   "source": [
    "mhc_1000=getAveragePer1000(filename=\"mhc\",filepath=\"../csvfiles/mhc.csv\",n=1000)\n",
    "arrforDistribution+=mhc_1000"
   ]
  },
  {
   "cell_type": "code",
   "execution_count": 6,
   "metadata": {},
   "outputs": [
    {
     "name": "stdout",
     "output_type": "stream",
     "text": [
      "mean_arr -0.019077723390066942\n",
      "std_arr 0.006128439002438663\n"
     ]
    }
   ],
   "source": [
    "#get mean of Distribution\n",
    "mean_arr=np.mean(arrforDistribution)\n",
    "#get standard deviation of Distribution\n",
    "std_arr=np.std(arrforDistribution)\n",
    "print(\"mean_arr\",mean_arr)\n",
    "print(\"std_arr\",std_arr)"
   ]
  },
  {
   "cell_type": "code",
   "execution_count": 7,
   "metadata": {},
   "outputs": [],
   "source": [
    "def calculatePos_PforMHC(mean_arr,std_arr):\n",
    "    result=dict()\n",
    "    vcf_in=vcf(\"../mhcdataset/1kgp.29720000-33130000.vcf\",\"r\")\n",
    "    df=pd.read_csv(\"../csvfiles/posmhc.csv\")\n",
    "    cal=df[\"P\"].to_list()\n",
    "    pos=[]\n",
    "    for rec in vcf_in.fetch():\n",
    "        pos.append(rec.pos)\n",
    "    pos=sorted(list(set(pos)))\n",
    "    for i in range(len(cal)):\n",
    "        mid_res=stats.norm.cdf(cal[i], mean_arr, std_arr)\n",
    "        result[pos[i]]=mid_res\n",
    "    return pos,result"
   ]
  },
  {
   "cell_type": "code",
   "execution_count": 8,
   "metadata": {},
   "outputs": [],
   "source": [
    "def compareWith0_01Pvalue(mean_arr,std_arr,filename,filepath):\n",
    "    arr=[]\n",
    "    csv_matrix = np.loadtxt(open(filepath,\"rb\"),delimiter=\",\",skiprows=0)\n",
    "    for i in range(len(csv_matrix)):\n",
    "        mid_res=stats.norm.cdf(csv_matrix[i], mean_arr, std_arr)\n",
    "\n",
    "        if mid_res>0.95:\n",
    "            arr.append(1)\n",
    "        else:\n",
    "            arr.append(0)\n",
    "    np.savetxt(\"../csvfiles_compare_with_0.01pvaluewithoutX/\"+filename+\".csv\", arr, delimiter = ',')\n",
    "    return filename"
   ]
  },
  {
   "cell_type": "code",
   "execution_count": 9,
   "metadata": {},
   "outputs": [],
   "source": [
    "for curDir, dirs, files in os.walk(top=\"../csvfile_bin_1000_AveragewithoutX/\"):\n",
    "    for file in files:            \n",
    "            filename=file[:file.index(\".\")]\n",
    "            prefix=filename.split(\"_\")[0]\n",
    "            if prefix!='chrX':\n",
    "                filepath=os.path.join(curDir,file)\n",
    "                compareWith0_01Pvalue(mean_arr=mean_arr,std_arr=std_arr,filename=filename,filepath=filepath)"
   ]
  }
 ],
 "metadata": {
  "kernelspec": {
   "display_name": "mhc",
   "language": "python",
   "name": "python3"
  },
  "language_info": {
   "codemirror_mode": {
    "name": "ipython",
    "version": 3
   },
   "file_extension": ".py",
   "mimetype": "text/x-python",
   "name": "python",
   "nbconvert_exporter": "python",
   "pygments_lexer": "ipython3",
   "version": "3.8.0"
  },
  "orig_nbformat": 4,
  "vscode": {
   "interpreter": {
    "hash": "3d4b15bbae0fd1567619237452dd2e2f316e9bbed19b2ab4ca92bc73c7a8ca5e"
   }
  }
 },
 "nbformat": 4,
 "nbformat_minor": 2
}
