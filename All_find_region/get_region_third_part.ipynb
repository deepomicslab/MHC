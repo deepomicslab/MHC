{
 "cells": [
  {
   "cell_type": "code",
   "execution_count": 1,
   "metadata": {},
   "outputs": [],
   "source": [
    "import pysam\n",
    "from pysam import VariantFile as vcf\n",
    "import operator\n",
    "from math import log2\n",
    "import pandas as pd\n",
    "from pandas import DataFrame as dataframe\n",
    "import matplotlib.pyplot as plt\n",
    "import numpy as np\n",
    "from scipy.spatial.distance import pdist, squareform\n",
    "import scipy\n",
    "import  os\n",
    "import os.path\n",
    "import matplotlib.colors as mcolors\n",
    "from scipy import stats"
   ]
  },
  {
   "cell_type": "code",
   "execution_count": 2,
   "metadata": {},
   "outputs": [],
   "source": [
    "#get all of positions from vcf files\n",
    "def getAllPositions(filepath):\n",
    "    pos=[]\n",
    "    vcf_file = pysam.VariantFile(filepath)\n",
    "    for record in vcf_file:\n",
    "        pos.append(record.pos)\n",
    "    pos=sorted(list(set(pos)))\n",
    "    return pos"
   ]
  },
  {
   "cell_type": "code",
   "execution_count": 3,
   "metadata": {},
   "outputs": [],
   "source": [
    "def findPosition(filepath,start,length):\n",
    "    arr=[]\n",
    "    allpos=getAllPositions(filepath=filepath)\n",
    "    arr.append(allpos[start*1000])\n",
    "    if (start+length)*1000-1<len(allpos):\n",
    "        end=allpos[(start+length)*1000-1]\n",
    "    else:\n",
    "        end=allpos[-1]\n",
    "    arr.append(end)\n",
    "    return arr\n",
    "\n"
   ]
  },
  {
   "cell_type": "code",
   "execution_count": 4,
   "metadata": {},
   "outputs": [],
   "source": [
    "#Get the real position of corresponding to consecutive '1' in split_chr...\n",
    "def GetPosition(filepath,res,threshold):\n",
    "    csv_data = pd.read_csv(filepath, low_memory = False)\n",
    "    csv_df = pd.DataFrame(csv_data)\n",
    "    arr_start=np.array(csv_df['start'])\n",
    "    arr_length=np.array(csv_df['length'])\n",
    "    mydic=dict()\n",
    "    midarr=[]\n",
    "    for i in range(len(arr_start)):\n",
    "        mydic[arr_start[i]]=arr_length[i]\n",
    "    filename=(filepath.split(\"/\")[-1]).split(\"_start_lenth.csv\")[0]\n",
    "    findfoldername=\"split_\"+filename.split(\"_\")[0]\n",
    "    findfoldername_filename=filename.split(\"_\")[1]\n",
    "    filepath=\"../\"+findfoldername+\"/\"+findfoldername_filename+\".vcf.gz\"\n",
    "    for k,v in mydic.items():\n",
    "        if v>=threshold:\n",
    "            print(\"filepath\",filepath)\n",
    "            midarr.append(findPosition(filepath=filepath,start=k,length=v))\n",
    "            \n",
    "        else:\n",
    "            continue\n",
    "    if midarr!=[]:\n",
    "        res[findfoldername+\"_\"+findfoldername_filename]=midarr\n",
    "    return res"
   ]
  },
  {
   "cell_type": "code",
   "execution_count": 5,
   "metadata": {},
   "outputs": [],
   "source": [
    "#Get the real position of corresponding to consecutive '1' in mhc region\n",
    "def getPositionforMHC(res):\n",
    "    mhc_start_length_path=\"../csvfile_start_lengthwithoutX/mhc_start_lenth.csv\"\n",
    "    csv_data = pd.read_csv(mhc_start_length_path, low_memory = False)#防止弹出警告\n",
    "    csv_df = pd.DataFrame(csv_data)\n",
    "    arr_start=np.array(csv_df['start'])\n",
    "    arr_length=np.array(csv_df['length'])\n",
    "    mydic=dict()\n",
    "    midarr=[]\n",
    "    for i in range(len(arr_start)):\n",
    "        mydic[arr_start[i]]=arr_length[i]\n",
    "    for k,v in mydic.items():\n",
    "        if v>=6:\n",
    "            midarr.append(findPosition(filepath=\"../mhcdataset/1kgp.29720000-33130000.vcf\",start=k,length=v))            \n",
    "        else:\n",
    "            continue\n",
    "    res[\"MHC\"]=midarr\n",
    "    return res\n",
    "            \n",
    "\n"
   ]
  },
  {
   "cell_type": "code",
   "execution_count": 6,
   "metadata": {},
   "outputs": [
    {
     "name": "stdout",
     "output_type": "stream",
     "text": [
      "filepath ../split_chr14/xaa.vcf.gz\n"
     ]
    },
    {
     "name": "stderr",
     "output_type": "stream",
     "text": [
      "[E::idx_find_and_load] Could not retrieve index file for '../split_chr14/xaa.vcf.gz'\n"
     ]
    },
    {
     "name": "stdout",
     "output_type": "stream",
     "text": [
      "filepath ../split_chr7/xbc.vcf.gz\n"
     ]
    },
    {
     "name": "stderr",
     "output_type": "stream",
     "text": [
      "[E::idx_find_and_load] Could not retrieve index file for '../split_chr7/xbc.vcf.gz'\n"
     ]
    },
    {
     "name": "stdout",
     "output_type": "stream",
     "text": [
      "filepath ../split_chr1/xak.vcf.gz\n"
     ]
    },
    {
     "name": "stderr",
     "output_type": "stream",
     "text": [
      "[E::idx_find_and_load] Could not retrieve index file for '../split_chr1/xak.vcf.gz'\n"
     ]
    },
    {
     "name": "stdout",
     "output_type": "stream",
     "text": [
      "filepath ../split_chr1/xbk.vcf.gz\n"
     ]
    },
    {
     "name": "stderr",
     "output_type": "stream",
     "text": [
      "[E::idx_find_and_load] Could not retrieve index file for '../split_chr1/xbk.vcf.gz'\n"
     ]
    }
   ],
   "source": [
    "res=dict()\n",
    "mhcres=dict()\n",
    "for curDir, dirs, files in os.walk(top=\"../csvfile_start_lengthwithoutX/\"):\n",
    "    for file in files:\n",
    "            filename=file[:file.index(\".\")]\n",
    "            if filename!=\"mhc_start_lenth\":\n",
    "                filepath=os.path.join(curDir,file)\n",
    "                GetPosition(filepath=filepath,res=res,threshold=6)\n",
    "            else:\n",
    "                getPositionforMHC(res=mhcres)"
   ]
  },
  {
   "cell_type": "code",
   "execution_count": 7,
   "metadata": {},
   "outputs": [
    {
     "data": {
      "text/plain": [
       "{'split_chr14_xaa': [[19806333, 19976578]],\n",
       " 'split_chr7_xbc': [[124810550, 125070920]],\n",
       " 'split_chr1_xak': [[45762038, 46100296]],\n",
       " 'split_chr1_xbk': [[188243362, 188513984]]}"
      ]
     },
     "execution_count": 7,
     "metadata": {},
     "output_type": "execute_result"
    }
   ],
   "source": [
    "res#complementary region for split_chr..."
   ]
  },
  {
   "cell_type": "code",
   "execution_count": 8,
   "metadata": {},
   "outputs": [
    {
     "data": {
      "text/plain": [
       "{'MHC': [[32453110, 32577355], [32589647, 32716541]]}"
      ]
     },
     "execution_count": 8,
     "metadata": {},
     "output_type": "execute_result"
    }
   ],
   "source": [
    "mhcres#complementary region for mhc region"
   ]
  }
 ],
 "metadata": {
  "kernelspec": {
   "display_name": "mhc",
   "language": "python",
   "name": "python3"
  },
  "language_info": {
   "codemirror_mode": {
    "name": "ipython",
    "version": 3
   },
   "file_extension": ".py",
   "mimetype": "text/x-python",
   "name": "python",
   "nbconvert_exporter": "python",
   "pygments_lexer": "ipython3",
   "version": "3.8.0"
  },
  "orig_nbformat": 4,
  "vscode": {
   "interpreter": {
    "hash": "3d4b15bbae0fd1567619237452dd2e2f316e9bbed19b2ab4ca92bc73c7a8ca5e"
   }
  }
 },
 "nbformat": 4,
 "nbformat_minor": 2
}
