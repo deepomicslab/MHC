{
 "cells": [
  {
   "cell_type": "code",
   "execution_count": 1,
   "metadata": {},
   "outputs": [],
   "source": [
    "import pysam\n",
    "from pysam import VariantFile as vcf\n",
    "import operator\n",
    "from math import log2\n",
    "import pandas as pd\n",
    "from pandas import DataFrame as dataframe\n",
    "import matplotlib.pyplot as plt\n",
    "import numpy as np\n",
    "from scipy.spatial.distance import pdist, squareform\n",
    "import scipy\n",
    "import  os\n",
    "import os.path\n",
    "import matplotlib.colors as mcolors\n",
    "from scipy import stats"
   ]
  },
  {
   "cell_type": "code",
   "execution_count": 2,
   "metadata": {},
   "outputs": [],
   "source": [
    "def generatedfandcsv(columns,dic,filename):\n",
    "\n",
    "    row_names=list(dic.keys())\n",
    "    a=[]\n",
    "    bs=[]\n",
    "    #cs=[]\n",
    "    for x in row_names:\n",
    "        a.append(x)\n",
    "        bs.append(dic[x])\n",
    "        #cs.append(dic[x][1])\n",
    "    dictforDF=dict()\n",
    "    dictforDF[columns[0]]=a\n",
    "    dictforDF[columns[1]]=bs\n",
    "    #dictforDF[columns[2]]=cs\n",
    "\n",
    "    df_index=pd.DataFrame(dictforDF)\n",
    "    df_index.to_csv(\"../csvfile_start_lengthwithoutX/\"+filename+\"_start_lenth.csv\")\n",
    "    return df_index\n"
   ]
  },
  {
   "cell_type": "code",
   "execution_count": 3,
   "metadata": {},
   "outputs": [],
   "source": [
    "def checkContinuous1(arr):\n",
    "    res=dict()\n",
    "    i=0\n",
    "    while i<len(arr)-1:\n",
    "        if arr[i]==1:\n",
    "\n",
    "            count=1\n",
    "            for j in range(i+1,len(arr),1):\n",
    "                if arr[j]==1:\n",
    "                    count+=1                    \n",
    "                else:                  \n",
    "                    break\n",
    "            res[i]=count\n",
    "            i+=count\n",
    "        else:\n",
    "            i+=1\n",
    "            continue\n",
    "    return res\n",
    "            \n"
   ]
  },
  {
   "cell_type": "code",
   "execution_count": 4,
   "metadata": {},
   "outputs": [],
   "source": [
    "def getstartAndLength(filepath,filename):\n",
    "    csv_matrix = np.loadtxt(open(filepath,\"rb\"),delimiter=\",\",skiprows=0)\n",
    "    res=checkContinuous1(csv_matrix)\n",
    "    df=generatedfandcsv(columns=[\"start\",\"length\"],dic=res,filename=filename)\n",
    "    return df"
   ]
  },
  {
   "cell_type": "code",
   "execution_count": 5,
   "metadata": {},
   "outputs": [],
   "source": [
    "for curDir, dirs, files in os.walk(top=\"../csvfiles_compare_with_0.01pvaluewithoutX/\"):\n",
    "    for file in files:\n",
    "        filename=file[:file.index(\".\")]\n",
    "        filepath=os.path.join(curDir,file)\n",
    "        getstartAndLength(filepath=filepath,filename=filename)"
   ]
  },
  {
   "cell_type": "code",
   "execution_count": 6,
   "metadata": {},
   "outputs": [],
   "source": [
    "#Read a file ending with \"start_length\", and count how many kinds of 'length' and corresponding counts\n",
    "def countNumofLength(dic,filepath):\n",
    "    csv_data = pd.read_csv(filepath, low_memory = False)\n",
    "    csv_df = pd.DataFrame(csv_data)\n",
    "    arr=np.array(csv_df['length'])\n",
    "\n",
    "    for i in range(len(arr)):\n",
    "\n",
    "        if arr[i] in dic:\n",
    "\n",
    "            dic[arr[i]]+=1\n",
    "        else:\n",
    "            dic[arr[i]]=1\n",
    "\n",
    "    return dic"
   ]
  },
  {
   "cell_type": "code",
   "execution_count": 7,
   "metadata": {},
   "outputs": [],
   "source": [
    "#Read each file ending with start_length, and count how many kinds of 'length' and corresponding counts\n",
    "mydic=dict()\n",
    "mhcdic=dict()\n",
    "for curDir, dirs, files in os.walk(top=\"../csvfile_start_lengthwithoutX/\"):\n",
    "    for file in files:\n",
    "            filename=file[:file.index(\".\")]\n",
    "            if filename!=\"mhc_start_lenth\":                  \n",
    "                filepath=os.path.join(curDir,file)\n",
    "                countNumofLength(mydic,filepath=filepath)\n",
    "            else:\n",
    "                 filepath_mhc=os.path.join(curDir,file)\n",
    "                 countNumofLength(mhcdic,filepath=filepath_mhc)"
   ]
  },
  {
   "cell_type": "code",
   "execution_count": 8,
   "metadata": {},
   "outputs": [
    {
     "data": {
      "text/plain": [
       "{1: 7, 3: 2, 2: 4, 6: 1, 8: 1}"
      ]
     },
     "execution_count": 8,
     "metadata": {},
     "output_type": "execute_result"
    }
   ],
   "source": [
    "mhcdic"
   ]
  },
  {
   "cell_type": "code",
   "execution_count": 16,
   "metadata": {},
   "outputs": [
    {
     "data": {
      "text/plain": [
       "{1: 1832, 2: 359, 3: 77, 4: 16, 5: 10, 6: 2, 7: 2}"
      ]
     },
     "execution_count": 16,
     "metadata": {},
     "output_type": "execute_result"
    }
   ],
   "source": [
    "mydic"
   ]
  }
 ],
 "metadata": {
  "kernelspec": {
   "display_name": "mhc",
   "language": "python",
   "name": "python3"
  },
  "language_info": {
   "codemirror_mode": {
    "name": "ipython",
    "version": 3
   },
   "file_extension": ".py",
   "mimetype": "text/x-python",
   "name": "python",
   "nbconvert_exporter": "python",
   "pygments_lexer": "ipython3",
   "version": "3.8.0"
  },
  "orig_nbformat": 4,
  "vscode": {
   "interpreter": {
    "hash": "3d4b15bbae0fd1567619237452dd2e2f316e9bbed19b2ab4ca92bc73c7a8ca5e"
   }
  }
 },
 "nbformat": 4,
 "nbformat_minor": 2
}
