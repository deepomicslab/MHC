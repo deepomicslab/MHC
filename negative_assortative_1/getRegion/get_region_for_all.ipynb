{
 "cells": [
  {
   "cell_type": "code",
   "execution_count": 28,
   "metadata": {},
   "outputs": [],
   "source": [
    "import pysam\n",
    "from pysam import VariantFile as vcf\n",
    "import operator\n",
    "from math import log2\n",
    "import pandas as pd\n",
    "from pandas import DataFrame as dataframe\n",
    "import matplotlib.pyplot as plt\n",
    "import numpy as np\n",
    "from scipy.spatial.distance import pdist, squareform\n",
    "import scipy\n",
    "import  os\n",
    "import os.path\n",
    "import matplotlib.colors as mcolors\n",
    "from scipy import stats"
   ]
  },
  {
   "cell_type": "code",
   "execution_count": 29,
   "metadata": {},
   "outputs": [],
   "source": [
    "def getAveragePer1000(filepath,n,filename):\n",
    "    csv_data = pd.read_csv(filepath, low_memory = False)\n",
    "    csv_df = pd.DataFrame(csv_data)\n",
    "    averages = [np.mean(csv_df.loc[i:i+n-1, \"P\"]) for i in range(0, csv_df.shape[0], n)]\n",
    "    np.savetxt('../../similar_region_average1000/'+filename+'.csv', averages, delimiter = ',')\n",
    "    return averages"
   ]
  },
  {
   "cell_type": "code",
   "execution_count": 30,
   "metadata": {},
   "outputs": [],
   "source": [
    "def ifExistCSVFile_1000Average(filename):\n",
    "    filepath='../../similar_region_average1000/'\n",
    "    files=os.listdir(filepath)\n",
    "    if filename in files:\n",
    "        return True\n",
    "    else:\n",
    "        return False"
   ]
  },
  {
   "cell_type": "code",
   "execution_count": 31,
   "metadata": {},
   "outputs": [],
   "source": [
    "arrforDistribution=[]\n",
    "for curDir, dirs, files in os.walk(top=\"../../similar_region_csvfiles/\"):\n",
    "    for file in files:\n",
    "        if file.startswith(\"pos_prob_split_\"):\n",
    "            fileprefix=file[file.index(\"chr\"):file.index(\".\")]\n",
    "            filepath=os.path.join(curDir,file)\n",
    "            arrforDistribution+=getAveragePer1000(filepath=filepath,n=1000,filename=fileprefix)"
   ]
  },
  {
   "cell_type": "code",
   "execution_count": 32,
   "metadata": {},
   "outputs": [],
   "source": [
    "mhc_1000=getAveragePer1000(filename=\"mhc\",filepath=\"../../similar_region_csvfiles/posmhc.csv\",n=1000)\n",
    "arrforDistribution+=mhc_1000"
   ]
  },
  {
   "cell_type": "code",
   "execution_count": 33,
   "metadata": {},
   "outputs": [
    {
     "name": "stdout",
     "output_type": "stream",
     "text": [
      "mean_arr -0.017462454026226405\n",
      "std_arr 0.006996042091888453\n"
     ]
    }
   ],
   "source": [
    "#get mean of Distribution\n",
    "mean_arr=np.mean(arrforDistribution)\n",
    "#get standard deviation of Distribution\n",
    "std_arr=np.std(arrforDistribution)\n",
    "print(\"mean_arr\",mean_arr)\n",
    "print(\"std_arr\",std_arr)"
   ]
  },
  {
   "cell_type": "code",
   "execution_count": 34,
   "metadata": {},
   "outputs": [],
   "source": [
    "def compareWith0_01Pvalue(mean_arr,std_arr,filename,filepath):\n",
    "    arr=[]\n",
    "    csv_matrix = np.loadtxt(open(filepath,\"rb\"),delimiter=\",\",skiprows=0)\n",
    "    for i in range(len(csv_matrix)):\n",
    "        mid_res=stats.norm.cdf(csv_matrix[i], mean_arr, std_arr)\n",
    "        if mid_res<0.05:\n",
    "            arr.append(1)\n",
    "        else:\n",
    "            arr.append(0)\n",
    "    np.savetxt(\"../../similar_region_compare_with_01/\"+filename+\".csv\", arr, delimiter = ',')\n",
    "    return filename"
   ]
  },
  {
   "cell_type": "code",
   "execution_count": 35,
   "metadata": {},
   "outputs": [],
   "source": [
    "for curDir, dirs, files in os.walk(top=\"../../similar_region_average1000/\"):\n",
    "    for file in files:            \n",
    "        filename=file[:file.index(\".\")]\n",
    "        prefix=filename.split(\"_\")[0]\n",
    "        filepath=os.path.join(curDir,file)\n",
    "        #print(filepath)\n",
    "        compareWith0_01Pvalue(mean_arr=mean_arr,std_arr=std_arr,filename=filename,filepath=filepath)"
   ]
  },
  {
   "cell_type": "code",
   "execution_count": 36,
   "metadata": {},
   "outputs": [],
   "source": [
    "def generatedfandcsv(columns,dic,filename):\n",
    "\n",
    "    row_names=list(dic.keys())\n",
    "    a=[]\n",
    "    bs=[]\n",
    "    #cs=[]\n",
    "    for x in row_names:\n",
    "        a.append(x)\n",
    "        bs.append(dic[x])\n",
    "        #cs.append(dic[x][1])\n",
    "    dictforDF=dict()\n",
    "    dictforDF[columns[0]]=a\n",
    "    dictforDF[columns[1]]=bs\n",
    "    #dictforDF[columns[2]]=cs\n",
    "\n",
    "    df_index=pd.DataFrame(dictforDF)\n",
    "    df_index.to_csv(\"../../similar_region_csvfile_start_length/\"+filename+\"_start_lenth.csv\")\n",
    "    return df_index\n"
   ]
  },
  {
   "cell_type": "code",
   "execution_count": 37,
   "metadata": {},
   "outputs": [],
   "source": [
    "def checkContinuous1(arr):\n",
    "    res=dict()\n",
    "    i=0\n",
    "    while i<len(arr)-1:\n",
    "\n",
    "        if arr[i]==1:\n",
    "\n",
    "            count=1\n",
    "            for j in range(i+1,len(arr),1):\n",
    "                if arr[j]==1:\n",
    "                    count+=1\n",
    "                    \n",
    "                else:\n",
    "                    \n",
    "                    break\n",
    "\n",
    "            res[i]=count\n",
    "            i+=count\n",
    "\n",
    "        else:\n",
    "            i+=1\n",
    "            continue\n",
    "    return res\n",
    "            \n"
   ]
  },
  {
   "cell_type": "code",
   "execution_count": 38,
   "metadata": {},
   "outputs": [],
   "source": [
    "def getstartAndLength(filepath,filename):\n",
    "    csv_matrix = np.loadtxt(open(filepath,\"rb\"),delimiter=\",\",skiprows=0)\n",
    "    res=checkContinuous1(csv_matrix)\n",
    "    df=generatedfandcsv(columns=[\"start\",\"length\"],dic=res,filename=filename)\n",
    "    return df"
   ]
  },
  {
   "cell_type": "code",
   "execution_count": 39,
   "metadata": {},
   "outputs": [],
   "source": [
    "for curDir, dirs, files in os.walk(top=\"../../similar_region_compare_with_01/\"):\n",
    "    for file in files:\n",
    "        filename=file[:file.index(\".\")]\n",
    "        filepath=os.path.join(curDir,file)\n",
    "        getstartAndLength(filepath=filepath,filename=filename)"
   ]
  },
  {
   "cell_type": "code",
   "execution_count": 40,
   "metadata": {},
   "outputs": [],
   "source": [
    "\n",
    "def countNumofLength(dic,filepath):\n",
    "    csv_data = pd.read_csv(filepath, low_memory = False)\n",
    "    csv_df = pd.DataFrame(csv_data)\n",
    "    arr=np.array(csv_df['length'])\n",
    "    #print(dic)\n",
    "    for i in range(len(arr)):\n",
    "        #print(\"before iteration\",dic)\n",
    "        if arr[i] in dic:\n",
    "            #print(\"in iteration not\",dic)\n",
    "            dic[arr[i]]+=1\n",
    "        else:\n",
    "            dic[arr[i]]=1\n",
    "            #print(\"in iteration\",dic)\n",
    "    #print(dic)\n",
    "    return dic"
   ]
  },
  {
   "cell_type": "code",
   "execution_count": 41,
   "metadata": {},
   "outputs": [],
   "source": [
    "\n",
    "mydic=dict()\n",
    "mhcdic=dict()\n",
    "for curDir, dirs, files in os.walk(top=\"../../similar_region_csvfile_start_length/\"):\n",
    "    for file in files:\n",
    "            filename=file[:file.index(\".\")]\n",
    "            if filename!=\"mhc_start_lenth\":                  \n",
    "                filepath=os.path.join(curDir,file)\n",
    "                countNumofLength(mydic,filepath=filepath)\n",
    "            else:\n",
    "                 filepath_mhc=os.path.join(curDir,file)\n",
    "                 countNumofLength(mhcdic,filepath=filepath_mhc)"
   ]
  },
  {
   "cell_type": "code",
   "execution_count": 42,
   "metadata": {},
   "outputs": [
    {
     "data": {
      "text/plain": [
       "{16: 1, 2: 2, 1: 1, 3: 1, 21: 1, 28: 1, 5: 1}"
      ]
     },
     "execution_count": 42,
     "metadata": {},
     "output_type": "execute_result"
    }
   ],
   "source": [
    "mhcdic"
   ]
  },
  {
   "cell_type": "code",
   "execution_count": 43,
   "metadata": {},
   "outputs": [
    {
     "data": {
      "text/plain": [
       "{1: 2041, 2: 425, 4: 32, 3: 118, 7: 2, 5: 11, 6: 5}"
      ]
     },
     "execution_count": 43,
     "metadata": {},
     "output_type": "execute_result"
    }
   ],
   "source": [
    "mydic"
   ]
  },
  {
   "cell_type": "code",
   "execution_count": 44,
   "metadata": {},
   "outputs": [],
   "source": [
    "arr1=[]\n",
    "\n",
    "for k2,arr in mydic.items():\n",
    "    for i in range(arr):\n",
    "        arr1.append(k2)\n",
    "\n",
    "for k2,arr in mhcdic.items():\n",
    "    for i in range(arr):\n",
    "        arr1.append(k2)"
   ]
  },
  {
   "cell_type": "code",
   "execution_count": 45,
   "metadata": {},
   "outputs": [
    {
     "name": "stdout",
     "output_type": "stream",
     "text": [
      "mean 1.3436790310370932\n",
      "dev 0.9961962935046483\n"
     ]
    },
    {
     "data": {
      "text/plain": [
       "7.680823247073226"
      ]
     },
     "execution_count": 45,
     "metadata": {},
     "output_type": "execute_result"
    }
   ],
   "source": [
    "mean_1=np.mean(arr1)\n",
    "dev1=np.std(arr1)\n",
    "print(\"mean\",mean_1)\n",
    "print(\"dev\",dev1)\n",
    "mid_res=stats.norm.ppf(0.9999999999,mean_1,dev1)\n",
    "mid_res"
   ]
  },
  {
   "cell_type": "code",
   "execution_count": 46,
   "metadata": {},
   "outputs": [],
   "source": [
    "\n",
    "def getAllPositions(filepath):\n",
    "    pos=[]\n",
    "    #vcf_in=vcf(filepath)\n",
    "    vcf_file = pysam.VariantFile(filepath)\n",
    "    for record in vcf_file:\n",
    "\n",
    "        pos.append(record.pos)\n",
    "    pos=sorted(list(set(pos)))\n",
    "    return pos"
   ]
  },
  {
   "cell_type": "code",
   "execution_count": 47,
   "metadata": {},
   "outputs": [],
   "source": [
    "def findPosition(filepath,start,length):\n",
    "    arr=[]\n",
    "    allpos=getAllPositions(filepath=filepath)\n",
    "    arr.append(allpos[start*1000])\n",
    "    if (start+length)*1000-1<len(allpos):\n",
    "        end=allpos[(start+length)*1000-1]\n",
    "    else:\n",
    "        end=allpos[-1]\n",
    "    arr.append(end)\n",
    "    return arr\n",
    "\n"
   ]
  },
  {
   "cell_type": "code",
   "execution_count": 48,
   "metadata": {},
   "outputs": [],
   "source": [
    "# filepath=\"../../similar_region_csvfile_start_length/chr1_xab_start_lenth.csv\"\n"
   ]
  },
  {
   "cell_type": "code",
   "execution_count": 49,
   "metadata": {},
   "outputs": [],
   "source": [
    "# csv_data = pd.read_csv(filepath, low_memory = False)\n",
    "# csv_df = pd.DataFrame(csv_data)\n",
    "# arr_start=np.array(csv_df['start'])\n",
    "# arr_length=np.array(csv_df['length'])\n",
    "\n",
    "# mydic=dict()\n",
    "# midarr=[]\n",
    "# for i in range(len(arr_start)):\n",
    "#     mydic[arr_start[i]]=arr_length[i]\n",
    "# mydic"
   ]
  },
  {
   "cell_type": "code",
   "execution_count": 50,
   "metadata": {},
   "outputs": [],
   "source": [
    "\n",
    "def GetPosition(filepath,res,threshold):\n",
    "    csv_data = pd.read_csv(filepath, low_memory = False)\n",
    "    csv_df = pd.DataFrame(csv_data)\n",
    "    arr_start=np.array(csv_df['start'])\n",
    "    arr_length=np.array(csv_df['length'])\n",
    "    mydic=dict()\n",
    "    midarr=[]\n",
    "    for i in range(len(arr_start)):\n",
    "        mydic[arr_start[i]]=arr_length[i]\n",
    "    filename=(filepath.split(\"/\")[-1]).split(\"_start_lenth.csv\")[0]\n",
    "    findfoldername=\"split_\"+filename.split(\"_\")[0]\n",
    "    findfoldername_filename=filename.split(\"_\")[1].split(\".\")[0]\n",
    "    filepath=\"../../\"+findfoldername+\"/\"+findfoldername_filename+\".vcf.gz\"\n",
    "    for k,v in mydic.items():\n",
    "        if v>=threshold:\n",
    "            print(\"filepath\",filepath)\n",
    "            midarr.append(findPosition(filepath=filepath,start=k,length=v))\n",
    "            \n",
    "        else:\n",
    "            continue\n",
    "    if midarr!=[]:\n",
    "        res[findfoldername+\"_\"+findfoldername_filename]=midarr\n",
    "    return res"
   ]
  },
  {
   "cell_type": "code",
   "execution_count": 51,
   "metadata": {},
   "outputs": [],
   "source": [
    "def getPositionforMHC(res):\n",
    "    mhc_start_length_path=\"/data2/wangxuedong/mhc_test_data/similar_region_csvfile_start_length/mhc_start_lenth.csv\"\n",
    "    csv_data = pd.read_csv(mhc_start_length_path, low_memory = False)\n",
    "    csv_df = pd.DataFrame(csv_data)\n",
    "    arr_start=np.array(csv_df['start'])\n",
    "    arr_length=np.array(csv_df['length'])\n",
    "    mydic=dict()\n",
    "    midarr=[]\n",
    "    for i in range(len(arr_start)):\n",
    "        mydic[arr_start[i]]=arr_length[i]\n",
    "    for k,v in mydic.items():\n",
    "        if v>=8:\n",
    "            midarr.append(findPosition(filepath=\"../../mhcdataset/1kgp.29720000-33130000.vcf\",start=k,length=v))            \n",
    "        else:\n",
    "            continue\n",
    "    res[\"MHC\"]=midarr\n",
    "    return res\n",
    "            \n",
    "\n"
   ]
  },
  {
   "cell_type": "code",
   "execution_count": 52,
   "metadata": {},
   "outputs": [],
   "source": [
    "res=dict()\n",
    "mhcres=dict()\n",
    "for curDir, dirs, files in os.walk(top=\"../../similar_region_csvfile_start_length/\"):\n",
    "    for file in files:\n",
    "            filename=file[:file.index(\".\")]\n",
    "            if filename!=\"mhc_start_lenth\":\n",
    "                filepath=os.path.join(curDir,file)\n",
    "                GetPosition(filepath=filepath,res=res,threshold=8)\n",
    "            else:\n",
    "                getPositionforMHC(res=mhcres)"
   ]
  },
  {
   "cell_type": "code",
   "execution_count": 53,
   "metadata": {},
   "outputs": [
    {
     "data": {
      "text/plain": [
       "{}"
      ]
     },
     "execution_count": 53,
     "metadata": {},
     "output_type": "execute_result"
    }
   ],
   "source": [
    "res"
   ]
  },
  {
   "cell_type": "code",
   "execution_count": 54,
   "metadata": {},
   "outputs": [
    {
     "data": {
      "text/plain": [
       "{'MHC': [[29720403, 30048796], [30994370, 31528792], [32212726, 32882258]]}"
      ]
     },
     "execution_count": 54,
     "metadata": {},
     "output_type": "execute_result"
    }
   ],
   "source": [
    "mhcres"
   ]
  },
  {
   "cell_type": "code",
   "execution_count": null,
   "metadata": {},
   "outputs": [],
   "source": []
  }
 ],
 "metadata": {
  "kernelspec": {
   "display_name": "mhc",
   "language": "python",
   "name": "python3"
  },
  "language_info": {
   "codemirror_mode": {
    "name": "ipython",
    "version": 3
   },
   "file_extension": ".py",
   "mimetype": "text/x-python",
   "name": "python",
   "nbconvert_exporter": "python",
   "pygments_lexer": "ipython3",
   "version": "3.8.0"
  },
  "orig_nbformat": 4
 },
 "nbformat": 4,
 "nbformat_minor": 2
}
