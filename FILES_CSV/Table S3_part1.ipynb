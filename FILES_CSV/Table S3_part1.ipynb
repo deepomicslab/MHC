{
 "cells": [
  {
   "cell_type": "code",
   "execution_count": 1,
   "metadata": {},
   "outputs": [
    {
     "name": "stdout",
     "output_type": "stream",
     "text": [
      "continue [82, 'CEU', 0, 'chr17:45825257-46352295', 'ENSG00000238723', 'Y_RNA', 'chr17:46215070-46215171', 'R', 'Y RNA [Source:RFAM;Acc:RF00019]']\n",
      "continue [89, 'CEU', 0, 'chr17:45825257-46352295', 'ENSG00000265411', 'RN7SL656P', 'chr17:46319679-46319959', 'F', 'RNA, 7SL, cytoplasmic 656, pseudogene [Source:HGNC Symbol;Acc:HGNC:46672]']\n",
      "continue [117, 'CLM', 0, 'chr17:45825257-46352295', 'ENSG00000238723', 'Y_RNA', 'chr17:46215070-46215171', 'R', 'Y RNA [Source:RFAM;Acc:RF00019]']\n",
      "continue [124, 'CLM', 0, 'chr17:45825257-46352295', 'ENSG00000265411', 'RN7SL656P', 'chr17:46319679-46319959', 'F', 'RNA, 7SL, cytoplasmic 656, pseudogene [Source:HGNC Symbol;Acc:HGNC:46672]']\n",
      "continue [171, 'GBR', 0, 'chr17:45825257-46352295', 'ENSG00000238723', 'Y_RNA', 'chr17:46215070-46215171', 'R', 'Y RNA [Source:RFAM;Acc:RF00019]']\n",
      "continue [178, 'GBR', 0, 'chr17:45825257-46352295', 'ENSG00000265411', 'RN7SL656P', 'chr17:46319679-46319959', 'F', 'RNA, 7SL, cytoplasmic 656, pseudogene [Source:HGNC Symbol;Acc:HGNC:46672]']\n",
      "continue [244, 'IBS', 0, 'chr17:45825257-46352295', 'ENSG00000238723', 'Y_RNA', 'chr17:46215070-46215171', 'R', 'Y RNA [Source:RFAM;Acc:RF00019]']\n",
      "continue [251, 'IBS', 0, 'chr17:45825257-46352295', 'ENSG00000265411', 'RN7SL656P', 'chr17:46319679-46319959', 'F', 'RNA, 7SL, cytoplasmic 656, pseudogene [Source:HGNC Symbol;Acc:HGNC:46672]']\n"
     ]
    },
    {
     "name": "stderr",
     "output_type": "stream",
     "text": [
      "/home/wangxuedong/app/miniconda3/envs/mhc/lib/python3.8/site-packages/numpy/core/_methods.py:265: RuntimeWarning: Degrees of freedom <= 0 for slice\n",
      "  ret = _var(a, axis=axis, dtype=dtype, out=out, ddof=ddof,\n",
      "/home/wangxuedong/app/miniconda3/envs/mhc/lib/python3.8/site-packages/numpy/core/_methods.py:257: RuntimeWarning: invalid value encountered in double_scalars\n",
      "  ret = ret.dtype.type(ret / rcount)\n"
     ]
    },
    {
     "name": "stdout",
     "output_type": "stream",
     "text": [
      "continue [343, 'PUR', 0, 'chr17:45825257-46352295', 'ENSG00000238723', 'Y_RNA', 'chr17:46215070-46215171', 'R', 'Y RNA [Source:RFAM;Acc:RF00019]']\n",
      "continue [350, 'PUR', 0, 'chr17:45825257-46352295', 'ENSG00000265411', 'RN7SL656P', 'chr17:46319679-46319959', 'F', 'RNA, 7SL, cytoplasmic 656, pseudogene [Source:HGNC Symbol;Acc:HGNC:46672]']\n",
      "continue [388, 'TSI', 0, 'chr17:45825257-46352295', 'ENSG00000238723', 'Y_RNA', 'chr17:46215070-46215171', 'R', 'Y RNA [Source:RFAM;Acc:RF00019]']\n",
      "continue [395, 'TSI', 0, 'chr17:45825257-46352295', 'ENSG00000265411', 'RN7SL656P', 'chr17:46319679-46319959', 'F', 'RNA, 7SL, cytoplasmic 656, pseudogene [Source:HGNC Symbol;Acc:HGNC:46672]']\n",
      "continue [434, 'ACB', 1, 'chr6:29720403-30011739', 'ENSG00000270896', nan, 'chr6:29763258-29763392', 'R', 'mitochondrial coiled-coil domain 1 (MCCD1) pseudogene']\n"
     ]
    },
    {
     "name": "stderr",
     "output_type": "stream",
     "text": [
      "/home/wangxuedong/app/miniconda3/envs/mhc/lib/python3.8/site-packages/numpy/core/_methods.py:265: RuntimeWarning: Degrees of freedom <= 0 for slice\n",
      "  ret = _var(a, axis=axis, dtype=dtype, out=out, ddof=ddof,\n",
      "/home/wangxuedong/app/miniconda3/envs/mhc/lib/python3.8/site-packages/numpy/core/_methods.py:257: RuntimeWarning: invalid value encountered in double_scalars\n",
      "  ret = ret.dtype.type(ret / rcount)\n"
     ]
    },
    {
     "name": "stdout",
     "output_type": "stream",
     "text": [
      "continue [489, 'ACB', 1, 'chr6:30994370-31528792', 'ENSG00000277402', 'MIR6891', 'chr6:31355224-31355316', 'R', 'microRNA 6891 [Source:HGNC Symbol;Acc:HGNC:50243]']\n",
      "continue [549, 'All', 1, 'chr6:29720403-29913914', 'ENSG00000270896', nan, 'chr6:29763258-29763392', 'R', 'mitochondrial coiled-coil domain 1 (MCCD1) pseudogene']\n"
     ]
    },
    {
     "name": "stderr",
     "output_type": "stream",
     "text": [
      "/home/wangxuedong/app/miniconda3/envs/mhc/lib/python3.8/site-packages/numpy/core/_methods.py:265: RuntimeWarning: Degrees of freedom <= 0 for slice\n",
      "  ret = _var(a, axis=axis, dtype=dtype, out=out, ddof=ddof,\n",
      "/home/wangxuedong/app/miniconda3/envs/mhc/lib/python3.8/site-packages/numpy/core/_methods.py:257: RuntimeWarning: invalid value encountered in double_scalars\n",
      "  ret = ret.dtype.type(ret / rcount)\n"
     ]
    },
    {
     "name": "stdout",
     "output_type": "stream",
     "text": [
      "continue [591, 'All', 1, 'chr6:30994370-31528792', 'ENSG00000277402', 'MIR6891', 'chr6:31355224-31355316', 'R', 'microRNA 6891 [Source:HGNC Symbol;Acc:HGNC:50243]']\n",
      "continue [651, 'ASW', 1, 'chr6:29720403-30120966', 'ENSG00000270896', nan, 'chr6:29763258-29763392', 'R', 'mitochondrial coiled-coil domain 1 (MCCD1) pseudogene']\n"
     ]
    },
    {
     "name": "stderr",
     "output_type": "stream",
     "text": [
      "/home/wangxuedong/app/miniconda3/envs/mhc/lib/python3.8/site-packages/numpy/core/_methods.py:265: RuntimeWarning: Degrees of freedom <= 0 for slice\n",
      "  ret = _var(a, axis=axis, dtype=dtype, out=out, ddof=ddof,\n",
      "/home/wangxuedong/app/miniconda3/envs/mhc/lib/python3.8/site-packages/numpy/core/_methods.py:257: RuntimeWarning: invalid value encountered in double_scalars\n",
      "  ret = ret.dtype.type(ret / rcount)\n"
     ]
    },
    {
     "name": "stdout",
     "output_type": "stream",
     "text": [
      "continue [684, 'ASW', 1, 'chr6:29720403-30120966', 'ENSG00000275856', nan, 'chr6:30058115-30058190', 'F', nan]\n"
     ]
    },
    {
     "name": "stderr",
     "output_type": "stream",
     "text": [
      "/home/wangxuedong/app/miniconda3/envs/mhc/lib/python3.8/site-packages/numpy/core/_methods.py:265: RuntimeWarning: Degrees of freedom <= 0 for slice\n",
      "  ret = _var(a, axis=axis, dtype=dtype, out=out, ddof=ddof,\n",
      "/home/wangxuedong/app/miniconda3/envs/mhc/lib/python3.8/site-packages/numpy/core/_methods.py:257: RuntimeWarning: invalid value encountered in double_scalars\n",
      "  ret = ret.dtype.type(ret / rcount)\n"
     ]
    },
    {
     "name": "stdout",
     "output_type": "stream",
     "text": [
      "continue [715, 'ASW', 1, 'chr6:31052133-31528792', 'ENSG00000277402', 'MIR6891', 'chr6:31355224-31355316', 'R', 'microRNA 6891 [Source:HGNC Symbol;Acc:HGNC:50243]']\n",
      "continue [775, 'BEB', 1, 'chr6:29720403-30011739', 'ENSG00000270896', nan, 'chr6:29763258-29763392', 'R', 'mitochondrial coiled-coil domain 1 (MCCD1) pseudogene']\n"
     ]
    },
    {
     "name": "stderr",
     "output_type": "stream",
     "text": [
      "/home/wangxuedong/app/miniconda3/envs/mhc/lib/python3.8/site-packages/numpy/core/_methods.py:265: RuntimeWarning: Degrees of freedom <= 0 for slice\n",
      "  ret = _var(a, axis=axis, dtype=dtype, out=out, ddof=ddof,\n",
      "/home/wangxuedong/app/miniconda3/envs/mhc/lib/python3.8/site-packages/numpy/core/_methods.py:257: RuntimeWarning: invalid value encountered in double_scalars\n",
      "  ret = ret.dtype.type(ret / rcount)\n"
     ]
    },
    {
     "name": "stdout",
     "output_type": "stream",
     "text": [
      "continue [830, 'BEB', 1, 'chr6:30994370-31528792', 'ENSG00000277402', 'MIR6891', 'chr6:31355224-31355316', 'R', 'microRNA 6891 [Source:HGNC Symbol;Acc:HGNC:50243]']\n"
     ]
    },
    {
     "name": "stderr",
     "output_type": "stream",
     "text": [
      "/home/wangxuedong/app/miniconda3/envs/mhc/lib/python3.8/site-packages/numpy/core/_methods.py:265: RuntimeWarning: Degrees of freedom <= 0 for slice\n",
      "  ret = _var(a, axis=axis, dtype=dtype, out=out, ddof=ddof,\n",
      "/home/wangxuedong/app/miniconda3/envs/mhc/lib/python3.8/site-packages/numpy/core/_methods.py:257: RuntimeWarning: invalid value encountered in double_scalars\n",
      "  ret = ret.dtype.type(ret / rcount)\n"
     ]
    },
    {
     "name": "stdout",
     "output_type": "stream",
     "text": [
      "continue [905, 'CDX', 1, 'chr6:30994370-31528792', 'ENSG00000277402', 'MIR6891', 'chr6:31355224-31355316', 'R', 'microRNA 6891 [Source:HGNC Symbol;Acc:HGNC:50243]']\n",
      "continue [957, 'CDX', 1, 'chr6:32212726-32923168', 'ENSG00000235301', 'HLA-Z', 'chr6:32896416-32896490', 'F', 'major histocompatibility complex, class I, Z (pseudogene) [Source:HGNC Symbol;Acc:HGNC:19394]']\n"
     ]
    },
    {
     "name": "stderr",
     "output_type": "stream",
     "text": [
      "/home/wangxuedong/app/miniconda3/envs/mhc/lib/python3.8/site-packages/numpy/core/_methods.py:265: RuntimeWarning: Degrees of freedom <= 0 for slice\n",
      "  ret = _var(a, axis=axis, dtype=dtype, out=out, ddof=ddof,\n",
      "/home/wangxuedong/app/miniconda3/envs/mhc/lib/python3.8/site-packages/numpy/core/_methods.py:257: RuntimeWarning: invalid value encountered in double_scalars\n",
      "  ret = ret.dtype.type(ret / rcount)\n"
     ]
    },
    {
     "name": "stdout",
     "output_type": "stream",
     "text": [
      "continue [983, 'CEU', 1, 'chr6:30994370-31528792', 'ENSG00000277402', 'MIR6891', 'chr6:31355224-31355316', 'R', 'microRNA 6891 [Source:HGNC Symbol;Acc:HGNC:50243]']\n",
      "continue [1043, 'CHB', 1, 'chr6:29720403-29913914', 'ENSG00000270896', nan, 'chr6:29763258-29763392', 'R', 'mitochondrial coiled-coil domain 1 (MCCD1) pseudogene']\n"
     ]
    },
    {
     "name": "stderr",
     "output_type": "stream",
     "text": [
      "/home/wangxuedong/app/miniconda3/envs/mhc/lib/python3.8/site-packages/numpy/core/_methods.py:265: RuntimeWarning: Degrees of freedom <= 0 for slice\n",
      "  ret = _var(a, axis=axis, dtype=dtype, out=out, ddof=ddof,\n",
      "/home/wangxuedong/app/miniconda3/envs/mhc/lib/python3.8/site-packages/numpy/core/_methods.py:257: RuntimeWarning: invalid value encountered in double_scalars\n",
      "  ret = ret.dtype.type(ret / rcount)\n"
     ]
    },
    {
     "name": "stdout",
     "output_type": "stream",
     "text": [
      "continue [1073, 'CHB', 1, 'chr6:29939668-30154438', 'ENSG00000275856', nan, 'chr6:30058115-30058190', 'F', nan]\n"
     ]
    },
    {
     "name": "stderr",
     "output_type": "stream",
     "text": [
      "/home/wangxuedong/app/miniconda3/envs/mhc/lib/python3.8/site-packages/numpy/core/_methods.py:265: RuntimeWarning: Degrees of freedom <= 0 for slice\n",
      "  ret = _var(a, axis=axis, dtype=dtype, out=out, ddof=ddof,\n",
      "/home/wangxuedong/app/miniconda3/envs/mhc/lib/python3.8/site-packages/numpy/core/_methods.py:257: RuntimeWarning: invalid value encountered in double_scalars\n",
      "  ret = ret.dtype.type(ret / rcount)\n"
     ]
    },
    {
     "name": "stdout",
     "output_type": "stream",
     "text": [
      "continue [1107, 'CHB', 1, 'chr6:30994370-31528792', 'ENSG00000277402', 'MIR6891', 'chr6:31355224-31355316', 'R', 'microRNA 6891 [Source:HGNC Symbol;Acc:HGNC:50243]']\n",
      "continue [1167, 'CHS', 1, 'chr6:29720403-29896285', 'ENSG00000270896', nan, 'chr6:29763258-29763392', 'R', 'mitochondrial coiled-coil domain 1 (MCCD1) pseudogene']\n"
     ]
    },
    {
     "name": "stderr",
     "output_type": "stream",
     "text": [
      "/home/wangxuedong/app/miniconda3/envs/mhc/lib/python3.8/site-packages/numpy/core/_methods.py:265: RuntimeWarning: Degrees of freedom <= 0 for slice\n",
      "  ret = _var(a, axis=axis, dtype=dtype, out=out, ddof=ddof,\n",
      "/home/wangxuedong/app/miniconda3/envs/mhc/lib/python3.8/site-packages/numpy/core/_methods.py:257: RuntimeWarning: invalid value encountered in double_scalars\n",
      "  ret = ret.dtype.type(ret / rcount)\n"
     ]
    },
    {
     "name": "stdout",
     "output_type": "stream",
     "text": [
      "continue [1206, 'CHS', 1, 'chr6:30994370-31528792', 'ENSG00000277402', 'MIR6891', 'chr6:31355224-31355316', 'R', 'microRNA 6891 [Source:HGNC Symbol;Acc:HGNC:50243]']\n",
      "continue [1261, 'CLM', 1, 'chr6:29720403-29913914', 'ENSG00000270896', nan, 'chr6:29763258-29763392', 'R', 'mitochondrial coiled-coil domain 1 (MCCD1) pseudogene']\n"
     ]
    },
    {
     "name": "stderr",
     "output_type": "stream",
     "text": [
      "/home/wangxuedong/app/miniconda3/envs/mhc/lib/python3.8/site-packages/numpy/core/_methods.py:265: RuntimeWarning: Degrees of freedom <= 0 for slice\n",
      "  ret = _var(a, axis=axis, dtype=dtype, out=out, ddof=ddof,\n",
      "/home/wangxuedong/app/miniconda3/envs/mhc/lib/python3.8/site-packages/numpy/core/_methods.py:257: RuntimeWarning: invalid value encountered in double_scalars\n",
      "  ret = ret.dtype.type(ret / rcount)\n"
     ]
    },
    {
     "name": "stdout",
     "output_type": "stream",
     "text": [
      "continue [1303, 'CLM', 1, 'chr6:30994370-31528792', 'ENSG00000277402', 'MIR6891', 'chr6:31355224-31355316', 'R', 'microRNA 6891 [Source:HGNC Symbol;Acc:HGNC:50243]']\n",
      "continue [1363, 'ESN', 1, 'chr6:29720403-30120966', 'ENSG00000270896', nan, 'chr6:29763258-29763392', 'R', 'mitochondrial coiled-coil domain 1 (MCCD1) pseudogene']\n"
     ]
    },
    {
     "name": "stderr",
     "output_type": "stream",
     "text": [
      "/home/wangxuedong/app/miniconda3/envs/mhc/lib/python3.8/site-packages/numpy/core/_methods.py:265: RuntimeWarning: Degrees of freedom <= 0 for slice\n",
      "  ret = _var(a, axis=axis, dtype=dtype, out=out, ddof=ddof,\n",
      "/home/wangxuedong/app/miniconda3/envs/mhc/lib/python3.8/site-packages/numpy/core/_methods.py:257: RuntimeWarning: invalid value encountered in double_scalars\n",
      "  ret = ret.dtype.type(ret / rcount)\n"
     ]
    },
    {
     "name": "stdout",
     "output_type": "stream",
     "text": [
      "continue [1396, 'ESN', 1, 'chr6:29720403-30120966', 'ENSG00000275856', nan, 'chr6:30058115-30058190', 'F', nan]\n"
     ]
    },
    {
     "name": "stderr",
     "output_type": "stream",
     "text": [
      "/home/wangxuedong/app/miniconda3/envs/mhc/lib/python3.8/site-packages/numpy/core/_methods.py:265: RuntimeWarning: Degrees of freedom <= 0 for slice\n",
      "  ret = _var(a, axis=axis, dtype=dtype, out=out, ddof=ddof,\n",
      "/home/wangxuedong/app/miniconda3/envs/mhc/lib/python3.8/site-packages/numpy/core/_methods.py:257: RuntimeWarning: invalid value encountered in double_scalars\n",
      "  ret = ret.dtype.type(ret / rcount)\n"
     ]
    },
    {
     "name": "stdout",
     "output_type": "stream",
     "text": [
      "continue [1428, 'ESN', 1, 'chr6:30994370-31528792', 'ENSG00000277402', 'MIR6891', 'chr6:31355224-31355316', 'R', 'microRNA 6891 [Source:HGNC Symbol;Acc:HGNC:50243]']\n"
     ]
    },
    {
     "name": "stderr",
     "output_type": "stream",
     "text": [
      "/home/wangxuedong/app/miniconda3/envs/mhc/lib/python3.8/site-packages/numpy/core/_methods.py:265: RuntimeWarning: Degrees of freedom <= 0 for slice\n",
      "  ret = _var(a, axis=axis, dtype=dtype, out=out, ddof=ddof,\n",
      "/home/wangxuedong/app/miniconda3/envs/mhc/lib/python3.8/site-packages/numpy/core/_methods.py:257: RuntimeWarning: invalid value encountered in double_scalars\n",
      "  ret = ret.dtype.type(ret / rcount)\n"
     ]
    },
    {
     "name": "stdout",
     "output_type": "stream",
     "text": [
      "continue [1498, 'FIN', 1, 'chr6:30994370-31528792', 'ENSG00000277402', 'MIR6891', 'chr6:31355224-31355316', 'R', 'microRNA 6891 [Source:HGNC Symbol;Acc:HGNC:50243]']\n"
     ]
    },
    {
     "name": "stderr",
     "output_type": "stream",
     "text": [
      "/home/wangxuedong/app/miniconda3/envs/mhc/lib/python3.8/site-packages/numpy/core/_methods.py:265: RuntimeWarning: Degrees of freedom <= 0 for slice\n",
      "  ret = _var(a, axis=axis, dtype=dtype, out=out, ddof=ddof,\n",
      "/home/wangxuedong/app/miniconda3/envs/mhc/lib/python3.8/site-packages/numpy/core/_methods.py:257: RuntimeWarning: invalid value encountered in double_scalars\n",
      "  ret = ret.dtype.type(ret / rcount)\n"
     ]
    },
    {
     "name": "stdout",
     "output_type": "stream",
     "text": [
      "continue [1573, 'GBR', 1, 'chr6:30994370-31528792', 'ENSG00000277402', 'MIR6891', 'chr6:31355224-31355316', 'R', 'microRNA 6891 [Source:HGNC Symbol;Acc:HGNC:50243]']\n",
      "continue [1633, 'GIH', 1, 'chr6:29720403-29913914', 'ENSG00000270896', nan, 'chr6:29763258-29763392', 'R', 'mitochondrial coiled-coil domain 1 (MCCD1) pseudogene']\n"
     ]
    },
    {
     "name": "stderr",
     "output_type": "stream",
     "text": [
      "/home/wangxuedong/app/miniconda3/envs/mhc/lib/python3.8/site-packages/numpy/core/_methods.py:265: RuntimeWarning: Degrees of freedom <= 0 for slice\n",
      "  ret = _var(a, axis=axis, dtype=dtype, out=out, ddof=ddof,\n",
      "/home/wangxuedong/app/miniconda3/envs/mhc/lib/python3.8/site-packages/numpy/core/_methods.py:257: RuntimeWarning: invalid value encountered in double_scalars\n",
      "  ret = ret.dtype.type(ret / rcount)\n"
     ]
    },
    {
     "name": "stdout",
     "output_type": "stream",
     "text": [
      "continue [1675, 'GIH', 1, 'chr6:30994370-31528792', 'ENSG00000277402', 'MIR6891', 'chr6:31355224-31355316', 'R', 'microRNA 6891 [Source:HGNC Symbol;Acc:HGNC:50243]']\n",
      "continue [1735, 'GWD', 1, 'chr6:29720403-30120966', 'ENSG00000270896', nan, 'chr6:29763258-29763392', 'R', 'mitochondrial coiled-coil domain 1 (MCCD1) pseudogene']\n"
     ]
    },
    {
     "name": "stderr",
     "output_type": "stream",
     "text": [
      "/home/wangxuedong/app/miniconda3/envs/mhc/lib/python3.8/site-packages/numpy/core/_methods.py:265: RuntimeWarning: Degrees of freedom <= 0 for slice\n",
      "  ret = _var(a, axis=axis, dtype=dtype, out=out, ddof=ddof,\n",
      "/home/wangxuedong/app/miniconda3/envs/mhc/lib/python3.8/site-packages/numpy/core/_methods.py:257: RuntimeWarning: invalid value encountered in double_scalars\n",
      "  ret = ret.dtype.type(ret / rcount)\n"
     ]
    },
    {
     "name": "stdout",
     "output_type": "stream",
     "text": [
      "continue [1768, 'GWD', 1, 'chr6:29720403-30120966', 'ENSG00000275856', nan, 'chr6:30058115-30058190', 'F', nan]\n"
     ]
    },
    {
     "name": "stderr",
     "output_type": "stream",
     "text": [
      "/home/wangxuedong/app/miniconda3/envs/mhc/lib/python3.8/site-packages/numpy/core/_methods.py:265: RuntimeWarning: Degrees of freedom <= 0 for slice\n",
      "  ret = _var(a, axis=axis, dtype=dtype, out=out, ddof=ddof,\n",
      "/home/wangxuedong/app/miniconda3/envs/mhc/lib/python3.8/site-packages/numpy/core/_methods.py:257: RuntimeWarning: invalid value encountered in double_scalars\n",
      "  ret = ret.dtype.type(ret / rcount)\n"
     ]
    },
    {
     "name": "stdout",
     "output_type": "stream",
     "text": [
      "continue [1799, 'GWD', 1, 'chr6:31052133-31528792', 'ENSG00000277402', 'MIR6891', 'chr6:31355224-31355316', 'R', 'microRNA 6891 [Source:HGNC Symbol;Acc:HGNC:50243]']\n",
      "continue [1859, 'IBS', 1, 'chr6:29720403-29896285', 'ENSG00000270896', nan, 'chr6:29763258-29763392', 'R', 'mitochondrial coiled-coil domain 1 (MCCD1) pseudogene']\n"
     ]
    },
    {
     "name": "stderr",
     "output_type": "stream",
     "text": [
      "/home/wangxuedong/app/miniconda3/envs/mhc/lib/python3.8/site-packages/numpy/core/_methods.py:265: RuntimeWarning: Degrees of freedom <= 0 for slice\n",
      "  ret = _var(a, axis=axis, dtype=dtype, out=out, ddof=ddof,\n",
      "/home/wangxuedong/app/miniconda3/envs/mhc/lib/python3.8/site-packages/numpy/core/_methods.py:257: RuntimeWarning: invalid value encountered in double_scalars\n",
      "  ret = ret.dtype.type(ret / rcount)\n"
     ]
    },
    {
     "name": "stdout",
     "output_type": "stream",
     "text": [
      "continue [1898, 'IBS', 1, 'chr6:30994370-31528792', 'ENSG00000277402', 'MIR6891', 'chr6:31355224-31355316', 'R', 'microRNA 6891 [Source:HGNC Symbol;Acc:HGNC:50243]']\n",
      "continue [1958, 'ITU', 1, 'chr6:29720403-30011739', 'ENSG00000270896', nan, 'chr6:29763258-29763392', 'R', 'mitochondrial coiled-coil domain 1 (MCCD1) pseudogene']\n"
     ]
    },
    {
     "name": "stderr",
     "output_type": "stream",
     "text": [
      "/home/wangxuedong/app/miniconda3/envs/mhc/lib/python3.8/site-packages/numpy/core/_methods.py:265: RuntimeWarning: Degrees of freedom <= 0 for slice\n",
      "  ret = _var(a, axis=axis, dtype=dtype, out=out, ddof=ddof,\n",
      "/home/wangxuedong/app/miniconda3/envs/mhc/lib/python3.8/site-packages/numpy/core/_methods.py:257: RuntimeWarning: invalid value encountered in double_scalars\n",
      "  ret = ret.dtype.type(ret / rcount)\n"
     ]
    },
    {
     "name": "stdout",
     "output_type": "stream",
     "text": [
      "continue [2012, 'ITU', 1, 'chr6:31052133-31528792', 'ENSG00000277402', 'MIR6891', 'chr6:31355224-31355316', 'R', 'microRNA 6891 [Source:HGNC Symbol;Acc:HGNC:50243]']\n",
      "continue [2072, 'JPT', 1, 'chr6:29720403-29913914', 'ENSG00000270896', nan, 'chr6:29763258-29763392', 'R', 'mitochondrial coiled-coil domain 1 (MCCD1) pseudogene']\n"
     ]
    },
    {
     "name": "stderr",
     "output_type": "stream",
     "text": [
      "/home/wangxuedong/app/miniconda3/envs/mhc/lib/python3.8/site-packages/numpy/core/_methods.py:265: RuntimeWarning: Degrees of freedom <= 0 for slice\n",
      "  ret = _var(a, axis=axis, dtype=dtype, out=out, ddof=ddof,\n",
      "/home/wangxuedong/app/miniconda3/envs/mhc/lib/python3.8/site-packages/numpy/core/_methods.py:257: RuntimeWarning: invalid value encountered in double_scalars\n",
      "  ret = ret.dtype.type(ret / rcount)\n"
     ]
    },
    {
     "name": "stdout",
     "output_type": "stream",
     "text": [
      "continue [2102, 'JPT', 1, 'chr6:29939668-30120966', 'ENSG00000275856', nan, 'chr6:30058115-30058190', 'F', nan]\n"
     ]
    },
    {
     "name": "stderr",
     "output_type": "stream",
     "text": [
      "/home/wangxuedong/app/miniconda3/envs/mhc/lib/python3.8/site-packages/numpy/core/_methods.py:265: RuntimeWarning: Degrees of freedom <= 0 for slice\n",
      "  ret = _var(a, axis=axis, dtype=dtype, out=out, ddof=ddof,\n",
      "/home/wangxuedong/app/miniconda3/envs/mhc/lib/python3.8/site-packages/numpy/core/_methods.py:257: RuntimeWarning: invalid value encountered in double_scalars\n",
      "  ret = ret.dtype.type(ret / rcount)\n"
     ]
    },
    {
     "name": "stdout",
     "output_type": "stream",
     "text": [
      "continue [2134, 'JPT', 1, 'chr6:30994370-31528792', 'ENSG00000277402', 'MIR6891', 'chr6:31355224-31355316', 'R', 'microRNA 6891 [Source:HGNC Symbol;Acc:HGNC:50243]']\n",
      "continue [2194, 'KHV', 1, 'chr6:29720403-30120966', 'ENSG00000270896', nan, 'chr6:29763258-29763392', 'R', 'mitochondrial coiled-coil domain 1 (MCCD1) pseudogene']\n"
     ]
    },
    {
     "name": "stderr",
     "output_type": "stream",
     "text": [
      "/home/wangxuedong/app/miniconda3/envs/mhc/lib/python3.8/site-packages/numpy/core/_methods.py:265: RuntimeWarning: Degrees of freedom <= 0 for slice\n",
      "  ret = _var(a, axis=axis, dtype=dtype, out=out, ddof=ddof,\n",
      "/home/wangxuedong/app/miniconda3/envs/mhc/lib/python3.8/site-packages/numpy/core/_methods.py:257: RuntimeWarning: invalid value encountered in double_scalars\n",
      "  ret = ret.dtype.type(ret / rcount)\n"
     ]
    },
    {
     "name": "stdout",
     "output_type": "stream",
     "text": [
      "continue [2227, 'KHV', 1, 'chr6:29720403-30120966', 'ENSG00000275856', nan, 'chr6:30058115-30058190', 'F', nan]\n"
     ]
    },
    {
     "name": "stderr",
     "output_type": "stream",
     "text": [
      "/home/wangxuedong/app/miniconda3/envs/mhc/lib/python3.8/site-packages/numpy/core/_methods.py:265: RuntimeWarning: Degrees of freedom <= 0 for slice\n",
      "  ret = _var(a, axis=axis, dtype=dtype, out=out, ddof=ddof,\n",
      "/home/wangxuedong/app/miniconda3/envs/mhc/lib/python3.8/site-packages/numpy/core/_methods.py:257: RuntimeWarning: invalid value encountered in double_scalars\n",
      "  ret = ret.dtype.type(ret / rcount)\n"
     ]
    },
    {
     "name": "stdout",
     "output_type": "stream",
     "text": [
      "continue [2259, 'KHV', 1, 'chr6:30994370-31528792', 'ENSG00000277402', 'MIR6891', 'chr6:31355224-31355316', 'R', 'microRNA 6891 [Source:HGNC Symbol;Acc:HGNC:50243]']\n",
      "continue [2311, 'KHV', 1, 'chr6:32212726-32923168', 'ENSG00000235301', 'HLA-Z', 'chr6:32896416-32896490', 'F', 'major histocompatibility complex, class I, Z (pseudogene) [Source:HGNC Symbol;Acc:HGNC:19394]']\n",
      "continue [2322, 'LWK', 1, 'chr6:29720403-30011739', 'ENSG00000270896', nan, 'chr6:29763258-29763392', 'R', 'mitochondrial coiled-coil domain 1 (MCCD1) pseudogene']\n"
     ]
    },
    {
     "name": "stderr",
     "output_type": "stream",
     "text": [
      "/home/wangxuedong/app/miniconda3/envs/mhc/lib/python3.8/site-packages/numpy/core/_methods.py:265: RuntimeWarning: Degrees of freedom <= 0 for slice\n",
      "  ret = _var(a, axis=axis, dtype=dtype, out=out, ddof=ddof,\n",
      "/home/wangxuedong/app/miniconda3/envs/mhc/lib/python3.8/site-packages/numpy/core/_methods.py:257: RuntimeWarning: invalid value encountered in double_scalars\n",
      "  ret = ret.dtype.type(ret / rcount)\n"
     ]
    },
    {
     "name": "stdout",
     "output_type": "stream",
     "text": [
      "continue [2376, 'LWK', 1, 'chr6:31052133-31528792', 'ENSG00000277402', 'MIR6891', 'chr6:31355224-31355316', 'R', 'microRNA 6891 [Source:HGNC Symbol;Acc:HGNC:50243]']\n",
      "continue [2423, 'LWK', 1, 'chr6:32397207-32923168', 'ENSG00000235301', 'HLA-Z', 'chr6:32896416-32896490', 'F', 'major histocompatibility complex, class I, Z (pseudogene) [Source:HGNC Symbol;Acc:HGNC:19394]']\n",
      "continue [2434, 'MSL', 1, 'chr6:29720403-30011739', 'ENSG00000270896', nan, 'chr6:29763258-29763392', 'R', 'mitochondrial coiled-coil domain 1 (MCCD1) pseudogene']\n"
     ]
    },
    {
     "name": "stderr",
     "output_type": "stream",
     "text": [
      "/home/wangxuedong/app/miniconda3/envs/mhc/lib/python3.8/site-packages/numpy/core/_methods.py:265: RuntimeWarning: Degrees of freedom <= 0 for slice\n",
      "  ret = _var(a, axis=axis, dtype=dtype, out=out, ddof=ddof,\n",
      "/home/wangxuedong/app/miniconda3/envs/mhc/lib/python3.8/site-packages/numpy/core/_methods.py:257: RuntimeWarning: invalid value encountered in double_scalars\n",
      "  ret = ret.dtype.type(ret / rcount)\n"
     ]
    },
    {
     "name": "stdout",
     "output_type": "stream",
     "text": [
      "continue [2491, 'MSL', 1, 'chr6:30959575-31528792', 'ENSG00000277402', 'MIR6891', 'chr6:31355224-31355316', 'R', 'microRNA 6891 [Source:HGNC Symbol;Acc:HGNC:50243]']\n",
      "continue [2551, 'MXL', 1, 'chr6:29720403-29913914', 'ENSG00000270896', nan, 'chr6:29763258-29763392', 'R', 'mitochondrial coiled-coil domain 1 (MCCD1) pseudogene']\n"
     ]
    },
    {
     "name": "stderr",
     "output_type": "stream",
     "text": [
      "/home/wangxuedong/app/miniconda3/envs/mhc/lib/python3.8/site-packages/numpy/core/_methods.py:265: RuntimeWarning: Degrees of freedom <= 0 for slice\n",
      "  ret = _var(a, axis=axis, dtype=dtype, out=out, ddof=ddof,\n",
      "/home/wangxuedong/app/miniconda3/envs/mhc/lib/python3.8/site-packages/numpy/core/_methods.py:257: RuntimeWarning: invalid value encountered in double_scalars\n",
      "  ret = ret.dtype.type(ret / rcount)\n"
     ]
    },
    {
     "name": "stdout",
     "output_type": "stream",
     "text": [
      "continue [2593, 'MXL', 1, 'chr6:30994370-31528792', 'ENSG00000277402', 'MIR6891', 'chr6:31355224-31355316', 'R', 'microRNA 6891 [Source:HGNC Symbol;Acc:HGNC:50243]']\n",
      "continue [2653, 'PEL', 1, 'chr6:29720403-29913914', 'ENSG00000270896', nan, 'chr6:29763258-29763392', 'R', 'mitochondrial coiled-coil domain 1 (MCCD1) pseudogene']\n"
     ]
    },
    {
     "name": "stderr",
     "output_type": "stream",
     "text": [
      "/home/wangxuedong/app/miniconda3/envs/mhc/lib/python3.8/site-packages/numpy/core/_methods.py:265: RuntimeWarning: Degrees of freedom <= 0 for slice\n",
      "  ret = _var(a, axis=axis, dtype=dtype, out=out, ddof=ddof,\n",
      "/home/wangxuedong/app/miniconda3/envs/mhc/lib/python3.8/site-packages/numpy/core/_methods.py:257: RuntimeWarning: invalid value encountered in double_scalars\n",
      "  ret = ret.dtype.type(ret / rcount)\n"
     ]
    },
    {
     "name": "stdout",
     "output_type": "stream",
     "text": [
      "continue [2697, 'PEL', 1, 'chr6:30959575-31528792', 'ENSG00000277402', 'MIR6891', 'chr6:31355224-31355316', 'R', 'microRNA 6891 [Source:HGNC Symbol;Acc:HGNC:50243]']\n",
      "continue [2755, 'PJL', 1, 'chr6:29720403-29913914', 'ENSG00000270896', nan, 'chr6:29763258-29763392', 'R', 'mitochondrial coiled-coil domain 1 (MCCD1) pseudogene']\n"
     ]
    },
    {
     "name": "stderr",
     "output_type": "stream",
     "text": [
      "/home/wangxuedong/app/miniconda3/envs/mhc/lib/python3.8/site-packages/numpy/core/_methods.py:265: RuntimeWarning: Degrees of freedom <= 0 for slice\n",
      "  ret = _var(a, axis=axis, dtype=dtype, out=out, ddof=ddof,\n",
      "/home/wangxuedong/app/miniconda3/envs/mhc/lib/python3.8/site-packages/numpy/core/_methods.py:257: RuntimeWarning: invalid value encountered in double_scalars\n",
      "  ret = ret.dtype.type(ret / rcount)\n"
     ]
    },
    {
     "name": "stdout",
     "output_type": "stream",
     "text": [
      "continue [2797, 'PJL', 1, 'chr6:30994370-31528792', 'ENSG00000277402', 'MIR6891', 'chr6:31355224-31355316', 'R', 'microRNA 6891 [Source:HGNC Symbol;Acc:HGNC:50243]']\n",
      "continue [2849, 'PJL', 1, 'chr6:32212726-32923168', 'ENSG00000235301', 'HLA-Z', 'chr6:32896416-32896490', 'F', 'major histocompatibility complex, class I, Z (pseudogene) [Source:HGNC Symbol;Acc:HGNC:19394]']\n",
      "continue [2860, 'PUR', 1, 'chr6:29720403-30011739', 'ENSG00000270896', nan, 'chr6:29763258-29763392', 'R', 'mitochondrial coiled-coil domain 1 (MCCD1) pseudogene']\n"
     ]
    },
    {
     "name": "stderr",
     "output_type": "stream",
     "text": [
      "/home/wangxuedong/app/miniconda3/envs/mhc/lib/python3.8/site-packages/numpy/core/_methods.py:265: RuntimeWarning: Degrees of freedom <= 0 for slice\n",
      "  ret = _var(a, axis=axis, dtype=dtype, out=out, ddof=ddof,\n",
      "/home/wangxuedong/app/miniconda3/envs/mhc/lib/python3.8/site-packages/numpy/core/_methods.py:257: RuntimeWarning: invalid value encountered in double_scalars\n",
      "  ret = ret.dtype.type(ret / rcount)\n"
     ]
    },
    {
     "name": "stdout",
     "output_type": "stream",
     "text": [
      "continue [2915, 'PUR', 1, 'chr6:30994370-31528792', 'ENSG00000277402', 'MIR6891', 'chr6:31355224-31355316', 'R', 'microRNA 6891 [Source:HGNC Symbol;Acc:HGNC:50243]']\n",
      "continue [2975, 'STU', 1, 'chr6:29720403-29913914', 'ENSG00000270896', nan, 'chr6:29763258-29763392', 'R', 'mitochondrial coiled-coil domain 1 (MCCD1) pseudogene']\n"
     ]
    },
    {
     "name": "stderr",
     "output_type": "stream",
     "text": [
      "/home/wangxuedong/app/miniconda3/envs/mhc/lib/python3.8/site-packages/numpy/core/_methods.py:265: RuntimeWarning: Degrees of freedom <= 0 for slice\n",
      "  ret = _var(a, axis=axis, dtype=dtype, out=out, ddof=ddof,\n",
      "/home/wangxuedong/app/miniconda3/envs/mhc/lib/python3.8/site-packages/numpy/core/_methods.py:257: RuntimeWarning: invalid value encountered in double_scalars\n",
      "  ret = ret.dtype.type(ret / rcount)\n"
     ]
    },
    {
     "name": "stdout",
     "output_type": "stream",
     "text": [
      "continue [3017, 'STU', 1, 'chr6:30994370-31577278', 'ENSG00000277402', 'MIR6891', 'chr6:31355224-31355316', 'R', 'microRNA 6891 [Source:HGNC Symbol;Acc:HGNC:50243]']\n",
      "continue [3042, 'STU', 1, 'chr6:30994370-31577278', 'ENSG00000265236', 'SNORD84', 'chr6:31541101-31541178', 'R', 'small nucleolar RNA, C/D box 84 [Source:HGNC Symbol;Acc:HGNC:32743]']\n",
      "continue [3087, 'TSI', 1, 'chr6:29720403-29913914', 'ENSG00000270896', nan, 'chr6:29763258-29763392', 'R', 'mitochondrial coiled-coil domain 1 (MCCD1) pseudogene']\n"
     ]
    },
    {
     "name": "stderr",
     "output_type": "stream",
     "text": [
      "/home/wangxuedong/app/miniconda3/envs/mhc/lib/python3.8/site-packages/numpy/core/_methods.py:265: RuntimeWarning: Degrees of freedom <= 0 for slice\n",
      "  ret = _var(a, axis=axis, dtype=dtype, out=out, ddof=ddof,\n",
      "/home/wangxuedong/app/miniconda3/envs/mhc/lib/python3.8/site-packages/numpy/core/_methods.py:257: RuntimeWarning: invalid value encountered in double_scalars\n",
      "  ret = ret.dtype.type(ret / rcount)\n"
     ]
    },
    {
     "name": "stdout",
     "output_type": "stream",
     "text": [
      "continue [3117, 'TSI', 1, 'chr6:29939668-30120966', 'ENSG00000275856', nan, 'chr6:30058115-30058190', 'F', nan]\n"
     ]
    },
    {
     "name": "stderr",
     "output_type": "stream",
     "text": [
      "/home/wangxuedong/app/miniconda3/envs/mhc/lib/python3.8/site-packages/numpy/core/_methods.py:265: RuntimeWarning: Degrees of freedom <= 0 for slice\n",
      "  ret = _var(a, axis=axis, dtype=dtype, out=out, ddof=ddof,\n",
      "/home/wangxuedong/app/miniconda3/envs/mhc/lib/python3.8/site-packages/numpy/core/_methods.py:257: RuntimeWarning: invalid value encountered in double_scalars\n",
      "  ret = ret.dtype.type(ret / rcount)\n"
     ]
    },
    {
     "name": "stdout",
     "output_type": "stream",
     "text": [
      "continue [3149, 'TSI', 1, 'chr6:30994370-31528792', 'ENSG00000277402', 'MIR6891', 'chr6:31355224-31355316', 'R', 'microRNA 6891 [Source:HGNC Symbol;Acc:HGNC:50243]']\n",
      "continue [3209, 'YRI', 1, 'chr6:29720403-30120966', 'ENSG00000270896', nan, 'chr6:29763258-29763392', 'R', 'mitochondrial coiled-coil domain 1 (MCCD1) pseudogene']\n"
     ]
    },
    {
     "name": "stderr",
     "output_type": "stream",
     "text": [
      "/home/wangxuedong/app/miniconda3/envs/mhc/lib/python3.8/site-packages/numpy/core/_methods.py:265: RuntimeWarning: Degrees of freedom <= 0 for slice\n",
      "  ret = _var(a, axis=axis, dtype=dtype, out=out, ddof=ddof,\n",
      "/home/wangxuedong/app/miniconda3/envs/mhc/lib/python3.8/site-packages/numpy/core/_methods.py:257: RuntimeWarning: invalid value encountered in double_scalars\n",
      "  ret = ret.dtype.type(ret / rcount)\n"
     ]
    },
    {
     "name": "stdout",
     "output_type": "stream",
     "text": [
      "continue [3242, 'YRI', 1, 'chr6:29720403-30120966', 'ENSG00000275856', nan, 'chr6:30058115-30058190', 'F', nan]\n"
     ]
    },
    {
     "name": "stderr",
     "output_type": "stream",
     "text": [
      "/home/wangxuedong/app/miniconda3/envs/mhc/lib/python3.8/site-packages/numpy/core/_methods.py:265: RuntimeWarning: Degrees of freedom <= 0 for slice\n",
      "  ret = _var(a, axis=axis, dtype=dtype, out=out, ddof=ddof,\n",
      "/home/wangxuedong/app/miniconda3/envs/mhc/lib/python3.8/site-packages/numpy/core/_methods.py:257: RuntimeWarning: invalid value encountered in double_scalars\n",
      "  ret = ret.dtype.type(ret / rcount)\n"
     ]
    },
    {
     "name": "stdout",
     "output_type": "stream",
     "text": [
      "continue [3274, 'YRI', 1, 'chr6:30994370-31528792', 'ENSG00000277402', 'MIR6891', 'chr6:31355224-31355316', 'R', 'microRNA 6891 [Source:HGNC Symbol;Acc:HGNC:50243]']\n"
     ]
    }
   ],
   "source": [
    "import pysam\n",
    "from pysam import VariantFile as vcf\n",
    "import operator\n",
    "from math import log2\n",
    "import pandas as pd\n",
    "from pandas import DataFrame as dataframe\n",
    "import matplotlib.pyplot as plt\n",
    "import numpy as np\n",
    "\n",
    "from scipy.spatial.distance import pdist, squareform\n",
    "import scipy\n",
    "import  os\n",
    "import os.path\n",
    "import matplotlib.colors as mcolors\n",
    "from scipy import stats\n",
    "import csv\n",
    "import requests\n",
    "import json\n",
    "from xml.etree import ElementTree as ET\n",
    "from statsmodels.stats.multitest import multipletests\n",
    "beitiaoguode=[]\n",
    "df_csv2=pd.read_csv(\"/data2/wangxuedong/mhc_test_data/first_review/find_region/dis_csv/tables3_01part.csv\").values.tolist()\n",
    "\n",
    "\n",
    "all_mean_arr=0.03411387460093794\n",
    "all_std_arr=0.01334116014092687\n",
    "mean_dict_different_race={'ACB': 0.046621686769679045,\n",
    " 'ASW': 0.0465892685112964,\n",
    " 'BEB': 0.035970363185117774,\n",
    " 'CDX': 0.03266259792789275,\n",
    " 'CEU': 0.03488434818325704,\n",
    " 'CHB': 0.03285897897059889,\n",
    " 'CHS': 0.032796236687928325,\n",
    " 'CLM': 0.036503986698316906,\n",
    " 'ESN': 0.04643492431530403,\n",
    " 'FIN': 0.034935842703769975,\n",
    " 'GBR': 0.03498406394197642,\n",
    " 'GIH': 0.035593525252319486,\n",
    " 'GWD': 0.045836194805001416,\n",
    " 'IBS': 0.035140910353782764,\n",
    " 'ITU': 0.0347164844670136,\n",
    " 'JPT': 0.03273063391657775,\n",
    " 'KHV': 0.033023382087129426,\n",
    " 'LWK': 0.0466350005070252,\n",
    " 'MSL': 0.047257776857587634,\n",
    " 'MXL': 0.03529323182476227,\n",
    " 'PEL': 0.03222809053641309,\n",
    " 'PJL': 0.03450825905794522,\n",
    " 'PUR': 0.037936602232609126,\n",
    " 'STU': 0.03454596363552346,\n",
    " 'TSI': 0.03508890911947475,\n",
    " 'YRI': 0.04649868546958651}\n",
    "std_dict_different_race={'ACB': 0.01660837078934563,\n",
    " 'ASW': 0.016852430054156438,\n",
    " 'BEB': 0.016339814570213686,\n",
    " 'CDX': 0.01657929168371163,\n",
    " 'CEU': 0.01615285680476383,\n",
    " 'CHB': 0.0167769938917591,\n",
    " 'CHS': 0.016361466363591634,\n",
    " 'CLM': 0.016076712212741314,\n",
    " 'ESN': 0.016439364809682746,\n",
    " 'FIN': 0.016395558138330903,\n",
    " 'GBR': 0.01654186443581865,\n",
    " 'GIH': 0.016487954511321803,\n",
    " 'GWD': 0.01637735033664222,\n",
    " 'IBS': 0.01625740426618882,\n",
    " 'ITU': 0.015999114837619923,\n",
    " 'JPT': 0.016777856667394144,\n",
    " 'KHV': 0.016805860157616894,\n",
    " 'LWK': 0.01656542896110204,\n",
    " 'MSL': 0.0168657687428544,\n",
    " 'MXL': 0.01631757749279766,\n",
    " 'PEL': 0.015903810806753623,\n",
    " 'PJL': 0.015785059411911464,\n",
    " 'PUR': 0.016016827217755162,\n",
    " 'STU': 0.01615897181252148,\n",
    " 'TSI': 0.016499539576161064,\n",
    " 'YRI': 0.01656520483641468}\n",
    "\n",
    "allrecords=[]\n",
    "#in csv2\n",
    "for record in df_csv2:\n",
    "    \n",
    "    if type(record[6])!=float:\n",
    "     \n",
    "        if record[1]==\"All\":\n",
    "            if record[2]==0:#no mhc csvfiles                        \n",
    "                position_of_gene=record[6]\n",
    "                chr=position_of_gene.split(\":\")[0]\n",
    "                start_position=int(position_of_gene.split(\":\")[1].split(\"-\")[0])\n",
    "\n",
    "                end_position=int(position_of_gene.split(\":\")[1].split(\"-\")[1])\n",
    "                # filenames=os.listdir(\"/data2/wangxuedong/mhc_test_data/first_review/csvfiles_integration/\")\n",
    "                # for filename in filenames:\n",
    "                    #if filename.startswith(\"pos_prob_split_\"+chr+\"_\"):\n",
    "                df_split=pd.read_csv(\"/data2/wangxuedong/mhc_test_data/first_review/csvfiles_integration/\"+chr+\".csv\")  \n",
    "\n",
    "                allrigion_P_top_1000=df_split[(df_split[\"Unnamed: 0\"]>=start_position) & (df_split[\"Unnamed: 0\"]<=end_position)][\"P\"].to_list()\n",
    "                if allrigion_P_top_1000:\n",
    "                    mean_100_P=np.mean(allrigion_P_top_1000)\n",
    "                    std_100_P=np.std(allrigion_P_top_1000, ddof=1)\n",
    "                    pvalue=round((1-stats.norm.cdf(mean_100_P, all_mean_arr, all_std_arr)),15)\n",
    "                    onerecord=[]\n",
    "                    onerecord+=record[1:9]\n",
    "                    onerecord+=[mean_100_P,std_100_P,pvalue]\n",
    "                    allrecords.append(onerecord)\n",
    "                        \n",
    "\n",
    "                else:\n",
    "                    print(\"continue\",record)\n",
    "                    beitiaoguode.append(record)\n",
    "                    continue\n",
    "\n",
    "            else:\n",
    "                position_of_gene=record[6]\n",
    "                start_position=int(position_of_gene.split(\":\")[1].split(\"-\")[0])\n",
    "                end_position=int(position_of_gene.split(\":\")[1].split(\"-\")[1])\n",
    "                df_mhc=pd.read_csv(\"/data2/wangxuedong/mhc_test_data/first_review/csvfiles/mhc.csv\")\n",
    "                allrigion_P_top_1000=df_mhc[(df_mhc[\"Unnamed: 0\"]>=start_position) & (df_mhc[\"Unnamed: 0\"]<=end_position)][\"P\"].to_list()\n",
    "                if allrigion_P_top_1000:\n",
    "                    mean_100_P=np.mean(allrigion_P_top_1000)\n",
    "                    std_100_P=np.std(allrigion_P_top_1000, ddof=1)\n",
    "                    pvalue=round((1-stats.norm.cdf(mean_100_P, all_mean_arr, all_std_arr)),15)\n",
    "                    onerecord=[]\n",
    "                    onerecord+=record[1:9]\n",
    "                    onerecord+=[mean_100_P,std_100_P,pvalue]\n",
    "                    allrecords.append(onerecord)\n",
    "                else:\n",
    "                    print(\"continue\",record)\n",
    "                    beitiaoguode.append(record)\n",
    "                    continue\n",
    "\n",
    "        else:#race!=all\n",
    "            if record[2]==0:#no mhc\n",
    "                position_of_gene=record[6]\n",
    "                chr=position_of_gene.split(\":\")[0]\n",
    "                start_position=int(position_of_gene.split(\":\")[1].split(\"-\")[0])\n",
    "\n",
    "                end_position=int(position_of_gene.split(\":\")[1].split(\"-\")[1])\n",
    "                # filenames=os.listdir(\"/data2/wangxuedong/mhc_test_data/first_review/race_integration/\")\n",
    "                # for filename in filenames:\n",
    "                    # if filename.startswith(\"split_\"+chr+\"_\"):\n",
    "                df_split=pd.read_csv(\"/data2/wangxuedong/mhc_test_data/first_review/race_integration/\"+chr+\".csv\")  \n",
    "            \n",
    "                allrigion_P_top_1000=df_split[(df_split[\"Unnamed: 0\"]>=start_position) & (df_split[\"Unnamed: 0\"]<=end_position)][record[1]].to_list()\n",
    "                if allrigion_P_top_1000:\n",
    "                    mean_100_P=np.mean(allrigion_P_top_1000)\n",
    "                    std_100_P=np.std(allrigion_P_top_1000, ddof=1)\n",
    "                    pvalue=round((1-stats.norm.cdf(mean_100_P,mean_dict_different_race[record[1]],std_dict_different_race[record[1]])),15)\n",
    "                        \n",
    "                    onerecord=[]\n",
    "                    onerecord+=record[1:9]\n",
    "                    onerecord+=[mean_100_P,std_100_P,pvalue]\n",
    "                    allrecords.append(onerecord)\n",
    "                else:\n",
    "                    print(\"continue\",record)\n",
    "                    beitiaoguode.append(record)\n",
    "                    continue\n",
    "                    # else:\n",
    "                    #     continue\n",
    "            else:#ismhc different race\n",
    "                position_of_gene=record[6]\n",
    "                start_position=int(position_of_gene.split(\":\")[1].split(\"-\")[0])\n",
    "                end_position=int(position_of_gene.split(\":\")[1].split(\"-\")[1])\n",
    "                df_mhc=pd.read_csv(\"/data2/wangxuedong/mhc_test_data/first_review/race/posmhc.csv\")\n",
    "                \n",
    "                allrigion_P_top_1000=df_mhc[(df_mhc[\"Unnamed: 0\"]>=start_position) & (df_mhc[\"Unnamed: 0\"]<=end_position)][record[1]].to_list()\n",
    "                if allrigion_P_top_1000:                \n",
    "                    mean_100_P=np.mean(allrigion_P_top_1000)\n",
    "                    std_100_P=np.std(allrigion_P_top_1000, ddof=1)\n",
    "                    pvalue=round((1-stats.norm.cdf(mean_100_P,mean_dict_different_race[record[1]],std_dict_different_race[record[1]])),15)              \n",
    "                    onerecord=[]\n",
    "                    onerecord+=record[1:9]\n",
    "                    onerecord+=[mean_100_P,std_100_P,pvalue]\n",
    "                    allrecords.append(onerecord)\n",
    "                else:\n",
    "                    print(\"continue\",record)\n",
    "                    beitiaoguode.append(record)\n",
    "                    continue\n",
    "    else:\n",
    "        print(\"float number\")\n",
    "\n",
    "        onerecord=[]\n",
    "        onerecord+=record[1:9]\n",
    "        onerecord+=[\"null\",\"null\",\"null\"]\n",
    "        allrecords.append(onerecord)\n",
    "\n",
    "#generatedf\n",
    "def generatedf(columns,allrecords):\n",
    "    dictforDF=dict()\n",
    "    for i in range(len(columns)):\n",
    "        midarr=[]\n",
    "        for record in allrecords:           \n",
    "            midarr.append(record[i])\n",
    "        dictforDF[columns[i]]=midarr\n",
    "    dataframe(dictforDF).to_csv(\"tables3_part2_nocorr.csv\")\n",
    "    return dataframe(dictforDF)\n",
    "\n",
    "\n",
    "dfnew=generatedf(columns=[\"Race\",\"isMHC\",\"Position of disassortative mating region\",\"Gene ID\",\"Gene name\",\"Position of gene\",\"is_complement\",\"Gene description\",\"Average of P\",\"Std of P\",\"P-value\"],allrecords=allrecords)\n",
    "\n",
    "\n",
    "pvalue_list=dfnew[\"P-value\"].tolist()\n",
    "corr_pvals = multipletests(pvalue_list, method='fdr_bh')[1]\n",
    "dfnew = dfnew.assign(corr_pvals=corr_pvals)\n",
    "dfnew.to_csv(\"tables3_part2_withcorr.csv\")"
   ]
  },
  {
   "cell_type": "code",
   "execution_count": 2,
   "metadata": {},
   "outputs": [
    {
     "data": {
      "text/plain": [
       "75"
      ]
     },
     "execution_count": 2,
     "metadata": {},
     "output_type": "execute_result"
    }
   ],
   "source": [
    "beitiaoguode=[tuple(b) for b in beitiaoguode]\n",
    "norepeat=list(set(beitiaoguode))\n",
    "len(norepeat)"
   ]
  },
  {
   "cell_type": "code",
   "execution_count": 3,
   "metadata": {},
   "outputs": [
    {
     "data": {
      "text/plain": [
       "[(684,\n",
       "  'ASW',\n",
       "  1,\n",
       "  'chr6:29720403-30120966',\n",
       "  'ENSG00000275856',\n",
       "  nan,\n",
       "  'chr6:30058115-30058190',\n",
       "  'F',\n",
       "  nan),\n",
       " (1206,\n",
       "  'CHS',\n",
       "  1,\n",
       "  'chr6:30994370-31528792',\n",
       "  'ENSG00000277402',\n",
       "  'MIR6891',\n",
       "  'chr6:31355224-31355316',\n",
       "  'R',\n",
       "  'microRNA 6891 [Source:HGNC Symbol;Acc:HGNC:50243]'),\n",
       " (395,\n",
       "  'TSI',\n",
       "  0,\n",
       "  'chr17:45825257-46352295',\n",
       "  'ENSG00000265411',\n",
       "  'RN7SL656P',\n",
       "  'chr17:46319679-46319959',\n",
       "  'F',\n",
       "  'RNA, 7SL, cytoplasmic 656, pseudogene [Source:HGNC Symbol;Acc:HGNC:46672]'),\n",
       " (2434,\n",
       "  'MSL',\n",
       "  1,\n",
       "  'chr6:29720403-30011739',\n",
       "  'ENSG00000270896',\n",
       "  nan,\n",
       "  'chr6:29763258-29763392',\n",
       "  'R',\n",
       "  'mitochondrial coiled-coil domain 1 (MCCD1) pseudogene'),\n",
       " (178,\n",
       "  'GBR',\n",
       "  0,\n",
       "  'chr17:45825257-46352295',\n",
       "  'ENSG00000265411',\n",
       "  'RN7SL656P',\n",
       "  'chr17:46319679-46319959',\n",
       "  'F',\n",
       "  'RNA, 7SL, cytoplasmic 656, pseudogene [Source:HGNC Symbol;Acc:HGNC:46672]'),\n",
       " (343,\n",
       "  'PUR',\n",
       "  0,\n",
       "  'chr17:45825257-46352295',\n",
       "  'ENSG00000238723',\n",
       "  'Y_RNA',\n",
       "  'chr17:46215070-46215171',\n",
       "  'R',\n",
       "  'Y RNA [Source:RFAM;Acc:RF00019]'),\n",
       " (3117,\n",
       "  'TSI',\n",
       "  1,\n",
       "  'chr6:29939668-30120966',\n",
       "  'ENSG00000275856',\n",
       "  nan,\n",
       "  'chr6:30058115-30058190',\n",
       "  'F',\n",
       "  nan),\n",
       " (957,\n",
       "  'CDX',\n",
       "  1,\n",
       "  'chr6:32212726-32923168',\n",
       "  'ENSG00000235301',\n",
       "  'HLA-Z',\n",
       "  'chr6:32896416-32896490',\n",
       "  'F',\n",
       "  'major histocompatibility complex, class I, Z (pseudogene) [Source:HGNC Symbol;Acc:HGNC:19394]'),\n",
       " (124,\n",
       "  'CLM',\n",
       "  0,\n",
       "  'chr17:45825257-46352295',\n",
       "  'ENSG00000265411',\n",
       "  'RN7SL656P',\n",
       "  'chr17:46319679-46319959',\n",
       "  'F',\n",
       "  'RNA, 7SL, cytoplasmic 656, pseudogene [Source:HGNC Symbol;Acc:HGNC:46672]'),\n",
       " (3274,\n",
       "  'YRI',\n",
       "  1,\n",
       "  'chr6:30994370-31528792',\n",
       "  'ENSG00000277402',\n",
       "  'MIR6891',\n",
       "  'chr6:31355224-31355316',\n",
       "  'R',\n",
       "  'microRNA 6891 [Source:HGNC Symbol;Acc:HGNC:50243]'),\n",
       " (2012,\n",
       "  'ITU',\n",
       "  1,\n",
       "  'chr6:31052133-31528792',\n",
       "  'ENSG00000277402',\n",
       "  'MIR6891',\n",
       "  'chr6:31355224-31355316',\n",
       "  'R',\n",
       "  'microRNA 6891 [Source:HGNC Symbol;Acc:HGNC:50243]'),\n",
       " (2697,\n",
       "  'PEL',\n",
       "  1,\n",
       "  'chr6:30959575-31528792',\n",
       "  'ENSG00000277402',\n",
       "  'MIR6891',\n",
       "  'chr6:31355224-31355316',\n",
       "  'R',\n",
       "  'microRNA 6891 [Source:HGNC Symbol;Acc:HGNC:50243]'),\n",
       " (2259,\n",
       "  'KHV',\n",
       "  1,\n",
       "  'chr6:30994370-31528792',\n",
       "  'ENSG00000277402',\n",
       "  'MIR6891',\n",
       "  'chr6:31355224-31355316',\n",
       "  'R',\n",
       "  'microRNA 6891 [Source:HGNC Symbol;Acc:HGNC:50243]'),\n",
       " (715,\n",
       "  'ASW',\n",
       "  1,\n",
       "  'chr6:31052133-31528792',\n",
       "  'ENSG00000277402',\n",
       "  'MIR6891',\n",
       "  'chr6:31355224-31355316',\n",
       "  'R',\n",
       "  'microRNA 6891 [Source:HGNC Symbol;Acc:HGNC:50243]'),\n",
       " (830,\n",
       "  'BEB',\n",
       "  1,\n",
       "  'chr6:30994370-31528792',\n",
       "  'ENSG00000277402',\n",
       "  'MIR6891',\n",
       "  'chr6:31355224-31355316',\n",
       "  'R',\n",
       "  'microRNA 6891 [Source:HGNC Symbol;Acc:HGNC:50243]'),\n",
       " (1303,\n",
       "  'CLM',\n",
       "  1,\n",
       "  'chr6:30994370-31528792',\n",
       "  'ENSG00000277402',\n",
       "  'MIR6891',\n",
       "  'chr6:31355224-31355316',\n",
       "  'R',\n",
       "  'microRNA 6891 [Source:HGNC Symbol;Acc:HGNC:50243]'),\n",
       " (1396,\n",
       "  'ESN',\n",
       "  1,\n",
       "  'chr6:29720403-30120966',\n",
       "  'ENSG00000275856',\n",
       "  nan,\n",
       "  'chr6:30058115-30058190',\n",
       "  'F',\n",
       "  nan),\n",
       " (2551,\n",
       "  'MXL',\n",
       "  1,\n",
       "  'chr6:29720403-29913914',\n",
       "  'ENSG00000270896',\n",
       "  nan,\n",
       "  'chr6:29763258-29763392',\n",
       "  'R',\n",
       "  'mitochondrial coiled-coil domain 1 (MCCD1) pseudogene'),\n",
       " (1428,\n",
       "  'ESN',\n",
       "  1,\n",
       "  'chr6:30994370-31528792',\n",
       "  'ENSG00000277402',\n",
       "  'MIR6891',\n",
       "  'chr6:31355224-31355316',\n",
       "  'R',\n",
       "  'microRNA 6891 [Source:HGNC Symbol;Acc:HGNC:50243]'),\n",
       " (651,\n",
       "  'ASW',\n",
       "  1,\n",
       "  'chr6:29720403-30120966',\n",
       "  'ENSG00000270896',\n",
       "  nan,\n",
       "  'chr6:29763258-29763392',\n",
       "  'R',\n",
       "  'mitochondrial coiled-coil domain 1 (MCCD1) pseudogene'),\n",
       " (983,\n",
       "  'CEU',\n",
       "  1,\n",
       "  'chr6:30994370-31528792',\n",
       "  'ENSG00000277402',\n",
       "  'MIR6891',\n",
       "  'chr6:31355224-31355316',\n",
       "  'R',\n",
       "  'microRNA 6891 [Source:HGNC Symbol;Acc:HGNC:50243]'),\n",
       " (1261,\n",
       "  'CLM',\n",
       "  1,\n",
       "  'chr6:29720403-29913914',\n",
       "  'ENSG00000270896',\n",
       "  nan,\n",
       "  'chr6:29763258-29763392',\n",
       "  'R',\n",
       "  'mitochondrial coiled-coil domain 1 (MCCD1) pseudogene'),\n",
       " (2322,\n",
       "  'LWK',\n",
       "  1,\n",
       "  'chr6:29720403-30011739',\n",
       "  'ENSG00000270896',\n",
       "  nan,\n",
       "  'chr6:29763258-29763392',\n",
       "  'R',\n",
       "  'mitochondrial coiled-coil domain 1 (MCCD1) pseudogene'),\n",
       " (1958,\n",
       "  'ITU',\n",
       "  1,\n",
       "  'chr6:29720403-30011739',\n",
       "  'ENSG00000270896',\n",
       "  nan,\n",
       "  'chr6:29763258-29763392',\n",
       "  'R',\n",
       "  'mitochondrial coiled-coil domain 1 (MCCD1) pseudogene'),\n",
       " (434,\n",
       "  'ACB',\n",
       "  1,\n",
       "  'chr6:29720403-30011739',\n",
       "  'ENSG00000270896',\n",
       "  nan,\n",
       "  'chr6:29763258-29763392',\n",
       "  'R',\n",
       "  'mitochondrial coiled-coil domain 1 (MCCD1) pseudogene'),\n",
       " (1633,\n",
       "  'GIH',\n",
       "  1,\n",
       "  'chr6:29720403-29913914',\n",
       "  'ENSG00000270896',\n",
       "  nan,\n",
       "  'chr6:29763258-29763392',\n",
       "  'R',\n",
       "  'mitochondrial coiled-coil domain 1 (MCCD1) pseudogene'),\n",
       " (1043,\n",
       "  'CHB',\n",
       "  1,\n",
       "  'chr6:29720403-29913914',\n",
       "  'ENSG00000270896',\n",
       "  nan,\n",
       "  'chr6:29763258-29763392',\n",
       "  'R',\n",
       "  'mitochondrial coiled-coil domain 1 (MCCD1) pseudogene'),\n",
       " (2653,\n",
       "  'PEL',\n",
       "  1,\n",
       "  'chr6:29720403-29913914',\n",
       "  'ENSG00000270896',\n",
       "  nan,\n",
       "  'chr6:29763258-29763392',\n",
       "  'R',\n",
       "  'mitochondrial coiled-coil domain 1 (MCCD1) pseudogene'),\n",
       " (350,\n",
       "  'PUR',\n",
       "  0,\n",
       "  'chr17:45825257-46352295',\n",
       "  'ENSG00000265411',\n",
       "  'RN7SL656P',\n",
       "  'chr17:46319679-46319959',\n",
       "  'F',\n",
       "  'RNA, 7SL, cytoplasmic 656, pseudogene [Source:HGNC Symbol;Acc:HGNC:46672]'),\n",
       " (1073,\n",
       "  'CHB',\n",
       "  1,\n",
       "  'chr6:29939668-30154438',\n",
       "  'ENSG00000275856',\n",
       "  nan,\n",
       "  'chr6:30058115-30058190',\n",
       "  'F',\n",
       "  nan),\n",
       " (1735,\n",
       "  'GWD',\n",
       "  1,\n",
       "  'chr6:29720403-30120966',\n",
       "  'ENSG00000270896',\n",
       "  nan,\n",
       "  'chr6:29763258-29763392',\n",
       "  'R',\n",
       "  'mitochondrial coiled-coil domain 1 (MCCD1) pseudogene'),\n",
       " (1363,\n",
       "  'ESN',\n",
       "  1,\n",
       "  'chr6:29720403-30120966',\n",
       "  'ENSG00000270896',\n",
       "  nan,\n",
       "  'chr6:29763258-29763392',\n",
       "  'R',\n",
       "  'mitochondrial coiled-coil domain 1 (MCCD1) pseudogene'),\n",
       " (1167,\n",
       "  'CHS',\n",
       "  1,\n",
       "  'chr6:29720403-29896285',\n",
       "  'ENSG00000270896',\n",
       "  nan,\n",
       "  'chr6:29763258-29763392',\n",
       "  'R',\n",
       "  'mitochondrial coiled-coil domain 1 (MCCD1) pseudogene'),\n",
       " (2311,\n",
       "  'KHV',\n",
       "  1,\n",
       "  'chr6:32212726-32923168',\n",
       "  'ENSG00000235301',\n",
       "  'HLA-Z',\n",
       "  'chr6:32896416-32896490',\n",
       "  'F',\n",
       "  'major histocompatibility complex, class I, Z (pseudogene) [Source:HGNC Symbol;Acc:HGNC:19394]'),\n",
       " (905,\n",
       "  'CDX',\n",
       "  1,\n",
       "  'chr6:30994370-31528792',\n",
       "  'ENSG00000277402',\n",
       "  'MIR6891',\n",
       "  'chr6:31355224-31355316',\n",
       "  'R',\n",
       "  'microRNA 6891 [Source:HGNC Symbol;Acc:HGNC:50243]'),\n",
       " (1498,\n",
       "  'FIN',\n",
       "  1,\n",
       "  'chr6:30994370-31528792',\n",
       "  'ENSG00000277402',\n",
       "  'MIR6891',\n",
       "  'chr6:31355224-31355316',\n",
       "  'R',\n",
       "  'microRNA 6891 [Source:HGNC Symbol;Acc:HGNC:50243]'),\n",
       " (775,\n",
       "  'BEB',\n",
       "  1,\n",
       "  'chr6:29720403-30011739',\n",
       "  'ENSG00000270896',\n",
       "  nan,\n",
       "  'chr6:29763258-29763392',\n",
       "  'R',\n",
       "  'mitochondrial coiled-coil domain 1 (MCCD1) pseudogene'),\n",
       " (117,\n",
       "  'CLM',\n",
       "  0,\n",
       "  'chr17:45825257-46352295',\n",
       "  'ENSG00000238723',\n",
       "  'Y_RNA',\n",
       "  'chr17:46215070-46215171',\n",
       "  'R',\n",
       "  'Y RNA [Source:RFAM;Acc:RF00019]'),\n",
       " (1799,\n",
       "  'GWD',\n",
       "  1,\n",
       "  'chr6:31052133-31528792',\n",
       "  'ENSG00000277402',\n",
       "  'MIR6891',\n",
       "  'chr6:31355224-31355316',\n",
       "  'R',\n",
       "  'microRNA 6891 [Source:HGNC Symbol;Acc:HGNC:50243]'),\n",
       " (1859,\n",
       "  'IBS',\n",
       "  1,\n",
       "  'chr6:29720403-29896285',\n",
       "  'ENSG00000270896',\n",
       "  nan,\n",
       "  'chr6:29763258-29763392',\n",
       "  'R',\n",
       "  'mitochondrial coiled-coil domain 1 (MCCD1) pseudogene'),\n",
       " (2072,\n",
       "  'JPT',\n",
       "  1,\n",
       "  'chr6:29720403-29913914',\n",
       "  'ENSG00000270896',\n",
       "  nan,\n",
       "  'chr6:29763258-29763392',\n",
       "  'R',\n",
       "  'mitochondrial coiled-coil domain 1 (MCCD1) pseudogene'),\n",
       " (2423,\n",
       "  'LWK',\n",
       "  1,\n",
       "  'chr6:32397207-32923168',\n",
       "  'ENSG00000235301',\n",
       "  'HLA-Z',\n",
       "  'chr6:32896416-32896490',\n",
       "  'F',\n",
       "  'major histocompatibility complex, class I, Z (pseudogene) [Source:HGNC Symbol;Acc:HGNC:19394]'),\n",
       " (2915,\n",
       "  'PUR',\n",
       "  1,\n",
       "  'chr6:30994370-31528792',\n",
       "  'ENSG00000277402',\n",
       "  'MIR6891',\n",
       "  'chr6:31355224-31355316',\n",
       "  'R',\n",
       "  'microRNA 6891 [Source:HGNC Symbol;Acc:HGNC:50243]'),\n",
       " (1768,\n",
       "  'GWD',\n",
       "  1,\n",
       "  'chr6:29720403-30120966',\n",
       "  'ENSG00000275856',\n",
       "  nan,\n",
       "  'chr6:30058115-30058190',\n",
       "  'F',\n",
       "  nan),\n",
       " (3042,\n",
       "  'STU',\n",
       "  1,\n",
       "  'chr6:30994370-31577278',\n",
       "  'ENSG00000265236',\n",
       "  'SNORD84',\n",
       "  'chr6:31541101-31541178',\n",
       "  'R',\n",
       "  'small nucleolar RNA, C/D box 84 [Source:HGNC Symbol;Acc:HGNC:32743]'),\n",
       " (3149,\n",
       "  'TSI',\n",
       "  1,\n",
       "  'chr6:30994370-31528792',\n",
       "  'ENSG00000277402',\n",
       "  'MIR6891',\n",
       "  'chr6:31355224-31355316',\n",
       "  'R',\n",
       "  'microRNA 6891 [Source:HGNC Symbol;Acc:HGNC:50243]'),\n",
       " (489,\n",
       "  'ACB',\n",
       "  1,\n",
       "  'chr6:30994370-31528792',\n",
       "  'ENSG00000277402',\n",
       "  'MIR6891',\n",
       "  'chr6:31355224-31355316',\n",
       "  'R',\n",
       "  'microRNA 6891 [Source:HGNC Symbol;Acc:HGNC:50243]'),\n",
       " (3087,\n",
       "  'TSI',\n",
       "  1,\n",
       "  'chr6:29720403-29913914',\n",
       "  'ENSG00000270896',\n",
       "  nan,\n",
       "  'chr6:29763258-29763392',\n",
       "  'R',\n",
       "  'mitochondrial coiled-coil domain 1 (MCCD1) pseudogene'),\n",
       " (2227,\n",
       "  'KHV',\n",
       "  1,\n",
       "  'chr6:29720403-30120966',\n",
       "  'ENSG00000275856',\n",
       "  nan,\n",
       "  'chr6:30058115-30058190',\n",
       "  'F',\n",
       "  nan),\n",
       " (2194,\n",
       "  'KHV',\n",
       "  1,\n",
       "  'chr6:29720403-30120966',\n",
       "  'ENSG00000270896',\n",
       "  nan,\n",
       "  'chr6:29763258-29763392',\n",
       "  'R',\n",
       "  'mitochondrial coiled-coil domain 1 (MCCD1) pseudogene'),\n",
       " (2102,\n",
       "  'JPT',\n",
       "  1,\n",
       "  'chr6:29939668-30120966',\n",
       "  'ENSG00000275856',\n",
       "  nan,\n",
       "  'chr6:30058115-30058190',\n",
       "  'F',\n",
       "  nan),\n",
       " (388,\n",
       "  'TSI',\n",
       "  0,\n",
       "  'chr17:45825257-46352295',\n",
       "  'ENSG00000238723',\n",
       "  'Y_RNA',\n",
       "  'chr17:46215070-46215171',\n",
       "  'R',\n",
       "  'Y RNA [Source:RFAM;Acc:RF00019]'),\n",
       " (2797,\n",
       "  'PJL',\n",
       "  1,\n",
       "  'chr6:30994370-31528792',\n",
       "  'ENSG00000277402',\n",
       "  'MIR6891',\n",
       "  'chr6:31355224-31355316',\n",
       "  'R',\n",
       "  'microRNA 6891 [Source:HGNC Symbol;Acc:HGNC:50243]'),\n",
       " (1573,\n",
       "  'GBR',\n",
       "  1,\n",
       "  'chr6:30994370-31528792',\n",
       "  'ENSG00000277402',\n",
       "  'MIR6891',\n",
       "  'chr6:31355224-31355316',\n",
       "  'R',\n",
       "  'microRNA 6891 [Source:HGNC Symbol;Acc:HGNC:50243]'),\n",
       " (244,\n",
       "  'IBS',\n",
       "  0,\n",
       "  'chr17:45825257-46352295',\n",
       "  'ENSG00000238723',\n",
       "  'Y_RNA',\n",
       "  'chr17:46215070-46215171',\n",
       "  'R',\n",
       "  'Y RNA [Source:RFAM;Acc:RF00019]'),\n",
       " (549,\n",
       "  'All',\n",
       "  1,\n",
       "  'chr6:29720403-29913914',\n",
       "  'ENSG00000270896',\n",
       "  nan,\n",
       "  'chr6:29763258-29763392',\n",
       "  'R',\n",
       "  'mitochondrial coiled-coil domain 1 (MCCD1) pseudogene'),\n",
       " (2860,\n",
       "  'PUR',\n",
       "  1,\n",
       "  'chr6:29720403-30011739',\n",
       "  'ENSG00000270896',\n",
       "  nan,\n",
       "  'chr6:29763258-29763392',\n",
       "  'R',\n",
       "  'mitochondrial coiled-coil domain 1 (MCCD1) pseudogene'),\n",
       " (3209,\n",
       "  'YRI',\n",
       "  1,\n",
       "  'chr6:29720403-30120966',\n",
       "  'ENSG00000270896',\n",
       "  nan,\n",
       "  'chr6:29763258-29763392',\n",
       "  'R',\n",
       "  'mitochondrial coiled-coil domain 1 (MCCD1) pseudogene'),\n",
       " (1107,\n",
       "  'CHB',\n",
       "  1,\n",
       "  'chr6:30994370-31528792',\n",
       "  'ENSG00000277402',\n",
       "  'MIR6891',\n",
       "  'chr6:31355224-31355316',\n",
       "  'R',\n",
       "  'microRNA 6891 [Source:HGNC Symbol;Acc:HGNC:50243]'),\n",
       " (591,\n",
       "  'All',\n",
       "  1,\n",
       "  'chr6:30994370-31528792',\n",
       "  'ENSG00000277402',\n",
       "  'MIR6891',\n",
       "  'chr6:31355224-31355316',\n",
       "  'R',\n",
       "  'microRNA 6891 [Source:HGNC Symbol;Acc:HGNC:50243]'),\n",
       " (2593,\n",
       "  'MXL',\n",
       "  1,\n",
       "  'chr6:30994370-31528792',\n",
       "  'ENSG00000277402',\n",
       "  'MIR6891',\n",
       "  'chr6:31355224-31355316',\n",
       "  'R',\n",
       "  'microRNA 6891 [Source:HGNC Symbol;Acc:HGNC:50243]'),\n",
       " (171,\n",
       "  'GBR',\n",
       "  0,\n",
       "  'chr17:45825257-46352295',\n",
       "  'ENSG00000238723',\n",
       "  'Y_RNA',\n",
       "  'chr17:46215070-46215171',\n",
       "  'R',\n",
       "  'Y RNA [Source:RFAM;Acc:RF00019]'),\n",
       " (82,\n",
       "  'CEU',\n",
       "  0,\n",
       "  'chr17:45825257-46352295',\n",
       "  'ENSG00000238723',\n",
       "  'Y_RNA',\n",
       "  'chr17:46215070-46215171',\n",
       "  'R',\n",
       "  'Y RNA [Source:RFAM;Acc:RF00019]'),\n",
       " (251,\n",
       "  'IBS',\n",
       "  0,\n",
       "  'chr17:45825257-46352295',\n",
       "  'ENSG00000265411',\n",
       "  'RN7SL656P',\n",
       "  'chr17:46319679-46319959',\n",
       "  'F',\n",
       "  'RNA, 7SL, cytoplasmic 656, pseudogene [Source:HGNC Symbol;Acc:HGNC:46672]'),\n",
       " (1675,\n",
       "  'GIH',\n",
       "  1,\n",
       "  'chr6:30994370-31528792',\n",
       "  'ENSG00000277402',\n",
       "  'MIR6891',\n",
       "  'chr6:31355224-31355316',\n",
       "  'R',\n",
       "  'microRNA 6891 [Source:HGNC Symbol;Acc:HGNC:50243]'),\n",
       " (2134,\n",
       "  'JPT',\n",
       "  1,\n",
       "  'chr6:30994370-31528792',\n",
       "  'ENSG00000277402',\n",
       "  'MIR6891',\n",
       "  'chr6:31355224-31355316',\n",
       "  'R',\n",
       "  'microRNA 6891 [Source:HGNC Symbol;Acc:HGNC:50243]'),\n",
       " (2491,\n",
       "  'MSL',\n",
       "  1,\n",
       "  'chr6:30959575-31528792',\n",
       "  'ENSG00000277402',\n",
       "  'MIR6891',\n",
       "  'chr6:31355224-31355316',\n",
       "  'R',\n",
       "  'microRNA 6891 [Source:HGNC Symbol;Acc:HGNC:50243]'),\n",
       " (3017,\n",
       "  'STU',\n",
       "  1,\n",
       "  'chr6:30994370-31577278',\n",
       "  'ENSG00000277402',\n",
       "  'MIR6891',\n",
       "  'chr6:31355224-31355316',\n",
       "  'R',\n",
       "  'microRNA 6891 [Source:HGNC Symbol;Acc:HGNC:50243]'),\n",
       " (89,\n",
       "  'CEU',\n",
       "  0,\n",
       "  'chr17:45825257-46352295',\n",
       "  'ENSG00000265411',\n",
       "  'RN7SL656P',\n",
       "  'chr17:46319679-46319959',\n",
       "  'F',\n",
       "  'RNA, 7SL, cytoplasmic 656, pseudogene [Source:HGNC Symbol;Acc:HGNC:46672]'),\n",
       " (2849,\n",
       "  'PJL',\n",
       "  1,\n",
       "  'chr6:32212726-32923168',\n",
       "  'ENSG00000235301',\n",
       "  'HLA-Z',\n",
       "  'chr6:32896416-32896490',\n",
       "  'F',\n",
       "  'major histocompatibility complex, class I, Z (pseudogene) [Source:HGNC Symbol;Acc:HGNC:19394]'),\n",
       " (2755,\n",
       "  'PJL',\n",
       "  1,\n",
       "  'chr6:29720403-29913914',\n",
       "  'ENSG00000270896',\n",
       "  nan,\n",
       "  'chr6:29763258-29763392',\n",
       "  'R',\n",
       "  'mitochondrial coiled-coil domain 1 (MCCD1) pseudogene'),\n",
       " (2975,\n",
       "  'STU',\n",
       "  1,\n",
       "  'chr6:29720403-29913914',\n",
       "  'ENSG00000270896',\n",
       "  nan,\n",
       "  'chr6:29763258-29763392',\n",
       "  'R',\n",
       "  'mitochondrial coiled-coil domain 1 (MCCD1) pseudogene'),\n",
       " (1898,\n",
       "  'IBS',\n",
       "  1,\n",
       "  'chr6:30994370-31528792',\n",
       "  'ENSG00000277402',\n",
       "  'MIR6891',\n",
       "  'chr6:31355224-31355316',\n",
       "  'R',\n",
       "  'microRNA 6891 [Source:HGNC Symbol;Acc:HGNC:50243]'),\n",
       " (3242,\n",
       "  'YRI',\n",
       "  1,\n",
       "  'chr6:29720403-30120966',\n",
       "  'ENSG00000275856',\n",
       "  nan,\n",
       "  'chr6:30058115-30058190',\n",
       "  'F',\n",
       "  nan),\n",
       " (2376,\n",
       "  'LWK',\n",
       "  1,\n",
       "  'chr6:31052133-31528792',\n",
       "  'ENSG00000277402',\n",
       "  'MIR6891',\n",
       "  'chr6:31355224-31355316',\n",
       "  'R',\n",
       "  'microRNA 6891 [Source:HGNC Symbol;Acc:HGNC:50243]')]"
      ]
     },
     "execution_count": 3,
     "metadata": {},
     "output_type": "execute_result"
    }
   ],
   "source": [
    "norepeat"
   ]
  },
  {
   "cell_type": "code",
   "execution_count": null,
   "metadata": {},
   "outputs": [],
   "source": []
  }
 ],
 "metadata": {
  "kernelspec": {
   "display_name": "mhc",
   "language": "python",
   "name": "python3"
  },
  "language_info": {
   "codemirror_mode": {
    "name": "ipython",
    "version": 3
   },
   "file_extension": ".py",
   "mimetype": "text/x-python",
   "name": "python",
   "nbconvert_exporter": "python",
   "pygments_lexer": "ipython3",
   "version": "3.8.0"
  },
  "orig_nbformat": 4
 },
 "nbformat": 4,
 "nbformat_minor": 2
}
