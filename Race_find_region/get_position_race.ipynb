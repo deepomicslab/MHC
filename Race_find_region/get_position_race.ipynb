{
 "cells": [
  {
   "cell_type": "code",
   "execution_count": 1,
   "metadata": {},
   "outputs": [],
   "source": [
    "import pysam\n",
    "from pysam import VariantFile as vcf\n",
    "import operator\n",
    "from math import log2\n",
    "import pandas as pd\n",
    "from pandas import DataFrame as dataframe\n",
    "import matplotlib.pyplot as plt\n",
    "import numpy as np\n",
    "from scipy.spatial.distance import pdist, squareform\n",
    "import scipy\n",
    "import  os\n",
    "import os.path\n",
    "import matplotlib.colors as mcolors\n",
    "from scipy import stats"
   ]
  },
  {
   "cell_type": "code",
   "execution_count": 8,
   "metadata": {},
   "outputs": [],
   "source": [
    "fileName = '../1000_population.tsv'\n",
    "\n",
    "\n",
    "lines = []\n",
    "categories = []\n",
    "\n",
    "\n",
    "with open(fileName, 'r') as f:\n",
    "    text = f.read()\n",
    "\n",
    "lines = text.split('\\n')\n",
    "for l in lines:\n",
    "    \n",
    "    categories.append(l.split('\\t')[-1])\n",
    "allcategories=sorted(list(set(categories)))\n"
   ]
  },
  {
   "cell_type": "code",
   "execution_count": 3,
   "metadata": {},
   "outputs": [],
   "source": [
    "#For each race of one csv file, average every 1000 P and put it in the csv file\n",
    "def getAveragePer1000(filepath,n,filename):\n",
    "    csv_df= pd.read_csv(filepath, low_memory = False)\n",
    "    # csv_df = pd.DataFrame(csv_data)\n",
    "    for col in allcategories:\n",
    "        averages = [np.mean(csv_df.loc[i:i+n-1, col]) for i in range(0, csv_df.shape[0], n)]\n",
    "        np.savetxt('../allrace_bin_1000_Average_WithoutX/'+col+\"_\"+filename+'.csv', averages, delimiter = ',')\n"
   ]
  },
  {
   "cell_type": "code",
   "execution_count": 4,
   "metadata": {},
   "outputs": [],
   "source": [
    "def ifExistCSVFile_1000average_race(filename):\n",
    "    filepath='../allrace_bin_1000_Average_WithoutX/'\n",
    "    files=os.listdir(filepath)\n",
    "    filenames=[]\n",
    "    for col in allcategories:\n",
    "        filename=col+\"_\"+filename+\".csv\"\n",
    "        filenames.append(filename)\n",
    "    for i in filenames:\n",
    "        if i in files:\n",
    "            return True\n",
    "    return False"
   ]
  },
  {
   "cell_type": "code",
   "execution_count": 5,
   "metadata": {},
   "outputs": [],
   "source": [
    "#run every csvfile in the 'race' folder\n",
    "for curDir, dirs, files in os.walk(top=\"../race/\"):\n",
    "    for file in files:\n",
    "        filename=file.split(\".\")[0]\n",
    "        # if ifExistCSVFile_1000average_race(filename=filename):\n",
    "        #     #print(ifExistCSVFile_1000average_race(filename=filename))\n",
    "        #     continue\n",
    "        # else:\n",
    "        getAveragePer1000(filepath=curDir+file,n=1000,filename=file.split(\".\")[0])"
   ]
  },
  {
   "cell_type": "code",
   "execution_count": 6,
   "metadata": {},
   "outputs": [],
   "source": [
    "#for caculating distribution for different race\n",
    "arrforDistribution_different_race=dict()\n",
    "for category in allcategories:\n",
    "    arrforDistribution_different_race[category]=[]\n",
    "\n",
    "for curDir, dirs, files in os.walk(top=\"../allrace_bin_1000_Average_WithoutX/\"):\n",
    "    for file in files:\n",
    "        for category in allcategories:\n",
    "            if file.startswith(category):\n",
    "                csv_data=np.loadtxt(open(curDir+file,\"rb\"),delimiter=\",\",skiprows=0)\n",
    "                arrforDistribution_different_race[category]+=csv_data.tolist()\n",
    "                \n",
    "        "
   ]
  },
  {
   "cell_type": "code",
   "execution_count": 7,
   "metadata": {},
   "outputs": [],
   "source": [
    "mean_dict_different_race=dict()\n",
    "std_dict_different_race=dict()\n",
    "for category in allcategories:\n",
    "    mean_dict_different_race[category]=0\n",
    "    std_dict_different_race[category]=0\n",
    "\n",
    "for category in allcategories:\n",
    "    mean_dict_different_race[category]=np.mean(arrforDistribution_different_race[category])\n",
    "    std_dict_different_race[category]=np.std(arrforDistribution_different_race[category])\n"
   ]
  },
  {
   "cell_type": "code",
   "execution_count": 8,
   "metadata": {},
   "outputs": [
    {
     "data": {
      "text/plain": [
       "{'ACB': -0.014011151662888553,\n",
       " 'ASW': -0.012693412503283,\n",
       " 'BEB': -0.0038608773522230016,\n",
       " 'CDX': -0.000870975201046489,\n",
       " 'CEU': -0.002626550761399808,\n",
       " 'CHB': -0.000840617782511786,\n",
       " 'CHS': -0.0016030210248706835,\n",
       " 'CLM': -0.006497201413442441,\n",
       " 'ESN': -0.012407888605124987,\n",
       " 'FIN': -0.0013888123211964092,\n",
       " 'GBR': -0.0016421960521901954,\n",
       " 'GIH': -0.0029655045615120147,\n",
       " 'GWD': -0.013383054011719266,\n",
       " 'IBS': -0.0036274568161741316,\n",
       " 'ITU': -0.003697573961398361,\n",
       " 'JPT': -0.0004422965646677968,\n",
       " 'KHV': -0.0014824412579579188,\n",
       " 'LWK': -0.013214685221562708,\n",
       " 'MSL': -0.012902619299438558,\n",
       " 'MXL': -0.004064132377929528,\n",
       " 'PEL': -0.0032051883341473507,\n",
       " 'PJL': -0.004661546996727815,\n",
       " 'PUR': -0.008252100717713692,\n",
       " 'STU': -0.003961436794723387,\n",
       " 'TSI': -0.002358177545570631,\n",
       " 'YRI': -0.012978184004079407}"
      ]
     },
     "execution_count": 8,
     "metadata": {},
     "output_type": "execute_result"
    }
   ],
   "source": [
    "mean_dict_different_race#mean for every race"
   ]
  },
  {
   "cell_type": "code",
   "execution_count": 9,
   "metadata": {},
   "outputs": [
    {
     "data": {
      "text/plain": [
       "{'ACB': 0.007679014864719199,\n",
       " 'ASW': 0.008041527656473924,\n",
       " 'BEB': 0.008061181937627181,\n",
       " 'CDX': 0.008574772155886829,\n",
       " 'CEU': 0.007805712926154353,\n",
       " 'CHB': 0.00858396197930932,\n",
       " 'CHS': 0.008210661522162982,\n",
       " 'CLM': 0.007855389049385354,\n",
       " 'ESN': 0.007528169549036397,\n",
       " 'FIN': 0.008233373830804186,\n",
       " 'GBR': 0.008280482586380011,\n",
       " 'GIH': 0.008318428884896655,\n",
       " 'GWD': 0.00741808675422558,\n",
       " 'IBS': 0.007946168606506706,\n",
       " 'ITU': 0.007944085877932789,\n",
       " 'JPT': 0.008520600208015637,\n",
       " 'KHV': 0.008457471872578115,\n",
       " 'LWK': 0.00775427047797345,\n",
       " 'MSL': 0.00788405338804666,\n",
       " 'MXL': 0.008244211463289736,\n",
       " 'PEL': 0.008220014590454098,\n",
       " 'PJL': 0.007728364636381623,\n",
       " 'PUR': 0.007789028974214059,\n",
       " 'STU': 0.007989081367465312,\n",
       " 'TSI': 0.008171487042712589,\n",
       " 'YRI': 0.007574843363674686}"
      ]
     },
     "execution_count": 9,
     "metadata": {},
     "output_type": "execute_result"
    }
   ],
   "source": [
    "std_dict_different_race#standard deviation for every race"
   ]
  },
  {
   "cell_type": "code",
   "execution_count": 10,
   "metadata": {},
   "outputs": [],
   "source": [
    "#calculate p-value, if p-value>0.95 mark it as 1, otherwise, mark it as 0\n",
    "def compareWith0_01Pvalue(mean_arr,std_arr,filename,filepath):\n",
    "\n",
    "    arr=[]\n",
    "    csv_matrix = np.loadtxt(open(filepath,\"rb\"),delimiter=\",\",skiprows=0)\n",
    "    for i in range(len(csv_matrix)):\n",
    "        mid_res=stats.norm.cdf(csv_matrix[i], mean_arr, std_arr)\n",
    "\n",
    "        if mid_res>0.95:\n",
    "            arr.append(1)\n",
    "        else:\n",
    "            arr.append(0)\n",
    "    np.savetxt(\"../all_race_compare_with_0.01pvaluewithoutX/\"+filename+\".csv\", arr, delimiter = ',')\n",
    "    return filename"
   ]
  },
  {
   "cell_type": "code",
   "execution_count": 11,
   "metadata": {},
   "outputs": [],
   "source": [
    "for curDir, dirs, files in os.walk(top=\"../allrace_bin_1000_Average_WithoutX/\"):\n",
    "    for file in files:   \n",
    "        for category in allcategories:\n",
    "            if file.startswith(category):\n",
    "                filename=file[:file.index(\".\")]\n",
    "                filepath=os.path.join(curDir,file)\n",
    "                #print(filepath)\n",
    "                compareWith0_01Pvalue(mean_arr=mean_dict_different_race[category],std_arr=std_dict_different_race[category],filename=filename,filepath=filepath)"
   ]
  },
  {
   "attachments": {},
   "cell_type": "markdown",
   "metadata": {},
   "source": [
    "check continuous '1'"
   ]
  },
  {
   "cell_type": "code",
   "execution_count": 12,
   "metadata": {},
   "outputs": [],
   "source": [
    "def generatedfandcsv(columns,dic,filename):\n",
    "\n",
    "    row_names=list(dic.keys())\n",
    "    a=[]\n",
    "    bs=[]\n",
    "\n",
    "    for x in row_names:\n",
    "        a.append(x)\n",
    "        bs.append(dic[x])\n",
    "\n",
    "    dictforDF=dict()\n",
    "    dictforDF[columns[0]]=a\n",
    "    dictforDF[columns[1]]=bs\n",
    "\n",
    "\n",
    "    df_index=pd.DataFrame(dictforDF)\n",
    "    df_index.to_csv(\"../all_race_start_length/\"+filename+\"_start_lenth.csv\")\n",
    "    return df_index\n"
   ]
  },
  {
   "cell_type": "code",
   "execution_count": 4,
   "metadata": {},
   "outputs": [],
   "source": [
    "def checkContinuous1(arr):\n",
    "    res=dict()\n",
    "    i=0\n",
    "    while i<len(arr)-1:\n",
    "        if arr[i]==1:\n",
    "            count=1\n",
    "            for j in range(i+1,len(arr),1):\n",
    "                if arr[j]==1:\n",
    "                    count+=1                    \n",
    "                else:                   \n",
    "                    break\n",
    "            res[i]=count\n",
    "            i+=count\n",
    "        else:\n",
    "            i+=1\n",
    "            continue\n",
    "    return res\n",
    "            \n"
   ]
  },
  {
   "cell_type": "code",
   "execution_count": 14,
   "metadata": {},
   "outputs": [],
   "source": [
    "def getstartAndLength(filepath,filename):\n",
    "    csv_matrix = np.loadtxt(open(filepath,\"rb\"),delimiter=\",\",skiprows=0)\n",
    "    res=checkContinuous1(csv_matrix)\n",
    "    df=generatedfandcsv(columns=[\"start\",\"length\"],dic=res,filename=filename)\n",
    "    return df"
   ]
  },
  {
   "cell_type": "code",
   "execution_count": 15,
   "metadata": {},
   "outputs": [],
   "source": [
    "for curDir, dirs, files in os.walk(top=\"../all_race_compare_with_0.01pvaluewithoutX/\"):\n",
    "    for file in files:\n",
    "\n",
    "        filename=file[:file.index(\".\")]\n",
    "        filepath=os.path.join(curDir,file)\n",
    "        getstartAndLength(filepath=filepath,filename=filename)"
   ]
  },
  {
   "cell_type": "code",
   "execution_count": 16,
   "metadata": {},
   "outputs": [],
   "source": [
    "\n",
    "def countNumofLength(dic,filepath):\n",
    "    csv_data = pd.read_csv(filepath, low_memory = False)\n",
    "    csv_df = pd.DataFrame(csv_data)\n",
    "    arr=np.array(csv_df['length'])\n",
    "    #print(dic)\n",
    "    for i in range(len(arr)):\n",
    "        #print(\"before iteration\",dic)\n",
    "        if arr[i] in dic:\n",
    "            #print(\"in iteration not\",dic)\n",
    "            dic[arr[i]]+=1\n",
    "        else:\n",
    "            dic[arr[i]]=1\n",
    "            #print(\"in iteration\",dic)\n",
    "    #print(dic)\n",
    "    dic = {k: v for k, v in sorted(dic.items())}\n",
    "\n",
    "    return dic"
   ]
  },
  {
   "cell_type": "code",
   "execution_count": 17,
   "metadata": {},
   "outputs": [],
   "source": [
    "\n",
    "race_dic_except_mhc=dict()\n",
    "for category in allcategories:\n",
    "    race_dic_except_mhc[category]=dict()\n",
    "\n",
    "for curDir, dirs, files in os.walk(top=\"../all_race_start_length/\"):\n",
    "    for category in allcategories:\n",
    "        mydic=dict()\n",
    "        for file in files:        \n",
    "            if file.startswith(category):\n",
    "                filename=file[:file.index(\".\")]\n",
    "                if \"mhc\" in filename:\n",
    "                    continue          \n",
    "                else:                  \n",
    "                    filepath=os.path.join(curDir,file)\n",
    "                    mydic=countNumofLength(mydic,filepath=filepath)\n",
    "        race_dic_except_mhc[category]=mydic"
   ]
  },
  {
   "cell_type": "code",
   "execution_count": 18,
   "metadata": {},
   "outputs": [
    {
     "data": {
      "text/plain": [
       "{'ACB': {1: 2130, 2: 398, 3: 82, 4: 26, 5: 9, 6: 3, 7: 2, 8: 1},\n",
       " 'ASW': {1: 2167, 2: 405, 3: 88, 4: 18, 5: 5, 6: 3, 7: 3, 8: 2, 9: 1},\n",
       " 'BEB': {1: 1970, 2: 392, 3: 104, 4: 30, 5: 9, 6: 4, 7: 1, 8: 2},\n",
       " 'CDX': {1: 1890, 2: 420, 3: 95, 4: 32, 5: 17, 6: 8, 7: 2, 9: 1},\n",
       " 'CEU': {1: 2026, 2: 414, 3: 105, 4: 29, 5: 10, 6: 4, 7: 1, 8: 1, 18: 1},\n",
       " 'CHB': {1: 1913, 2: 393, 3: 92, 4: 34, 5: 16, 6: 6, 7: 2, 8: 1},\n",
       " 'CHS': {1: 1920, 2: 410, 3: 90, 4: 30, 5: 13, 6: 3, 7: 2, 8: 2},\n",
       " 'CLM': {1: 2010, 2: 391, 3: 90, 4: 38, 5: 8, 6: 5, 7: 2, 8: 3, 9: 1},\n",
       " 'ESN': {1: 2137, 2: 378, 3: 85, 4: 20, 5: 10, 6: 2, 7: 3, 8: 1, 12: 1},\n",
       " 'FIN': {1: 2000, 2: 454, 3: 106, 4: 33, 5: 12, 6: 7, 7: 3},\n",
       " 'GBR': {1: 1989, 2: 415, 3: 109, 4: 41, 5: 11, 6: 4, 7: 6, 11: 1, 19: 1},\n",
       " 'GIH': {1: 1912, 2: 393, 3: 100, 4: 30, 5: 9, 6: 4, 7: 1, 9: 1},\n",
       " 'GWD': {1: 2012, 2: 380, 3: 83, 4: 27, 5: 8, 6: 3, 7: 2, 15: 1},\n",
       " 'IBS': {1: 1931, 2: 390, 3: 99, 4: 28, 5: 10, 6: 3, 7: 3, 8: 1, 13: 1},\n",
       " 'ITU': {1: 1938, 2: 399, 3: 104, 4: 33, 5: 9, 6: 2, 8: 2, 10: 1},\n",
       " 'JPT': {1: 1859, 2: 416, 3: 118, 4: 31, 5: 9, 6: 5, 7: 1, 8: 1},\n",
       " 'KHV': {1: 1881, 2: 404, 3: 91, 4: 41, 5: 10, 6: 4, 7: 1, 11: 1},\n",
       " 'LWK': {1: 2201, 2: 384, 3: 85, 4: 26, 5: 10, 6: 1, 7: 3, 8: 1, 9: 1},\n",
       " 'MSL': {1: 2070, 2: 377, 3: 75, 4: 21, 5: 12, 6: 8, 7: 2, 8: 1},\n",
       " 'MXL': {1: 1981, 2: 441, 3: 81, 4: 25, 5: 13, 6: 8, 7: 3},\n",
       " 'PEL': {1: 1963, 2: 409, 3: 125, 4: 33, 5: 13, 6: 5, 7: 3, 8: 3, 9: 2, 11: 1},\n",
       " 'PJL': {1: 1889, 2: 393, 3: 98, 4: 33, 5: 7, 6: 2, 7: 1, 9: 1},\n",
       " 'PUR': {1: 2036, 2: 414, 3: 99, 4: 30, 5: 7, 6: 4, 7: 1, 9: 1},\n",
       " 'STU': {1: 1913, 2: 383, 3: 118, 4: 28, 5: 6, 6: 4, 7: 1, 8: 2},\n",
       " 'TSI': {1: 1967, 2: 432, 3: 98, 4: 33, 5: 5, 6: 7, 7: 1, 14: 1},\n",
       " 'YRI': {1: 2060, 2: 347, 3: 79, 4: 20, 5: 8, 6: 4, 7: 2, 8: 1, 9: 1}}"
      ]
     },
     "execution_count": 18,
     "metadata": {},
     "output_type": "execute_result"
    }
   ],
   "source": [
    "race_dic_except_mhc#{race:{length of continuous '1': count}} for split_chr..."
   ]
  },
  {
   "cell_type": "code",
   "execution_count": 20,
   "metadata": {},
   "outputs": [],
   "source": [
    "mhc_final_dict=dict()\n",
    "for curDir, dirs, files in os.walk(top=\"../all_race_start_length/\"):\n",
    "    for category in allcategories:\n",
    "        mhcdic=dict()\n",
    "        for file in files:   \n",
    "            if file.startswith(category):\n",
    "                filename=file[:file.index(\".\")]\n",
    "                if \"mhc\" in filename:\n",
    "                    filepath=os.path.join(curDir,file)\n",
    "                    mhcdic=countNumofLength(mhcdic,filepath=filepath)\n",
    "        mhc_final_dict[category]=mhcdic\n",
    "                  "
   ]
  },
  {
   "cell_type": "code",
   "execution_count": 21,
   "metadata": {},
   "outputs": [
    {
     "data": {
      "text/plain": [
       "{'ACB': {1: 6, 2: 3, 3: 3, 4: 2, 12: 1},\n",
       " 'ASW': {1: 3, 2: 2, 3: 4, 8: 2, 10: 1},\n",
       " 'BEB': {1: 5, 2: 3, 3: 2, 4: 1},\n",
       " 'CDX': {1: 3, 2: 6, 4: 2, 7: 1},\n",
       " 'CEU': {1: 5, 2: 3, 4: 1, 5: 1, 8: 1},\n",
       " 'CHB': {1: 7, 2: 3, 3: 2, 4: 1},\n",
       " 'CHS': {1: 3, 2: 2, 4: 1, 5: 1, 8: 1},\n",
       " 'CLM': {1: 5, 2: 1, 3: 2, 4: 1, 6: 1, 9: 1},\n",
       " 'ESN': {1: 3, 2: 5, 3: 5, 4: 1, 8: 1, 9: 1},\n",
       " 'FIN': {1: 6, 2: 3, 3: 3},\n",
       " 'GBR': {1: 6, 2: 3, 3: 1, 5: 1, 6: 1},\n",
       " 'GIH': {1: 3, 2: 3, 3: 1, 4: 1, 5: 1, 7: 1},\n",
       " 'GWD': {1: 5, 2: 5, 3: 3, 6: 1, 7: 1, 9: 1},\n",
       " 'IBS': {1: 5, 2: 5, 6: 1, 8: 1},\n",
       " 'ITU': {1: 4, 2: 3, 3: 1, 4: 2, 6: 1},\n",
       " 'JPT': {1: 7, 2: 3, 3: 2, 4: 2, 9: 1},\n",
       " 'KHV': {1: 4, 2: 5, 3: 1, 5: 1, 6: 1, 8: 1},\n",
       " 'LWK': {1: 9, 2: 4, 3: 3, 4: 1, 9: 1},\n",
       " 'MSL': {1: 1, 2: 5, 3: 1, 5: 2, 9: 2, 13: 1},\n",
       " 'MXL': {1: 9, 2: 2, 3: 1, 8: 1},\n",
       " 'PEL': {1: 7, 2: 4, 3: 1, 5: 1, 8: 1},\n",
       " 'PJL': {1: 1, 2: 6, 5: 1},\n",
       " 'PUR': {1: 6, 2: 2, 3: 3, 5: 2, 6: 1},\n",
       " 'STU': {1: 4, 2: 3, 3: 2, 6: 1, 8: 1},\n",
       " 'TSI': {1: 3, 2: 3, 3: 2, 7: 1},\n",
       " 'YRI': {1: 5, 2: 2, 3: 3, 8: 1, 9: 1, 14: 1}}"
      ]
     },
     "execution_count": 21,
     "metadata": {},
     "output_type": "execute_result"
    }
   ],
   "source": [
    "mhc_final_dict#{race:{length of continuous '1': count}} for mhc"
   ]
  },
  {
   "cell_type": "code",
   "execution_count": 23,
   "metadata": {},
   "outputs": [],
   "source": [
    "arr1=[]\n",
    "for _,v in race_dic_except_mhc.items():\n",
    "    for k2,arr in v.items():\n",
    "        for i in range(arr):\n",
    "            arr1.append(k2)\n",
    "for _,v in mhc_final_dict.items():\n",
    "    for k2,arr in v.items():\n",
    "        for i in range(arr):\n",
    "            arr1.append(k2)\n",
    "\n"
   ]
  },
  {
   "cell_type": "code",
   "execution_count": 24,
   "metadata": {},
   "outputs": [
    {
     "name": "stdout",
     "output_type": "stream",
     "text": [
      "mean 1.3100642980046489\n",
      "dev 0.7348077849667934\n"
     ]
    },
    {
     "data": {
      "text/plain": [
       "5.984427106581903"
      ]
     },
     "execution_count": 24,
     "metadata": {},
     "output_type": "execute_result"
    }
   ],
   "source": [
    "mean_1=np.mean(arr1)\n",
    "dev1=np.std(arr1)\n",
    "print(\"mean\",mean_1)\n",
    "print(\"dev\",dev1)\n",
    "mid_res=stats.norm.ppf(0.9999999999,mean_1,dev1)\n",
    "mid_res"
   ]
  },
  {
   "attachments": {},
   "cell_type": "markdown",
   "metadata": {},
   "source": [
    "if continuous '1' > threshold, then it will be complementary region"
   ]
  },
  {
   "cell_type": "code",
   "execution_count": 27,
   "metadata": {},
   "outputs": [],
   "source": [
    "def getAllPositions(filepath):\n",
    "    pos=[]\n",
    "    vcf_file = pysam.VariantFile(filepath)\n",
    "    for record in vcf_file:\n",
    "        pos.append(record.pos)\n",
    "    pos=sorted(list(set(pos)))\n",
    "    return pos"
   ]
  },
  {
   "cell_type": "code",
   "execution_count": 28,
   "metadata": {},
   "outputs": [],
   "source": [
    "def findPosition(filepath,start,length):\n",
    "    arr=[]\n",
    "    allpos=getAllPositions(filepath=filepath)\n",
    "    arr.append(allpos[start*1000])\n",
    "    if (start+length)*1000-1<len(allpos):\n",
    "        end=allpos[(start+length)*1000-1]\n",
    "    else:\n",
    "        end=allpos[-1]\n",
    "    arr.append(end)\n",
    "    return arr\n",
    "\n"
   ]
  },
  {
   "cell_type": "code",
   "execution_count": 29,
   "metadata": {},
   "outputs": [],
   "source": [
    "#for split_chr..., get complementary region\n",
    "def GetPosition(filepath,threshold,res):\n",
    "\n",
    "    csv_data = pd.read_csv(filepath, low_memory = False)\n",
    "    csv_df = pd.DataFrame(csv_data)\n",
    "    arr_start=np.array(csv_df['start'])\n",
    "    arr_length=np.array(csv_df['length'])\n",
    "    mydic=dict()\n",
    "    midarr=[]\n",
    "    \n",
    "    for i in range(len(arr_start)):\n",
    "        mydic[arr_start[i]]=arr_length[i]\n",
    "\n",
    "    filename_components=(filepath.split(\"/\")[-1]).split(\"_start_lenth.csv\")[0].split(\"_\")\n",
    "    findfoldername=\"split_\"+filename_components[2]\n",
    "    findfoldername_filename=filename_components[3]\n",
    "    filepath=\"../\"+findfoldername+\"/\"+findfoldername_filename+\".vcf.gz\"\n",
    "\n",
    "    for k,v in mydic.items():\n",
    "        if v>=threshold:\n",
    "            print(\"filepath\",filepath)\n",
    "            midarr.append(findPosition(filepath=filepath,start=k,length=v))\n",
    "            \n",
    "        else:\n",
    "            continue\n",
    "\n",
    "    if midarr!=[]:\n",
    "        res[findfoldername+\"/\"+findfoldername_filename]=midarr\n",
    "    return res"
   ]
  },
  {
   "cell_type": "code",
   "execution_count": 30,
   "metadata": {},
   "outputs": [],
   "source": [
    "#for mhc get complementary region\n",
    "def GetPositionformhc(filepath,threshold,res):\n",
    "\n",
    "    csv_data = pd.read_csv(filepath, low_memory = False)\n",
    "    csv_df = pd.DataFrame(csv_data)\n",
    "    arr_start=np.array(csv_df['start'])\n",
    "    arr_length=np.array(csv_df['length'])\n",
    "    mydic=dict()\n",
    "    midarr=[]\n",
    "    \n",
    "    for i in range(len(arr_start)):\n",
    "        mydic[arr_start[i]]=arr_length[i]\n",
    "\n",
    "    filepath=\"../mhcdataset/1kgp.29720000-33130000.vcf\"\n",
    "\n",
    "    for k,v in mydic.items():\n",
    "        if v>=threshold:\n",
    "            print(\"filepath\",filepath)\n",
    "            midarr.append(findPosition(filepath=filepath,start=k,length=v))\n",
    "            \n",
    "        else:\n",
    "            continue\n",
    "\n",
    "    if midarr!=[]:\n",
    "        res[\"mhc\"]=midarr\n",
    "    return res"
   ]
  },
  {
   "cell_type": "code",
   "execution_count": 32,
   "metadata": {},
   "outputs": [
    {
     "name": "stdout",
     "output_type": "stream",
     "text": [
      "filepath ../split_chr2/xau.vcf.gz\n"
     ]
    },
    {
     "name": "stderr",
     "output_type": "stream",
     "text": [
      "[E::idx_find_and_load] Could not retrieve index file for '../split_chr2/xau.vcf.gz'\n"
     ]
    },
    {
     "name": "stdout",
     "output_type": "stream",
     "text": [
      "filepath ../split_chr5/xaa.vcf.gz\n"
     ]
    },
    {
     "name": "stderr",
     "output_type": "stream",
     "text": [
      "[E::idx_find_and_load] Could not retrieve index file for '../split_chr5/xaa.vcf.gz'\n"
     ]
    },
    {
     "name": "stdout",
     "output_type": "stream",
     "text": [
      "filepath ../split_chr7/xan.vcf.gz\n"
     ]
    },
    {
     "name": "stderr",
     "output_type": "stream",
     "text": [
      "[E::idx_find_and_load] Could not retrieve index file for '../split_chr7/xan.vcf.gz'\n"
     ]
    },
    {
     "name": "stdout",
     "output_type": "stream",
     "text": [
      "filepath ../split_chr11/xaw.vcf.gz\n"
     ]
    },
    {
     "name": "stderr",
     "output_type": "stream",
     "text": [
      "[E::idx_find_and_load] Could not retrieve index file for '../split_chr11/xaw.vcf.gz'\n"
     ]
    },
    {
     "name": "stdout",
     "output_type": "stream",
     "text": [
      "filepath ../split_chr14/xaa.vcf.gz\n"
     ]
    },
    {
     "name": "stderr",
     "output_type": "stream",
     "text": [
      "[E::idx_find_and_load] Could not retrieve index file for '../split_chr14/xaa.vcf.gz'\n"
     ]
    },
    {
     "name": "stdout",
     "output_type": "stream",
     "text": [
      "filepath ../split_chr21/xaa.vcf.gz\n"
     ]
    },
    {
     "name": "stderr",
     "output_type": "stream",
     "text": [
      "[E::idx_find_and_load] Could not retrieve index file for '../split_chr21/xaa.vcf.gz'\n"
     ]
    },
    {
     "name": "stdout",
     "output_type": "stream",
     "text": [
      "filepath ../split_chr2/xau.vcf.gz\n"
     ]
    },
    {
     "name": "stderr",
     "output_type": "stream",
     "text": [
      "[E::idx_find_and_load] Could not retrieve index file for '../split_chr2/xau.vcf.gz'\n"
     ]
    },
    {
     "name": "stdout",
     "output_type": "stream",
     "text": [
      "filepath ../split_chr5/xaa.vcf.gz\n"
     ]
    },
    {
     "name": "stderr",
     "output_type": "stream",
     "text": [
      "[E::idx_find_and_load] Could not retrieve index file for '../split_chr5/xaa.vcf.gz'\n"
     ]
    },
    {
     "name": "stdout",
     "output_type": "stream",
     "text": [
      "filepath ../split_chr9/xak.vcf.gz\n"
     ]
    },
    {
     "name": "stderr",
     "output_type": "stream",
     "text": [
      "[E::idx_find_and_load] Could not retrieve index file for '../split_chr9/xak.vcf.gz'\n"
     ]
    },
    {
     "name": "stdout",
     "output_type": "stream",
     "text": [
      "filepath ../split_chr10/xaj.vcf.gz\n"
     ]
    },
    {
     "name": "stderr",
     "output_type": "stream",
     "text": [
      "[E::idx_find_and_load] Could not retrieve index file for '../split_chr10/xaj.vcf.gz'\n"
     ]
    },
    {
     "name": "stdout",
     "output_type": "stream",
     "text": [
      "filepath ../split_chr10/xaj.vcf.gz\n"
     ]
    },
    {
     "name": "stderr",
     "output_type": "stream",
     "text": [
      "[E::idx_find_and_load] Could not retrieve index file for '../split_chr10/xaj.vcf.gz'\n"
     ]
    },
    {
     "name": "stdout",
     "output_type": "stream",
     "text": [
      "filepath ../split_chr11/xaf.vcf.gz\n"
     ]
    },
    {
     "name": "stderr",
     "output_type": "stream",
     "text": [
      "[E::idx_find_and_load] Could not retrieve index file for '../split_chr11/xaf.vcf.gz'\n"
     ]
    },
    {
     "name": "stdout",
     "output_type": "stream",
     "text": [
      "filepath ../split_chr13/xaa.vcf.gz\n"
     ]
    },
    {
     "name": "stderr",
     "output_type": "stream",
     "text": [
      "[E::idx_find_and_load] Could not retrieve index file for '../split_chr13/xaa.vcf.gz'\n"
     ]
    },
    {
     "name": "stdout",
     "output_type": "stream",
     "text": [
      "filepath ../split_chr14/xak.vcf.gz\n"
     ]
    },
    {
     "name": "stderr",
     "output_type": "stream",
     "text": [
      "[E::idx_find_and_load] Could not retrieve index file for '../split_chr14/xak.vcf.gz'\n"
     ]
    },
    {
     "name": "stdout",
     "output_type": "stream",
     "text": [
      "filepath ../split_chr21/xaa.vcf.gz\n"
     ]
    },
    {
     "name": "stderr",
     "output_type": "stream",
     "text": [
      "[E::idx_find_and_load] Could not retrieve index file for '../split_chr21/xaa.vcf.gz'\n"
     ]
    },
    {
     "name": "stdout",
     "output_type": "stream",
     "text": [
      "filepath ../split_chr1/xbx.vcf.gz\n"
     ]
    },
    {
     "name": "stderr",
     "output_type": "stream",
     "text": [
      "[E::idx_find_and_load] Could not retrieve index file for '../split_chr1/xbx.vcf.gz'\n"
     ]
    },
    {
     "name": "stdout",
     "output_type": "stream",
     "text": [
      "filepath ../split_chr2/xan.vcf.gz\n"
     ]
    },
    {
     "name": "stderr",
     "output_type": "stream",
     "text": [
      "[E::idx_find_and_load] Could not retrieve index file for '../split_chr2/xan.vcf.gz'\n"
     ]
    },
    {
     "name": "stdout",
     "output_type": "stream",
     "text": [
      "filepath ../split_chr3/xav.vcf.gz\n"
     ]
    },
    {
     "name": "stderr",
     "output_type": "stream",
     "text": [
      "[E::idx_find_and_load] Could not retrieve index file for '../split_chr3/xav.vcf.gz'\n"
     ]
    },
    {
     "name": "stdout",
     "output_type": "stream",
     "text": [
      "filepath ../split_chr3/xbf.vcf.gz\n"
     ]
    },
    {
     "name": "stderr",
     "output_type": "stream",
     "text": [
      "[E::idx_find_and_load] Could not retrieve index file for '../split_chr3/xbf.vcf.gz'\n"
     ]
    },
    {
     "name": "stdout",
     "output_type": "stream",
     "text": [
      "filepath ../split_chr4/xaz.vcf.gz\n"
     ]
    },
    {
     "name": "stderr",
     "output_type": "stream",
     "text": [
      "[E::idx_find_and_load] Could not retrieve index file for '../split_chr4/xaz.vcf.gz'\n"
     ]
    },
    {
     "name": "stdout",
     "output_type": "stream",
     "text": [
      "filepath ../split_chr13/xai.vcf.gz\n"
     ]
    },
    {
     "name": "stderr",
     "output_type": "stream",
     "text": [
      "[E::idx_find_and_load] Could not retrieve index file for '../split_chr13/xai.vcf.gz'\n"
     ]
    },
    {
     "name": "stdout",
     "output_type": "stream",
     "text": [
      "filepath ../split_chr14/xaa.vcf.gz\n"
     ]
    },
    {
     "name": "stderr",
     "output_type": "stream",
     "text": [
      "[E::idx_find_and_load] Could not retrieve index file for '../split_chr14/xaa.vcf.gz'\n"
     ]
    },
    {
     "name": "stdout",
     "output_type": "stream",
     "text": [
      "filepath ../split_chr1/xay.vcf.gz\n"
     ]
    },
    {
     "name": "stderr",
     "output_type": "stream",
     "text": [
      "[E::idx_find_and_load] Could not retrieve index file for '../split_chr1/xay.vcf.gz'\n"
     ]
    },
    {
     "name": "stdout",
     "output_type": "stream",
     "text": [
      "filepath ../split_chr2/xbd.vcf.gz\n"
     ]
    },
    {
     "name": "stderr",
     "output_type": "stream",
     "text": [
      "[E::idx_find_and_load] Could not retrieve index file for '../split_chr2/xbd.vcf.gz'\n"
     ]
    },
    {
     "name": "stdout",
     "output_type": "stream",
     "text": [
      "filepath ../split_chr4/xba.vcf.gz\n"
     ]
    },
    {
     "name": "stderr",
     "output_type": "stream",
     "text": [
      "[E::idx_find_and_load] Could not retrieve index file for '../split_chr4/xba.vcf.gz'\n"
     ]
    },
    {
     "name": "stdout",
     "output_type": "stream",
     "text": [
      "filepath ../split_chr6/xao.vcf.gz\n",
      "filepath ../split_chr7/xaf.vcf.gz\n"
     ]
    },
    {
     "name": "stderr",
     "output_type": "stream",
     "text": [
      "[E::idx_find_and_load] Could not retrieve index file for '../split_chr7/xaf.vcf.gz'\n"
     ]
    },
    {
     "name": "stdout",
     "output_type": "stream",
     "text": [
      "filepath ../split_chr9/xau.vcf.gz\n"
     ]
    },
    {
     "name": "stderr",
     "output_type": "stream",
     "text": [
      "[E::idx_find_and_load] Could not retrieve index file for '../split_chr9/xau.vcf.gz'\n"
     ]
    },
    {
     "name": "stdout",
     "output_type": "stream",
     "text": [
      "filepath ../split_chr10/xan.vcf.gz\n"
     ]
    },
    {
     "name": "stderr",
     "output_type": "stream",
     "text": [
      "[E::idx_find_and_load] Could not retrieve index file for '../split_chr10/xan.vcf.gz'\n"
     ]
    },
    {
     "name": "stdout",
     "output_type": "stream",
     "text": [
      "filepath ../split_chr12/xbc.vcf.gz\n"
     ]
    },
    {
     "name": "stderr",
     "output_type": "stream",
     "text": [
      "[E::idx_find_and_load] Could not retrieve index file for '../split_chr12/xbc.vcf.gz'\n"
     ]
    },
    {
     "name": "stdout",
     "output_type": "stream",
     "text": [
      "filepath ../split_chr13/xai.vcf.gz\n"
     ]
    },
    {
     "name": "stderr",
     "output_type": "stream",
     "text": [
      "[E::idx_find_and_load] Could not retrieve index file for '../split_chr13/xai.vcf.gz'\n"
     ]
    },
    {
     "name": "stdout",
     "output_type": "stream",
     "text": [
      "filepath ../split_chr17/xag.vcf.gz\n"
     ]
    },
    {
     "name": "stderr",
     "output_type": "stream",
     "text": [
      "[E::idx_find_and_load] Could not retrieve index file for '../split_chr17/xag.vcf.gz'\n"
     ]
    },
    {
     "name": "stdout",
     "output_type": "stream",
     "text": [
      "filepath ../split_chr18/xan.vcf.gz\n"
     ]
    },
    {
     "name": "stderr",
     "output_type": "stream",
     "text": [
      "[E::idx_find_and_load] Could not retrieve index file for '../split_chr18/xan.vcf.gz'\n"
     ]
    },
    {
     "name": "stdout",
     "output_type": "stream",
     "text": [
      "filepath ../split_chr1/xbe.vcf.gz\n"
     ]
    },
    {
     "name": "stderr",
     "output_type": "stream",
     "text": [
      "[E::idx_find_and_load] Could not retrieve index file for '../split_chr1/xbe.vcf.gz'\n"
     ]
    },
    {
     "name": "stdout",
     "output_type": "stream",
     "text": [
      "filepath ../split_chr6/xac.vcf.gz\n",
      "filepath ../split_chr7/xbc.vcf.gz\n"
     ]
    },
    {
     "name": "stderr",
     "output_type": "stream",
     "text": [
      "[E::idx_find_and_load] Could not retrieve index file for '../split_chr7/xbc.vcf.gz'\n"
     ]
    },
    {
     "name": "stdout",
     "output_type": "stream",
     "text": [
      "filepath ../split_chr11/xaf.vcf.gz\n"
     ]
    },
    {
     "name": "stderr",
     "output_type": "stream",
     "text": [
      "[E::idx_find_and_load] Could not retrieve index file for '../split_chr11/xaf.vcf.gz'\n"
     ]
    },
    {
     "name": "stdout",
     "output_type": "stream",
     "text": [
      "filepath ../split_chr12/xac.vcf.gz\n"
     ]
    },
    {
     "name": "stderr",
     "output_type": "stream",
     "text": [
      "[E::idx_find_and_load] Could not retrieve index file for '../split_chr12/xac.vcf.gz'\n"
     ]
    },
    {
     "name": "stdout",
     "output_type": "stream",
     "text": [
      "filepath ../split_chr17/xaf.vcf.gz\n"
     ]
    },
    {
     "name": "stderr",
     "output_type": "stream",
     "text": [
      "[E::idx_find_and_load] Could not retrieve index file for '../split_chr17/xaf.vcf.gz'\n"
     ]
    },
    {
     "name": "stdout",
     "output_type": "stream",
     "text": [
      "filepath ../split_chr17/xaj.vcf.gz\n"
     ]
    },
    {
     "name": "stderr",
     "output_type": "stream",
     "text": [
      "[E::idx_find_and_load] Could not retrieve index file for '../split_chr17/xaj.vcf.gz'\n"
     ]
    },
    {
     "name": "stdout",
     "output_type": "stream",
     "text": [
      "filepath ../split_chr2/xbd.vcf.gz\n"
     ]
    },
    {
     "name": "stderr",
     "output_type": "stream",
     "text": [
      "[E::idx_find_and_load] Could not retrieve index file for '../split_chr2/xbd.vcf.gz'\n"
     ]
    },
    {
     "name": "stdout",
     "output_type": "stream",
     "text": [
      "filepath ../split_chr4/xba.vcf.gz\n"
     ]
    },
    {
     "name": "stderr",
     "output_type": "stream",
     "text": [
      "[E::idx_find_and_load] Could not retrieve index file for '../split_chr4/xba.vcf.gz'\n"
     ]
    },
    {
     "name": "stdout",
     "output_type": "stream",
     "text": [
      "filepath ../split_chr4/xaz.vcf.gz\n"
     ]
    },
    {
     "name": "stderr",
     "output_type": "stream",
     "text": [
      "[E::idx_find_and_load] Could not retrieve index file for '../split_chr4/xaz.vcf.gz'\n"
     ]
    },
    {
     "name": "stdout",
     "output_type": "stream",
     "text": [
      "filepath ../split_chr6/xao.vcf.gz\n",
      "filepath ../split_chr7/xbc.vcf.gz\n"
     ]
    },
    {
     "name": "stderr",
     "output_type": "stream",
     "text": [
      "[E::idx_find_and_load] Could not retrieve index file for '../split_chr7/xbc.vcf.gz'\n"
     ]
    },
    {
     "name": "stdout",
     "output_type": "stream",
     "text": [
      "filepath ../split_chr7/xaf.vcf.gz\n"
     ]
    },
    {
     "name": "stderr",
     "output_type": "stream",
     "text": [
      "[E::idx_find_and_load] Could not retrieve index file for '../split_chr7/xaf.vcf.gz'\n"
     ]
    },
    {
     "name": "stdout",
     "output_type": "stream",
     "text": [
      "filepath ../split_chr10/xar.vcf.gz\n"
     ]
    },
    {
     "name": "stderr",
     "output_type": "stream",
     "text": [
      "[E::idx_find_and_load] Could not retrieve index file for '../split_chr10/xar.vcf.gz'\n"
     ]
    },
    {
     "name": "stdout",
     "output_type": "stream",
     "text": [
      "filepath ../split_chr11/xav.vcf.gz\n"
     ]
    },
    {
     "name": "stderr",
     "output_type": "stream",
     "text": [
      "[E::idx_find_and_load] Could not retrieve index file for '../split_chr11/xav.vcf.gz'\n"
     ]
    },
    {
     "name": "stdout",
     "output_type": "stream",
     "text": [
      "filepath ../split_chr22/xaa.vcf.gz\n"
     ]
    },
    {
     "name": "stderr",
     "output_type": "stream",
     "text": [
      "[E::idx_find_and_load] Could not retrieve index file for '../split_chr22/xaa.vcf.gz'\n"
     ]
    },
    {
     "name": "stdout",
     "output_type": "stream",
     "text": [
      "filepath ../split_chr3/xav.vcf.gz\n"
     ]
    },
    {
     "name": "stderr",
     "output_type": "stream",
     "text": [
      "[E::idx_find_and_load] Could not retrieve index file for '../split_chr3/xav.vcf.gz'\n"
     ]
    },
    {
     "name": "stdout",
     "output_type": "stream",
     "text": [
      "filepath ../split_chr4/xba.vcf.gz\n"
     ]
    },
    {
     "name": "stderr",
     "output_type": "stream",
     "text": [
      "[E::idx_find_and_load] Could not retrieve index file for '../split_chr4/xba.vcf.gz'\n"
     ]
    },
    {
     "name": "stdout",
     "output_type": "stream",
     "text": [
      "filepath ../split_chr5/xaa.vcf.gz\n"
     ]
    },
    {
     "name": "stderr",
     "output_type": "stream",
     "text": [
      "[E::idx_find_and_load] Could not retrieve index file for '../split_chr5/xaa.vcf.gz'\n"
     ]
    },
    {
     "name": "stdout",
     "output_type": "stream",
     "text": [
      "filepath ../split_chr6/xao.vcf.gz\n",
      "filepath ../split_chr7/xbc.vcf.gz\n"
     ]
    },
    {
     "name": "stderr",
     "output_type": "stream",
     "text": [
      "[E::idx_find_and_load] Could not retrieve index file for '../split_chr7/xbc.vcf.gz'\n"
     ]
    },
    {
     "name": "stdout",
     "output_type": "stream",
     "text": [
      "filepath ../split_chr8/xaz.vcf.gz\n"
     ]
    },
    {
     "name": "stderr",
     "output_type": "stream",
     "text": [
      "[E::idx_find_and_load] Could not retrieve index file for '../split_chr8/xaz.vcf.gz'\n"
     ]
    },
    {
     "name": "stdout",
     "output_type": "stream",
     "text": [
      "filepath ../split_chr14/xat.vcf.gz\n"
     ]
    },
    {
     "name": "stderr",
     "output_type": "stream",
     "text": [
      "[E::idx_find_and_load] Could not retrieve index file for '../split_chr14/xat.vcf.gz'\n"
     ]
    },
    {
     "name": "stdout",
     "output_type": "stream",
     "text": [
      "filepath ../split_chr1/xbd.vcf.gz\n"
     ]
    },
    {
     "name": "stderr",
     "output_type": "stream",
     "text": [
      "[E::idx_find_and_load] Could not retrieve index file for '../split_chr1/xbd.vcf.gz'\n"
     ]
    },
    {
     "name": "stdout",
     "output_type": "stream",
     "text": [
      "filepath ../split_chr3/xav.vcf.gz\n"
     ]
    },
    {
     "name": "stderr",
     "output_type": "stream",
     "text": [
      "[E::idx_find_and_load] Could not retrieve index file for '../split_chr3/xav.vcf.gz'\n"
     ]
    },
    {
     "name": "stdout",
     "output_type": "stream",
     "text": [
      "filepath ../split_chr3/xav.vcf.gz\n"
     ]
    },
    {
     "name": "stderr",
     "output_type": "stream",
     "text": [
      "[E::idx_find_and_load] Could not retrieve index file for '../split_chr3/xav.vcf.gz'\n"
     ]
    },
    {
     "name": "stdout",
     "output_type": "stream",
     "text": [
      "filepath ../split_chr3/xbj.vcf.gz\n"
     ]
    },
    {
     "name": "stderr",
     "output_type": "stream",
     "text": [
      "[E::idx_find_and_load] Could not retrieve index file for '../split_chr3/xbj.vcf.gz'\n"
     ]
    },
    {
     "name": "stdout",
     "output_type": "stream",
     "text": [
      "filepath ../split_chr4/xba.vcf.gz\n"
     ]
    },
    {
     "name": "stderr",
     "output_type": "stream",
     "text": [
      "[E::idx_find_and_load] Could not retrieve index file for '../split_chr4/xba.vcf.gz'\n"
     ]
    },
    {
     "name": "stdout",
     "output_type": "stream",
     "text": [
      "filepath ../split_chr6/xab.vcf.gz\n",
      "filepath ../split_chr6/xar.vcf.gz\n",
      "filepath ../split_chr7/xbc.vcf.gz\n"
     ]
    },
    {
     "name": "stderr",
     "output_type": "stream",
     "text": [
      "[E::idx_find_and_load] Could not retrieve index file for '../split_chr7/xbc.vcf.gz'\n"
     ]
    },
    {
     "name": "stdout",
     "output_type": "stream",
     "text": [
      "filepath ../split_chr12/xan.vcf.gz\n"
     ]
    },
    {
     "name": "stderr",
     "output_type": "stream",
     "text": [
      "[E::idx_find_and_load] Could not retrieve index file for '../split_chr12/xan.vcf.gz'\n"
     ]
    },
    {
     "name": "stdout",
     "output_type": "stream",
     "text": [
      "filepath ../split_chr14/xaa.vcf.gz\n"
     ]
    },
    {
     "name": "stderr",
     "output_type": "stream",
     "text": [
      "[E::idx_find_and_load] Could not retrieve index file for '../split_chr14/xaa.vcf.gz'\n"
     ]
    },
    {
     "name": "stdout",
     "output_type": "stream",
     "text": [
      "filepath ../split_chr14/xat.vcf.gz\n"
     ]
    },
    {
     "name": "stderr",
     "output_type": "stream",
     "text": [
      "[E::idx_find_and_load] Could not retrieve index file for '../split_chr14/xat.vcf.gz'\n"
     ]
    },
    {
     "name": "stdout",
     "output_type": "stream",
     "text": [
      "filepath ../split_chr2/xau.vcf.gz\n"
     ]
    },
    {
     "name": "stderr",
     "output_type": "stream",
     "text": [
      "[E::idx_find_and_load] Could not retrieve index file for '../split_chr2/xau.vcf.gz'\n"
     ]
    },
    {
     "name": "stdout",
     "output_type": "stream",
     "text": [
      "filepath ../split_chr5/xaa.vcf.gz\n"
     ]
    },
    {
     "name": "stderr",
     "output_type": "stream",
     "text": [
      "[E::idx_find_and_load] Could not retrieve index file for '../split_chr5/xaa.vcf.gz'\n"
     ]
    },
    {
     "name": "stdout",
     "output_type": "stream",
     "text": [
      "filepath ../split_chr5/xai.vcf.gz\n"
     ]
    },
    {
     "name": "stderr",
     "output_type": "stream",
     "text": [
      "[E::idx_find_and_load] Could not retrieve index file for '../split_chr5/xai.vcf.gz'\n"
     ]
    },
    {
     "name": "stdout",
     "output_type": "stream",
     "text": [
      "filepath ../split_chr6/xbf.vcf.gz\n",
      "filepath ../split_chr7/xap.vcf.gz\n"
     ]
    },
    {
     "name": "stderr",
     "output_type": "stream",
     "text": [
      "[E::idx_find_and_load] Could not retrieve index file for '../split_chr7/xap.vcf.gz'\n"
     ]
    },
    {
     "name": "stdout",
     "output_type": "stream",
     "text": [
      "filepath ../split_chr14/xan.vcf.gz\n"
     ]
    },
    {
     "name": "stderr",
     "output_type": "stream",
     "text": [
      "[E::idx_find_and_load] Could not retrieve index file for '../split_chr14/xan.vcf.gz'\n"
     ]
    },
    {
     "name": "stdout",
     "output_type": "stream",
     "text": [
      "filepath ../split_chr21/xaa.vcf.gz\n"
     ]
    },
    {
     "name": "stderr",
     "output_type": "stream",
     "text": [
      "[E::idx_find_and_load] Could not retrieve index file for '../split_chr21/xaa.vcf.gz'\n"
     ]
    },
    {
     "name": "stdout",
     "output_type": "stream",
     "text": [
      "filepath ../split_chr3/xbj.vcf.gz\n"
     ]
    },
    {
     "name": "stderr",
     "output_type": "stream",
     "text": [
      "[E::idx_find_and_load] Could not retrieve index file for '../split_chr3/xbj.vcf.gz'\n"
     ]
    },
    {
     "name": "stdout",
     "output_type": "stream",
     "text": [
      "filepath ../split_chr4/xaw.vcf.gz\n"
     ]
    },
    {
     "name": "stderr",
     "output_type": "stream",
     "text": [
      "[E::idx_find_and_load] Could not retrieve index file for '../split_chr4/xaw.vcf.gz'\n"
     ]
    },
    {
     "name": "stdout",
     "output_type": "stream",
     "text": [
      "filepath ../split_chr4/xbh.vcf.gz\n"
     ]
    },
    {
     "name": "stderr",
     "output_type": "stream",
     "text": [
      "[E::idx_find_and_load] Could not retrieve index file for '../split_chr4/xbh.vcf.gz'\n"
     ]
    },
    {
     "name": "stdout",
     "output_type": "stream",
     "text": [
      "filepath ../split_chr6/xat.vcf.gz\n",
      "filepath ../split_chr6/xbf.vcf.gz\n",
      "filepath ../split_chr7/xbc.vcf.gz\n"
     ]
    },
    {
     "name": "stderr",
     "output_type": "stream",
     "text": [
      "[E::idx_find_and_load] Could not retrieve index file for '../split_chr7/xbc.vcf.gz'\n"
     ]
    },
    {
     "name": "stdout",
     "output_type": "stream",
     "text": [
      "filepath ../split_chr8/xaz.vcf.gz\n"
     ]
    },
    {
     "name": "stderr",
     "output_type": "stream",
     "text": [
      "[E::idx_find_and_load] Could not retrieve index file for '../split_chr8/xaz.vcf.gz'\n"
     ]
    },
    {
     "name": "stdout",
     "output_type": "stream",
     "text": [
      "filepath ../split_chr9/xav.vcf.gz\n"
     ]
    },
    {
     "name": "stderr",
     "output_type": "stream",
     "text": [
      "[E::idx_find_and_load] Could not retrieve index file for '../split_chr9/xav.vcf.gz'\n"
     ]
    },
    {
     "name": "stdout",
     "output_type": "stream",
     "text": [
      "filepath ../split_chr11/xbb.vcf.gz\n"
     ]
    },
    {
     "name": "stderr",
     "output_type": "stream",
     "text": [
      "[E::idx_find_and_load] Could not retrieve index file for '../split_chr11/xbb.vcf.gz'\n"
     ]
    },
    {
     "name": "stdout",
     "output_type": "stream",
     "text": [
      "filepath ../split_chr18/xac.vcf.gz\n"
     ]
    },
    {
     "name": "stderr",
     "output_type": "stream",
     "text": [
      "[E::idx_find_and_load] Could not retrieve index file for '../split_chr18/xac.vcf.gz'\n"
     ]
    },
    {
     "name": "stdout",
     "output_type": "stream",
     "text": [
      "filepath ../split_chr1/xak.vcf.gz\n"
     ]
    },
    {
     "name": "stderr",
     "output_type": "stream",
     "text": [
      "[E::idx_find_and_load] Could not retrieve index file for '../split_chr1/xak.vcf.gz'\n"
     ]
    },
    {
     "name": "stdout",
     "output_type": "stream",
     "text": [
      "filepath ../split_chr2/xan.vcf.gz\n"
     ]
    },
    {
     "name": "stderr",
     "output_type": "stream",
     "text": [
      "[E::idx_find_and_load] Could not retrieve index file for '../split_chr2/xan.vcf.gz'\n"
     ]
    },
    {
     "name": "stdout",
     "output_type": "stream",
     "text": [
      "filepath ../split_chr2/xas.vcf.gz\n"
     ]
    },
    {
     "name": "stderr",
     "output_type": "stream",
     "text": [
      "[E::idx_find_and_load] Could not retrieve index file for '../split_chr2/xas.vcf.gz'\n"
     ]
    },
    {
     "name": "stdout",
     "output_type": "stream",
     "text": [
      "filepath ../split_chr3/xbf.vcf.gz\n"
     ]
    },
    {
     "name": "stderr",
     "output_type": "stream",
     "text": [
      "[E::idx_find_and_load] Could not retrieve index file for '../split_chr3/xbf.vcf.gz'\n"
     ]
    },
    {
     "name": "stdout",
     "output_type": "stream",
     "text": [
      "filepath ../split_chr3/xbi.vcf.gz\n"
     ]
    },
    {
     "name": "stderr",
     "output_type": "stream",
     "text": [
      "[E::idx_find_and_load] Could not retrieve index file for '../split_chr3/xbi.vcf.gz'\n"
     ]
    },
    {
     "name": "stdout",
     "output_type": "stream",
     "text": [
      "filepath ../split_chr4/xba.vcf.gz\n"
     ]
    },
    {
     "name": "stderr",
     "output_type": "stream",
     "text": [
      "[E::idx_find_and_load] Could not retrieve index file for '../split_chr4/xba.vcf.gz'\n"
     ]
    },
    {
     "name": "stdout",
     "output_type": "stream",
     "text": [
      "filepath ../split_chr6/xac.vcf.gz\n",
      "filepath ../split_chr7/xbc.vcf.gz\n"
     ]
    },
    {
     "name": "stderr",
     "output_type": "stream",
     "text": [
      "[E::idx_find_and_load] Could not retrieve index file for '../split_chr7/xbc.vcf.gz'\n"
     ]
    },
    {
     "name": "stdout",
     "output_type": "stream",
     "text": [
      "filepath ../split_chr11/xbb.vcf.gz\n"
     ]
    },
    {
     "name": "stderr",
     "output_type": "stream",
     "text": [
      "[E::idx_find_and_load] Could not retrieve index file for '../split_chr11/xbb.vcf.gz'\n"
     ]
    },
    {
     "name": "stdout",
     "output_type": "stream",
     "text": [
      "filepath ../split_chr12/xac.vcf.gz\n"
     ]
    },
    {
     "name": "stderr",
     "output_type": "stream",
     "text": [
      "[E::idx_find_and_load] Could not retrieve index file for '../split_chr12/xac.vcf.gz'\n"
     ]
    },
    {
     "name": "stdout",
     "output_type": "stream",
     "text": [
      "filepath ../split_chr17/xaf.vcf.gz\n"
     ]
    },
    {
     "name": "stderr",
     "output_type": "stream",
     "text": [
      "[E::idx_find_and_load] Could not retrieve index file for '../split_chr17/xaf.vcf.gz'\n"
     ]
    },
    {
     "name": "stdout",
     "output_type": "stream",
     "text": [
      "filepath ../split_chr17/xaj.vcf.gz\n"
     ]
    },
    {
     "name": "stderr",
     "output_type": "stream",
     "text": [
      "[E::idx_find_and_load] Could not retrieve index file for '../split_chr17/xaj.vcf.gz'\n"
     ]
    },
    {
     "name": "stdout",
     "output_type": "stream",
     "text": [
      "filepath ../split_chr3/xav.vcf.gz\n"
     ]
    },
    {
     "name": "stderr",
     "output_type": "stream",
     "text": [
      "[E::idx_find_and_load] Could not retrieve index file for '../split_chr3/xav.vcf.gz'\n"
     ]
    },
    {
     "name": "stdout",
     "output_type": "stream",
     "text": [
      "filepath ../split_chr4/xbd.vcf.gz\n"
     ]
    },
    {
     "name": "stderr",
     "output_type": "stream",
     "text": [
      "[E::idx_find_and_load] Could not retrieve index file for '../split_chr4/xbd.vcf.gz'\n"
     ]
    },
    {
     "name": "stdout",
     "output_type": "stream",
     "text": [
      "filepath ../split_chr6/xac.vcf.gz\n",
      "filepath ../split_chr11/xah.vcf.gz\n"
     ]
    },
    {
     "name": "stderr",
     "output_type": "stream",
     "text": [
      "[E::idx_find_and_load] Could not retrieve index file for '../split_chr11/xah.vcf.gz'\n"
     ]
    },
    {
     "name": "stdout",
     "output_type": "stream",
     "text": [
      "filepath ../split_chr14/xaa.vcf.gz\n"
     ]
    },
    {
     "name": "stderr",
     "output_type": "stream",
     "text": [
      "[E::idx_find_and_load] Could not retrieve index file for '../split_chr14/xaa.vcf.gz'\n"
     ]
    },
    {
     "name": "stdout",
     "output_type": "stream",
     "text": [
      "filepath ../split_chr18/xac.vcf.gz\n"
     ]
    },
    {
     "name": "stderr",
     "output_type": "stream",
     "text": [
      "[E::idx_find_and_load] Could not retrieve index file for '../split_chr18/xac.vcf.gz'\n"
     ]
    },
    {
     "name": "stdout",
     "output_type": "stream",
     "text": [
      "filepath ../split_chr1/xak.vcf.gz\n"
     ]
    },
    {
     "name": "stderr",
     "output_type": "stream",
     "text": [
      "[E::idx_find_and_load] Could not retrieve index file for '../split_chr1/xak.vcf.gz'\n"
     ]
    },
    {
     "name": "stdout",
     "output_type": "stream",
     "text": [
      "filepath ../split_chr2/xai.vcf.gz\n"
     ]
    },
    {
     "name": "stderr",
     "output_type": "stream",
     "text": [
      "[E::idx_find_and_load] Could not retrieve index file for '../split_chr2/xai.vcf.gz'\n"
     ]
    },
    {
     "name": "stdout",
     "output_type": "stream",
     "text": [
      "filepath ../split_chr2/xau.vcf.gz\n"
     ]
    },
    {
     "name": "stderr",
     "output_type": "stream",
     "text": [
      "[E::idx_find_and_load] Could not retrieve index file for '../split_chr2/xau.vcf.gz'\n"
     ]
    },
    {
     "name": "stdout",
     "output_type": "stream",
     "text": [
      "filepath ../split_chr5/xaa.vcf.gz\n"
     ]
    },
    {
     "name": "stderr",
     "output_type": "stream",
     "text": [
      "[E::idx_find_and_load] Could not retrieve index file for '../split_chr5/xaa.vcf.gz'\n"
     ]
    },
    {
     "name": "stdout",
     "output_type": "stream",
     "text": [
      "filepath ../split_chr13/xaa.vcf.gz\n"
     ]
    },
    {
     "name": "stderr",
     "output_type": "stream",
     "text": [
      "[E::idx_find_and_load] Could not retrieve index file for '../split_chr13/xaa.vcf.gz'\n"
     ]
    },
    {
     "name": "stdout",
     "output_type": "stream",
     "text": [
      "filepath ../split_chr21/xaa.vcf.gz\n"
     ]
    },
    {
     "name": "stderr",
     "output_type": "stream",
     "text": [
      "[E::idx_find_and_load] Could not retrieve index file for '../split_chr21/xaa.vcf.gz'\n"
     ]
    },
    {
     "name": "stdout",
     "output_type": "stream",
     "text": [
      "filepath ../split_chr3/xbf.vcf.gz\n"
     ]
    },
    {
     "name": "stderr",
     "output_type": "stream",
     "text": [
      "[E::idx_find_and_load] Could not retrieve index file for '../split_chr3/xbf.vcf.gz'\n"
     ]
    },
    {
     "name": "stdout",
     "output_type": "stream",
     "text": [
      "filepath ../split_chr6/xbf.vcf.gz\n",
      "filepath ../split_chr12/xac.vcf.gz\n"
     ]
    },
    {
     "name": "stderr",
     "output_type": "stream",
     "text": [
      "[E::idx_find_and_load] Could not retrieve index file for '../split_chr12/xac.vcf.gz'\n"
     ]
    },
    {
     "name": "stdout",
     "output_type": "stream",
     "text": [
      "filepath ../split_chr12/xas.vcf.gz\n"
     ]
    },
    {
     "name": "stderr",
     "output_type": "stream",
     "text": [
      "[E::idx_find_and_load] Could not retrieve index file for '../split_chr12/xas.vcf.gz'\n"
     ]
    },
    {
     "name": "stdout",
     "output_type": "stream",
     "text": [
      "filepath ../split_chr17/xaf.vcf.gz\n"
     ]
    },
    {
     "name": "stderr",
     "output_type": "stream",
     "text": [
      "[E::idx_find_and_load] Could not retrieve index file for '../split_chr17/xaf.vcf.gz'\n"
     ]
    },
    {
     "name": "stdout",
     "output_type": "stream",
     "text": [
      "filepath ../split_chr17/xaj.vcf.gz\n"
     ]
    },
    {
     "name": "stderr",
     "output_type": "stream",
     "text": [
      "[E::idx_find_and_load] Could not retrieve index file for '../split_chr17/xaj.vcf.gz'\n"
     ]
    },
    {
     "name": "stdout",
     "output_type": "stream",
     "text": [
      "filepath ../split_chr18/xac.vcf.gz\n"
     ]
    },
    {
     "name": "stderr",
     "output_type": "stream",
     "text": [
      "[E::idx_find_and_load] Could not retrieve index file for '../split_chr18/xac.vcf.gz'\n"
     ]
    },
    {
     "name": "stdout",
     "output_type": "stream",
     "text": [
      "filepath ../split_chr22/xaa.vcf.gz\n"
     ]
    },
    {
     "name": "stderr",
     "output_type": "stream",
     "text": [
      "[E::idx_find_and_load] Could not retrieve index file for '../split_chr22/xaa.vcf.gz'\n"
     ]
    },
    {
     "name": "stdout",
     "output_type": "stream",
     "text": [
      "filepath ../split_chr5/xas.vcf.gz\n"
     ]
    },
    {
     "name": "stderr",
     "output_type": "stream",
     "text": [
      "[E::idx_find_and_load] Could not retrieve index file for '../split_chr5/xas.vcf.gz'\n"
     ]
    },
    {
     "name": "stdout",
     "output_type": "stream",
     "text": [
      "filepath ../split_chr10/xan.vcf.gz\n"
     ]
    },
    {
     "name": "stderr",
     "output_type": "stream",
     "text": [
      "[E::idx_find_and_load] Could not retrieve index file for '../split_chr10/xan.vcf.gz'\n"
     ]
    },
    {
     "name": "stdout",
     "output_type": "stream",
     "text": [
      "filepath ../split_chr12/xac.vcf.gz\n"
     ]
    },
    {
     "name": "stderr",
     "output_type": "stream",
     "text": [
      "[E::idx_find_and_load] Could not retrieve index file for '../split_chr12/xac.vcf.gz'\n"
     ]
    },
    {
     "name": "stdout",
     "output_type": "stream",
     "text": [
      "filepath ../split_chr14/xaa.vcf.gz\n"
     ]
    },
    {
     "name": "stderr",
     "output_type": "stream",
     "text": [
      "[E::idx_find_and_load] Could not retrieve index file for '../split_chr14/xaa.vcf.gz'\n"
     ]
    },
    {
     "name": "stdout",
     "output_type": "stream",
     "text": [
      "filepath ../split_chr17/xak.vcf.gz\n"
     ]
    },
    {
     "name": "stderr",
     "output_type": "stream",
     "text": [
      "[E::idx_find_and_load] Could not retrieve index file for '../split_chr17/xak.vcf.gz'\n"
     ]
    },
    {
     "name": "stdout",
     "output_type": "stream",
     "text": [
      "filepath ../split_chr3/xav.vcf.gz\n"
     ]
    },
    {
     "name": "stderr",
     "output_type": "stream",
     "text": [
      "[E::idx_find_and_load] Could not retrieve index file for '../split_chr3/xav.vcf.gz'\n"
     ]
    },
    {
     "name": "stdout",
     "output_type": "stream",
     "text": [
      "filepath ../split_chr5/xbc.vcf.gz\n"
     ]
    },
    {
     "name": "stderr",
     "output_type": "stream",
     "text": [
      "[E::idx_find_and_load] Could not retrieve index file for '../split_chr5/xbc.vcf.gz'\n"
     ]
    },
    {
     "name": "stdout",
     "output_type": "stream",
     "text": [
      "filepath ../split_chr5/xaa.vcf.gz\n"
     ]
    },
    {
     "name": "stderr",
     "output_type": "stream",
     "text": [
      "[E::idx_find_and_load] Could not retrieve index file for '../split_chr5/xaa.vcf.gz'\n"
     ]
    },
    {
     "name": "stdout",
     "output_type": "stream",
     "text": [
      "filepath ../split_chr13/xaa.vcf.gz\n"
     ]
    },
    {
     "name": "stderr",
     "output_type": "stream",
     "text": [
      "[E::idx_find_and_load] Could not retrieve index file for '../split_chr13/xaa.vcf.gz'\n"
     ]
    },
    {
     "name": "stdout",
     "output_type": "stream",
     "text": [
      "filepath ../split_chr13/xap.vcf.gz\n"
     ]
    },
    {
     "name": "stderr",
     "output_type": "stream",
     "text": [
      "[E::idx_find_and_load] Could not retrieve index file for '../split_chr13/xap.vcf.gz'\n"
     ]
    },
    {
     "name": "stdout",
     "output_type": "stream",
     "text": [
      "filepath ../split_chr14/xad.vcf.gz\n"
     ]
    },
    {
     "name": "stderr",
     "output_type": "stream",
     "text": [
      "[E::idx_find_and_load] Could not retrieve index file for '../split_chr14/xad.vcf.gz'\n"
     ]
    },
    {
     "name": "stdout",
     "output_type": "stream",
     "text": [
      "filepath ../split_chr22/xaa.vcf.gz\n"
     ]
    },
    {
     "name": "stderr",
     "output_type": "stream",
     "text": [
      "[E::idx_find_and_load] Could not retrieve index file for '../split_chr22/xaa.vcf.gz'\n"
     ]
    },
    {
     "name": "stdout",
     "output_type": "stream",
     "text": [
      "filepath ../split_chr2/xbq.vcf.gz\n"
     ]
    },
    {
     "name": "stderr",
     "output_type": "stream",
     "text": [
      "[E::idx_find_and_load] Could not retrieve index file for '../split_chr2/xbq.vcf.gz'\n"
     ]
    },
    {
     "name": "stdout",
     "output_type": "stream",
     "text": [
      "filepath ../split_chr3/xav.vcf.gz\n"
     ]
    },
    {
     "name": "stderr",
     "output_type": "stream",
     "text": [
      "[E::idx_find_and_load] Could not retrieve index file for '../split_chr3/xav.vcf.gz'\n"
     ]
    },
    {
     "name": "stdout",
     "output_type": "stream",
     "text": [
      "filepath ../split_chr3/xbj.vcf.gz\n"
     ]
    },
    {
     "name": "stderr",
     "output_type": "stream",
     "text": [
      "[E::idx_find_and_load] Could not retrieve index file for '../split_chr3/xbj.vcf.gz'\n"
     ]
    },
    {
     "name": "stdout",
     "output_type": "stream",
     "text": [
      "filepath ../split_chr4/xba.vcf.gz\n"
     ]
    },
    {
     "name": "stderr",
     "output_type": "stream",
     "text": [
      "[E::idx_find_and_load] Could not retrieve index file for '../split_chr4/xba.vcf.gz'\n"
     ]
    },
    {
     "name": "stdout",
     "output_type": "stream",
     "text": [
      "filepath ../split_chr7/xbc.vcf.gz\n"
     ]
    },
    {
     "name": "stderr",
     "output_type": "stream",
     "text": [
      "[E::idx_find_and_load] Could not retrieve index file for '../split_chr7/xbc.vcf.gz'\n"
     ]
    },
    {
     "name": "stdout",
     "output_type": "stream",
     "text": [
      "filepath ../split_chr14/xak.vcf.gz\n"
     ]
    },
    {
     "name": "stderr",
     "output_type": "stream",
     "text": [
      "[E::idx_find_and_load] Could not retrieve index file for '../split_chr14/xak.vcf.gz'\n"
     ]
    },
    {
     "name": "stdout",
     "output_type": "stream",
     "text": [
      "filepath ../split_chr2/xai.vcf.gz\n"
     ]
    },
    {
     "name": "stderr",
     "output_type": "stream",
     "text": [
      "[E::idx_find_and_load] Could not retrieve index file for '../split_chr2/xai.vcf.gz'\n"
     ]
    },
    {
     "name": "stdout",
     "output_type": "stream",
     "text": [
      "filepath ../split_chr2/xau.vcf.gz\n"
     ]
    },
    {
     "name": "stderr",
     "output_type": "stream",
     "text": [
      "[E::idx_find_and_load] Could not retrieve index file for '../split_chr2/xau.vcf.gz'\n"
     ]
    },
    {
     "name": "stdout",
     "output_type": "stream",
     "text": [
      "filepath ../split_chr5/xaa.vcf.gz\n"
     ]
    },
    {
     "name": "stderr",
     "output_type": "stream",
     "text": [
      "[E::idx_find_and_load] Could not retrieve index file for '../split_chr5/xaa.vcf.gz'\n"
     ]
    },
    {
     "name": "stdout",
     "output_type": "stream",
     "text": [
      "filepath ../split_chr13/xaa.vcf.gz\n"
     ]
    },
    {
     "name": "stderr",
     "output_type": "stream",
     "text": [
      "[E::idx_find_and_load] Could not retrieve index file for '../split_chr13/xaa.vcf.gz'\n"
     ]
    },
    {
     "name": "stdout",
     "output_type": "stream",
     "text": [
      "filepath ../split_chr14/xak.vcf.gz\n"
     ]
    },
    {
     "name": "stderr",
     "output_type": "stream",
     "text": [
      "[E::idx_find_and_load] Could not retrieve index file for '../split_chr14/xak.vcf.gz'\n"
     ]
    },
    {
     "name": "stdout",
     "output_type": "stream",
     "text": [
      "filepath ../split_chr21/xaa.vcf.gz\n"
     ]
    },
    {
     "name": "stderr",
     "output_type": "stream",
     "text": [
      "[E::idx_find_and_load] Could not retrieve index file for '../split_chr21/xaa.vcf.gz'\n"
     ]
    },
    {
     "name": "stdout",
     "output_type": "stream",
     "text": [
      "filepath ../split_chr1/xak.vcf.gz\n"
     ]
    },
    {
     "name": "stderr",
     "output_type": "stream",
     "text": [
      "[E::idx_find_and_load] Could not retrieve index file for '../split_chr1/xak.vcf.gz'\n"
     ]
    },
    {
     "name": "stdout",
     "output_type": "stream",
     "text": [
      "filepath ../split_chr2/xau.vcf.gz\n"
     ]
    },
    {
     "name": "stderr",
     "output_type": "stream",
     "text": [
      "[E::idx_find_and_load] Could not retrieve index file for '../split_chr2/xau.vcf.gz'\n"
     ]
    },
    {
     "name": "stdout",
     "output_type": "stream",
     "text": [
      "filepath ../split_chr5/xay.vcf.gz\n"
     ]
    },
    {
     "name": "stderr",
     "output_type": "stream",
     "text": [
      "[E::idx_find_and_load] Could not retrieve index file for '../split_chr5/xay.vcf.gz'\n"
     ]
    },
    {
     "name": "stdout",
     "output_type": "stream",
     "text": [
      "filepath ../split_chr7/xaf.vcf.gz\n"
     ]
    },
    {
     "name": "stderr",
     "output_type": "stream",
     "text": [
      "[E::idx_find_and_load] Could not retrieve index file for '../split_chr7/xaf.vcf.gz'\n"
     ]
    },
    {
     "name": "stdout",
     "output_type": "stream",
     "text": [
      "filepath ../split_chr7/xap.vcf.gz\n"
     ]
    },
    {
     "name": "stderr",
     "output_type": "stream",
     "text": [
      "[E::idx_find_and_load] Could not retrieve index file for '../split_chr7/xap.vcf.gz'\n"
     ]
    },
    {
     "name": "stdout",
     "output_type": "stream",
     "text": [
      "filepath ../split_chr9/xak.vcf.gz\n"
     ]
    },
    {
     "name": "stderr",
     "output_type": "stream",
     "text": [
      "[E::idx_find_and_load] Could not retrieve index file for '../split_chr9/xak.vcf.gz'\n"
     ]
    },
    {
     "name": "stdout",
     "output_type": "stream",
     "text": [
      "filepath ../split_chr11/xaf.vcf.gz\n"
     ]
    },
    {
     "name": "stderr",
     "output_type": "stream",
     "text": [
      "[E::idx_find_and_load] Could not retrieve index file for '../split_chr11/xaf.vcf.gz'\n"
     ]
    },
    {
     "name": "stdout",
     "output_type": "stream",
     "text": [
      "filepath ../split_chr11/xaw.vcf.gz\n"
     ]
    },
    {
     "name": "stderr",
     "output_type": "stream",
     "text": [
      "[E::idx_find_and_load] Could not retrieve index file for '../split_chr11/xaw.vcf.gz'\n"
     ]
    },
    {
     "name": "stdout",
     "output_type": "stream",
     "text": [
      "filepath ../split_chr13/xaa.vcf.gz\n"
     ]
    },
    {
     "name": "stderr",
     "output_type": "stream",
     "text": [
      "[E::idx_find_and_load] Could not retrieve index file for '../split_chr13/xaa.vcf.gz'\n"
     ]
    },
    {
     "name": "stdout",
     "output_type": "stream",
     "text": [
      "filepath ../split_chr14/xat.vcf.gz\n"
     ]
    },
    {
     "name": "stderr",
     "output_type": "stream",
     "text": [
      "[E::idx_find_and_load] Could not retrieve index file for '../split_chr14/xat.vcf.gz'\n"
     ]
    },
    {
     "name": "stdout",
     "output_type": "stream",
     "text": [
      "filepath ../split_chr21/xaa.vcf.gz\n"
     ]
    },
    {
     "name": "stderr",
     "output_type": "stream",
     "text": [
      "[E::idx_find_and_load] Could not retrieve index file for '../split_chr21/xaa.vcf.gz'\n"
     ]
    },
    {
     "name": "stdout",
     "output_type": "stream",
     "text": [
      "filepath ../split_chr3/xav.vcf.gz\n"
     ]
    },
    {
     "name": "stderr",
     "output_type": "stream",
     "text": [
      "[E::idx_find_and_load] Could not retrieve index file for '../split_chr3/xav.vcf.gz'\n"
     ]
    },
    {
     "name": "stdout",
     "output_type": "stream",
     "text": [
      "filepath ../split_chr3/xaq.vcf.gz\n"
     ]
    },
    {
     "name": "stderr",
     "output_type": "stream",
     "text": [
      "[E::idx_find_and_load] Could not retrieve index file for '../split_chr3/xaq.vcf.gz'\n"
     ]
    },
    {
     "name": "stdout",
     "output_type": "stream",
     "text": [
      "filepath ../split_chr5/xad.vcf.gz\n"
     ]
    },
    {
     "name": "stderr",
     "output_type": "stream",
     "text": [
      "[E::idx_find_and_load] Could not retrieve index file for '../split_chr5/xad.vcf.gz'\n"
     ]
    },
    {
     "name": "stdout",
     "output_type": "stream",
     "text": [
      "filepath ../split_chr6/xao.vcf.gz\n",
      "filepath ../split_chr7/xbc.vcf.gz\n"
     ]
    },
    {
     "name": "stderr",
     "output_type": "stream",
     "text": [
      "[E::idx_find_and_load] Could not retrieve index file for '../split_chr7/xbc.vcf.gz'\n"
     ]
    },
    {
     "name": "stdout",
     "output_type": "stream",
     "text": [
      "filepath ../split_chr11/xaf.vcf.gz\n"
     ]
    },
    {
     "name": "stderr",
     "output_type": "stream",
     "text": [
      "[E::idx_find_and_load] Could not retrieve index file for '../split_chr11/xaf.vcf.gz'\n"
     ]
    },
    {
     "name": "stdout",
     "output_type": "stream",
     "text": [
      "filepath ../split_chr12/xad.vcf.gz\n"
     ]
    },
    {
     "name": "stderr",
     "output_type": "stream",
     "text": [
      "[E::idx_find_and_load] Could not retrieve index file for '../split_chr12/xad.vcf.gz'\n"
     ]
    },
    {
     "name": "stdout",
     "output_type": "stream",
     "text": [
      "filepath ../split_chr12/xac.vcf.gz\n"
     ]
    },
    {
     "name": "stderr",
     "output_type": "stream",
     "text": [
      "[E::idx_find_and_load] Could not retrieve index file for '../split_chr12/xac.vcf.gz'\n"
     ]
    },
    {
     "name": "stdout",
     "output_type": "stream",
     "text": [
      "filepath ../split_chr12/xap.vcf.gz\n"
     ]
    },
    {
     "name": "stderr",
     "output_type": "stream",
     "text": [
      "[E::idx_find_and_load] Could not retrieve index file for '../split_chr12/xap.vcf.gz'\n"
     ]
    },
    {
     "name": "stdout",
     "output_type": "stream",
     "text": [
      "filepath ../split_chr12/xas.vcf.gz\n"
     ]
    },
    {
     "name": "stderr",
     "output_type": "stream",
     "text": [
      "[E::idx_find_and_load] Could not retrieve index file for '../split_chr12/xas.vcf.gz'\n"
     ]
    },
    {
     "name": "stdout",
     "output_type": "stream",
     "text": [
      "filepath ../split_chr17/xaf.vcf.gz\n"
     ]
    },
    {
     "name": "stderr",
     "output_type": "stream",
     "text": [
      "[E::idx_find_and_load] Could not retrieve index file for '../split_chr17/xaf.vcf.gz'\n"
     ]
    },
    {
     "name": "stdout",
     "output_type": "stream",
     "text": [
      "filepath ../split_chr1/xak.vcf.gz\n"
     ]
    },
    {
     "name": "stderr",
     "output_type": "stream",
     "text": [
      "[E::idx_find_and_load] Could not retrieve index file for '../split_chr1/xak.vcf.gz'\n"
     ]
    },
    {
     "name": "stdout",
     "output_type": "stream",
     "text": [
      "filepath ../split_chr2/xbo.vcf.gz\n"
     ]
    },
    {
     "name": "stderr",
     "output_type": "stream",
     "text": [
      "[E::idx_find_and_load] Could not retrieve index file for '../split_chr2/xbo.vcf.gz'\n"
     ]
    },
    {
     "name": "stdout",
     "output_type": "stream",
     "text": [
      "filepath ../split_chr3/xav.vcf.gz\n"
     ]
    },
    {
     "name": "stderr",
     "output_type": "stream",
     "text": [
      "[E::idx_find_and_load] Could not retrieve index file for '../split_chr3/xav.vcf.gz'\n"
     ]
    },
    {
     "name": "stdout",
     "output_type": "stream",
     "text": [
      "filepath ../split_chr3/xba.vcf.gz\n"
     ]
    },
    {
     "name": "stderr",
     "output_type": "stream",
     "text": [
      "[E::idx_find_and_load] Could not retrieve index file for '../split_chr3/xba.vcf.gz'\n"
     ]
    },
    {
     "name": "stdout",
     "output_type": "stream",
     "text": [
      "filepath ../split_chr4/xaq.vcf.gz\n"
     ]
    },
    {
     "name": "stderr",
     "output_type": "stream",
     "text": [
      "[E::idx_find_and_load] Could not retrieve index file for '../split_chr4/xaq.vcf.gz'\n"
     ]
    },
    {
     "name": "stdout",
     "output_type": "stream",
     "text": [
      "filepath ../split_chr6/xab.vcf.gz\n",
      "filepath ../split_chr8/xba.vcf.gz\n"
     ]
    },
    {
     "name": "stderr",
     "output_type": "stream",
     "text": [
      "[E::idx_find_and_load] Could not retrieve index file for '../split_chr8/xba.vcf.gz'\n"
     ]
    },
    {
     "name": "stdout",
     "output_type": "stream",
     "text": [
      "filepath ../split_chr10/xaq.vcf.gz\n"
     ]
    },
    {
     "name": "stderr",
     "output_type": "stream",
     "text": [
      "[E::idx_find_and_load] Could not retrieve index file for '../split_chr10/xaq.vcf.gz'\n"
     ]
    },
    {
     "name": "stdout",
     "output_type": "stream",
     "text": [
      "filepath ../split_chr11/xaf.vcf.gz\n"
     ]
    },
    {
     "name": "stderr",
     "output_type": "stream",
     "text": [
      "[E::idx_find_and_load] Could not retrieve index file for '../split_chr11/xaf.vcf.gz'\n"
     ]
    },
    {
     "name": "stdout",
     "output_type": "stream",
     "text": [
      "filepath ../split_chr11/xam.vcf.gz\n"
     ]
    },
    {
     "name": "stderr",
     "output_type": "stream",
     "text": [
      "[E::idx_find_and_load] Could not retrieve index file for '../split_chr11/xam.vcf.gz'\n"
     ]
    },
    {
     "name": "stdout",
     "output_type": "stream",
     "text": [
      "filepath ../split_chr12/xac.vcf.gz\n"
     ]
    },
    {
     "name": "stderr",
     "output_type": "stream",
     "text": [
      "[E::idx_find_and_load] Could not retrieve index file for '../split_chr12/xac.vcf.gz'\n"
     ]
    },
    {
     "name": "stdout",
     "output_type": "stream",
     "text": [
      "filepath ../split_chr12/xas.vcf.gz\n"
     ]
    },
    {
     "name": "stderr",
     "output_type": "stream",
     "text": [
      "[E::idx_find_and_load] Could not retrieve index file for '../split_chr12/xas.vcf.gz'\n"
     ]
    },
    {
     "name": "stdout",
     "output_type": "stream",
     "text": [
      "filepath ../split_chr14/xaa.vcf.gz\n"
     ]
    },
    {
     "name": "stderr",
     "output_type": "stream",
     "text": [
      "[E::idx_find_and_load] Could not retrieve index file for '../split_chr14/xaa.vcf.gz'\n"
     ]
    },
    {
     "name": "stdout",
     "output_type": "stream",
     "text": [
      "filepath ../split_chr16/xab.vcf.gz\n"
     ]
    },
    {
     "name": "stderr",
     "output_type": "stream",
     "text": [
      "[E::idx_find_and_load] Could not retrieve index file for '../split_chr16/xab.vcf.gz'\n"
     ]
    },
    {
     "name": "stdout",
     "output_type": "stream",
     "text": [
      "filepath ../split_chr12/xac.vcf.gz\n"
     ]
    },
    {
     "name": "stderr",
     "output_type": "stream",
     "text": [
      "[E::idx_find_and_load] Could not retrieve index file for '../split_chr12/xac.vcf.gz'\n"
     ]
    },
    {
     "name": "stdout",
     "output_type": "stream",
     "text": [
      "filepath ../split_chr14/xac.vcf.gz\n"
     ]
    },
    {
     "name": "stderr",
     "output_type": "stream",
     "text": [
      "[E::idx_find_and_load] Could not retrieve index file for '../split_chr14/xac.vcf.gz'\n"
     ]
    },
    {
     "name": "stdout",
     "output_type": "stream",
     "text": [
      "filepath ../split_chr14/xaa.vcf.gz\n"
     ]
    },
    {
     "name": "stderr",
     "output_type": "stream",
     "text": [
      "[E::idx_find_and_load] Could not retrieve index file for '../split_chr14/xaa.vcf.gz'\n"
     ]
    },
    {
     "name": "stdout",
     "output_type": "stream",
     "text": [
      "filepath ../split_chr17/xak.vcf.gz\n"
     ]
    },
    {
     "name": "stderr",
     "output_type": "stream",
     "text": [
      "[E::idx_find_and_load] Could not retrieve index file for '../split_chr17/xak.vcf.gz'\n"
     ]
    },
    {
     "name": "stdout",
     "output_type": "stream",
     "text": [
      "filepath ../split_chr3/xav.vcf.gz\n"
     ]
    },
    {
     "name": "stderr",
     "output_type": "stream",
     "text": [
      "[E::idx_find_and_load] Could not retrieve index file for '../split_chr3/xav.vcf.gz'\n"
     ]
    },
    {
     "name": "stdout",
     "output_type": "stream",
     "text": [
      "filepath ../split_chr3/xbj.vcf.gz\n"
     ]
    },
    {
     "name": "stderr",
     "output_type": "stream",
     "text": [
      "[E::idx_find_and_load] Could not retrieve index file for '../split_chr3/xbj.vcf.gz'\n"
     ]
    },
    {
     "name": "stdout",
     "output_type": "stream",
     "text": [
      "filepath ../split_chr12/xac.vcf.gz\n"
     ]
    },
    {
     "name": "stderr",
     "output_type": "stream",
     "text": [
      "[E::idx_find_and_load] Could not retrieve index file for '../split_chr12/xac.vcf.gz'\n"
     ]
    },
    {
     "name": "stdout",
     "output_type": "stream",
     "text": [
      "filepath ../split_chr12/xan.vcf.gz\n"
     ]
    },
    {
     "name": "stderr",
     "output_type": "stream",
     "text": [
      "[E::idx_find_and_load] Could not retrieve index file for '../split_chr12/xan.vcf.gz'\n"
     ]
    },
    {
     "name": "stdout",
     "output_type": "stream",
     "text": [
      "filepath ../split_chr12/xas.vcf.gz\n"
     ]
    },
    {
     "name": "stderr",
     "output_type": "stream",
     "text": [
      "[E::idx_find_and_load] Could not retrieve index file for '../split_chr12/xas.vcf.gz'\n"
     ]
    },
    {
     "name": "stdout",
     "output_type": "stream",
     "text": [
      "filepath ../split_chr17/xaf.vcf.gz\n"
     ]
    },
    {
     "name": "stderr",
     "output_type": "stream",
     "text": [
      "[E::idx_find_and_load] Could not retrieve index file for '../split_chr17/xaf.vcf.gz'\n"
     ]
    },
    {
     "name": "stdout",
     "output_type": "stream",
     "text": [
      "filepath ../split_chr3/xav.vcf.gz\n"
     ]
    },
    {
     "name": "stderr",
     "output_type": "stream",
     "text": [
      "[E::idx_find_and_load] Could not retrieve index file for '../split_chr3/xav.vcf.gz'\n"
     ]
    },
    {
     "name": "stdout",
     "output_type": "stream",
     "text": [
      "filepath ../split_chr7/xbc.vcf.gz\n"
     ]
    },
    {
     "name": "stderr",
     "output_type": "stream",
     "text": [
      "[E::idx_find_and_load] Could not retrieve index file for '../split_chr7/xbc.vcf.gz'\n"
     ]
    },
    {
     "name": "stdout",
     "output_type": "stream",
     "text": [
      "filepath ../split_chr13/xaa.vcf.gz\n"
     ]
    },
    {
     "name": "stderr",
     "output_type": "stream",
     "text": [
      "[E::idx_find_and_load] Could not retrieve index file for '../split_chr13/xaa.vcf.gz'\n"
     ]
    },
    {
     "name": "stdout",
     "output_type": "stream",
     "text": [
      "filepath ../split_chr13/xai.vcf.gz\n"
     ]
    },
    {
     "name": "stderr",
     "output_type": "stream",
     "text": [
      "[E::idx_find_and_load] Could not retrieve index file for '../split_chr13/xai.vcf.gz'\n"
     ]
    },
    {
     "name": "stdout",
     "output_type": "stream",
     "text": [
      "filepath ../split_chr14/xaa.vcf.gz\n"
     ]
    },
    {
     "name": "stderr",
     "output_type": "stream",
     "text": [
      "[E::idx_find_and_load] Could not retrieve index file for '../split_chr14/xaa.vcf.gz'\n"
     ]
    },
    {
     "name": "stdout",
     "output_type": "stream",
     "text": [
      "filepath ../split_chr16/xaj.vcf.gz\n"
     ]
    },
    {
     "name": "stderr",
     "output_type": "stream",
     "text": [
      "[E::idx_find_and_load] Could not retrieve index file for '../split_chr16/xaj.vcf.gz'\n"
     ]
    },
    {
     "name": "stdout",
     "output_type": "stream",
     "text": [
      "filepath ../split_chr19/xam.vcf.gz\n"
     ]
    },
    {
     "name": "stderr",
     "output_type": "stream",
     "text": [
      "[E::idx_find_and_load] Could not retrieve index file for '../split_chr19/xam.vcf.gz'\n"
     ]
    },
    {
     "name": "stdout",
     "output_type": "stream",
     "text": [
      "filepath ../split_chr4/xaw.vcf.gz\n"
     ]
    },
    {
     "name": "stderr",
     "output_type": "stream",
     "text": [
      "[E::idx_find_and_load] Could not retrieve index file for '../split_chr4/xaw.vcf.gz'\n"
     ]
    },
    {
     "name": "stdout",
     "output_type": "stream",
     "text": [
      "filepath ../split_chr4/xba.vcf.gz\n"
     ]
    },
    {
     "name": "stderr",
     "output_type": "stream",
     "text": [
      "[E::idx_find_and_load] Could not retrieve index file for '../split_chr4/xba.vcf.gz'\n"
     ]
    },
    {
     "name": "stdout",
     "output_type": "stream",
     "text": [
      "filepath ../split_chr7/xag.vcf.gz\n"
     ]
    },
    {
     "name": "stderr",
     "output_type": "stream",
     "text": [
      "[E::idx_find_and_load] Could not retrieve index file for '../split_chr7/xag.vcf.gz'\n"
     ]
    },
    {
     "name": "stdout",
     "output_type": "stream",
     "text": [
      "filepath ../split_chr7/xbc.vcf.gz\n"
     ]
    },
    {
     "name": "stderr",
     "output_type": "stream",
     "text": [
      "[E::idx_find_and_load] Could not retrieve index file for '../split_chr7/xbc.vcf.gz'\n"
     ]
    },
    {
     "name": "stdout",
     "output_type": "stream",
     "text": [
      "filepath ../split_chr9/xai.vcf.gz\n"
     ]
    },
    {
     "name": "stderr",
     "output_type": "stream",
     "text": [
      "[E::idx_find_and_load] Could not retrieve index file for '../split_chr9/xai.vcf.gz'\n"
     ]
    },
    {
     "name": "stdout",
     "output_type": "stream",
     "text": [
      "filepath ../split_chr12/xac.vcf.gz\n"
     ]
    },
    {
     "name": "stderr",
     "output_type": "stream",
     "text": [
      "[E::idx_find_and_load] Could not retrieve index file for '../split_chr12/xac.vcf.gz'\n"
     ]
    },
    {
     "name": "stdout",
     "output_type": "stream",
     "text": [
      "filepath ../split_chr14/xaa.vcf.gz\n"
     ]
    },
    {
     "name": "stderr",
     "output_type": "stream",
     "text": [
      "[E::idx_find_and_load] Could not retrieve index file for '../split_chr14/xaa.vcf.gz'\n"
     ]
    },
    {
     "name": "stdout",
     "output_type": "stream",
     "text": [
      "filepath ../split_chr17/xaf.vcf.gz\n"
     ]
    },
    {
     "name": "stderr",
     "output_type": "stream",
     "text": [
      "[E::idx_find_and_load] Could not retrieve index file for '../split_chr17/xaf.vcf.gz'\n"
     ]
    },
    {
     "name": "stdout",
     "output_type": "stream",
     "text": [
      "filepath ../split_chr17/xaj.vcf.gz\n"
     ]
    },
    {
     "name": "stderr",
     "output_type": "stream",
     "text": [
      "[E::idx_find_and_load] Could not retrieve index file for '../split_chr17/xaj.vcf.gz'\n"
     ]
    },
    {
     "name": "stdout",
     "output_type": "stream",
     "text": [
      "filepath ../split_chr2/xau.vcf.gz\n"
     ]
    },
    {
     "name": "stderr",
     "output_type": "stream",
     "text": [
      "[E::idx_find_and_load] Could not retrieve index file for '../split_chr2/xau.vcf.gz'\n"
     ]
    },
    {
     "name": "stdout",
     "output_type": "stream",
     "text": [
      "filepath ../split_chr5/xaa.vcf.gz\n"
     ]
    },
    {
     "name": "stderr",
     "output_type": "stream",
     "text": [
      "[E::idx_find_and_load] Could not retrieve index file for '../split_chr5/xaa.vcf.gz'\n"
     ]
    },
    {
     "name": "stdout",
     "output_type": "stream",
     "text": [
      "filepath ../split_chr7/xan.vcf.gz\n"
     ]
    },
    {
     "name": "stderr",
     "output_type": "stream",
     "text": [
      "[E::idx_find_and_load] Could not retrieve index file for '../split_chr7/xan.vcf.gz'\n"
     ]
    },
    {
     "name": "stdout",
     "output_type": "stream",
     "text": [
      "filepath ../split_chr7/xap.vcf.gz\n"
     ]
    },
    {
     "name": "stderr",
     "output_type": "stream",
     "text": [
      "[E::idx_find_and_load] Could not retrieve index file for '../split_chr7/xap.vcf.gz'\n"
     ]
    },
    {
     "name": "stdout",
     "output_type": "stream",
     "text": [
      "filepath ../split_chr9/xak.vcf.gz\n"
     ]
    },
    {
     "name": "stderr",
     "output_type": "stream",
     "text": [
      "[E::idx_find_and_load] Could not retrieve index file for '../split_chr9/xak.vcf.gz'\n"
     ]
    },
    {
     "name": "stdout",
     "output_type": "stream",
     "text": [
      "filepath ../split_chr13/xaa.vcf.gz\n"
     ]
    },
    {
     "name": "stderr",
     "output_type": "stream",
     "text": [
      "[E::idx_find_and_load] Could not retrieve index file for '../split_chr13/xaa.vcf.gz'\n"
     ]
    },
    {
     "name": "stdout",
     "output_type": "stream",
     "text": [
      "filepath ../split_chr16/xao.vcf.gz\n"
     ]
    },
    {
     "name": "stderr",
     "output_type": "stream",
     "text": [
      "[E::idx_find_and_load] Could not retrieve index file for '../split_chr16/xao.vcf.gz'\n"
     ]
    },
    {
     "name": "stdout",
     "output_type": "stream",
     "text": [
      "filepath ../split_chr21/xaa.vcf.gz\n"
     ]
    },
    {
     "name": "stderr",
     "output_type": "stream",
     "text": [
      "[E::idx_find_and_load] Could not retrieve index file for '../split_chr21/xaa.vcf.gz'\n"
     ]
    }
   ],
   "source": [
    "all_race_positons=dict()\n",
    "for category in allcategories:\n",
    "    all_race_positons[category]=dict()\n",
    "\n",
    "for curDir, dirs, files in os.walk(top=\"../all_race_start_length/\"):        \n",
    "    for category in allcategories:\n",
    "        res=dict()\n",
    "        for file in files:\n",
    "            filename=file[:file.index(\".\")]\n",
    "            if \"mhc\" in filename:\n",
    "                continue\n",
    "            else:\n",
    "                filerace=filename.split(\"_\")[0]\n",
    "                if filerace==category:                   \n",
    "                    filepath=os.path.join(curDir,file)\n",
    "                    res=GetPosition(filepath=filepath,threshold=6,res=res)\n",
    "                    all_race_positons[category]=res\n"
   ]
  },
  {
   "cell_type": "code",
   "execution_count": 33,
   "metadata": {},
   "outputs": [],
   "source": [
    "with open('../alldicts/all_race_positions.csv', 'w') as f:\n",
    "    [f.write('{0},{1}\\n'.format(key, value)) for key, value in all_race_positons.items()]\n"
   ]
  },
  {
   "cell_type": "code",
   "execution_count": 34,
   "metadata": {},
   "outputs": [
    {
     "data": {
      "text/plain": [
       "{'ACB': {'split_chr2/xau': [[89762579, 89852967]],\n",
       "  'split_chr5/xaa': [[676694, 846549]],\n",
       "  'split_chr7/xan': [[56467013, 56713542]],\n",
       "  'split_chr11/xaw': [[103206633, 103451621]],\n",
       "  'split_chr14/xaa': [[19806333, 19976578]],\n",
       "  'split_chr21/xaa': [[10605321, 10733724]]},\n",
       " 'ASW': {'split_chr2/xau': [[89762579, 89852967]],\n",
       "  'split_chr5/xaa': [[676694, 846549]],\n",
       "  'split_chr9/xak': [[42796452, 42969270]],\n",
       "  'split_chr10/xaj': [[38491573, 38687800], [38725237, 38832458]],\n",
       "  'split_chr11/xaf': [[23272931, 23495433]],\n",
       "  'split_chr13/xaa': [[18347994, 18534139]],\n",
       "  'split_chr14/xak': [[66346187, 66752333]],\n",
       "  'split_chr21/xaa': [[10605321, 10733724]]},\n",
       " 'BEB': {'split_chr1/xbx': [[245939605, 246162003]],\n",
       "  'split_chr2/xan': [[56405225, 56644106]],\n",
       "  'split_chr3/xav': [[98046342, 98273693]],\n",
       "  'split_chr3/xbf': [[145365797, 145612467]],\n",
       "  'split_chr4/xaz': [[115247002, 115485969]],\n",
       "  'split_chr13/xai': [[55102733, 55443491]],\n",
       "  'split_chr14/xaa': [[19806333, 19976578]]},\n",
       " 'CDX': {'split_chr1/xay': [[114816228, 115116610]],\n",
       "  'split_chr2/xbd': [[130125757, 130339027]],\n",
       "  'split_chr4/xba': [[119293026, 119539168]],\n",
       "  'split_chr6/xao': [[64160994, 64523871]],\n",
       "  'split_chr7/xaf': [[19734421, 19953255]],\n",
       "  'split_chr9/xau': [[105652970, 105876427]],\n",
       "  'split_chr10/xan': [[55664607, 55894887]],\n",
       "  'split_chr12/xbc': [[131390693, 131619328]],\n",
       "  'split_chr13/xai': [[55102733, 55354096]],\n",
       "  'split_chr17/xag': [[31068982, 31384157]],\n",
       "  'split_chr18/xan': [[65996302, 66233011]]},\n",
       " 'CEU': {'split_chr1/xbe': [[158399387, 158641706]],\n",
       "  'split_chr6/xac': [[8413699, 8649798]],\n",
       "  'split_chr7/xbc': [[124810550, 125070920]],\n",
       "  'split_chr11/xaf': [[24934206, 25144712]],\n",
       "  'split_chr12/xac': [[10962097, 11205540]],\n",
       "  'split_chr17/xaf': [[21588491, 21823237]],\n",
       "  'split_chr17/xaj': [[45620566, 46418024]]},\n",
       " 'CHB': {'split_chr2/xbd': [[130125757, 130339027]],\n",
       "  'split_chr4/xba': [[119293026, 119587470]],\n",
       "  'split_chr4/xaz': [[115247002, 115485969]],\n",
       "  'split_chr6/xao': [[64202650, 64523871]],\n",
       "  'split_chr7/xbc': [[124810550, 125070920]],\n",
       "  'split_chr7/xaf': [[19775051, 19953255]],\n",
       "  'split_chr10/xar': [[73060579, 73337762]],\n",
       "  'split_chr11/xav': [[98072700, 98330585]],\n",
       "  'split_chr22/xaa': [[16175432, 16345129]]},\n",
       " 'CHS': {'split_chr3/xav': [[98046342, 98245327]],\n",
       "  'split_chr4/xba': [[119293026, 119539168]],\n",
       "  'split_chr5/xaa': [[676694, 846549]],\n",
       "  'split_chr6/xao': [[64202650, 64523871]],\n",
       "  'split_chr7/xbc': [[124810550, 125070920]],\n",
       "  'split_chr8/xaz': [[109058766, 109345554]],\n",
       "  'split_chr14/xat': [[105509278, 105695533]]},\n",
       " 'CLM': {'split_chr1/xbd': [[152162701, 152471006]],\n",
       "  'split_chr3/xav': [[95059735, 95322404], [98046342, 98273693]],\n",
       "  'split_chr3/xbj': [[163862679, 164224214]],\n",
       "  'split_chr4/xba': [[119293026, 119587470]],\n",
       "  'split_chr6/xab': [[7345120, 7558507]],\n",
       "  'split_chr6/xar': [[76169005, 76460170]],\n",
       "  'split_chr7/xbc': [[124810550, 125070920]],\n",
       "  'split_chr12/xan': [[61013177, 61213757]],\n",
       "  'split_chr14/xaa': [[19806333, 19976578]],\n",
       "  'split_chr14/xat': [[106520496, 106674883]]},\n",
       " 'ESN': {'split_chr2/xau': [[89581761, 89852967]],\n",
       "  'split_chr5/xaa': [[676694, 846549]],\n",
       "  'split_chr5/xai': [[34311870, 34562837]],\n",
       "  'split_chr6/xbf': [[145443018, 145762353]],\n",
       "  'split_chr7/xap': [[67044394, 67267582]],\n",
       "  'split_chr14/xan': [[80889782, 81152442]],\n",
       "  'split_chr21/xaa': [[10605321, 10733724]]},\n",
       " 'FIN': {'split_chr3/xbj': [[163862679, 164147845]],\n",
       "  'split_chr4/xaw': [[97892649, 98142264]],\n",
       "  'split_chr4/xbh': [[151414350, 151728888]],\n",
       "  'split_chr6/xat': [[85153819, 85387984]],\n",
       "  'split_chr6/xbf': [[145485121, 145762353]],\n",
       "  'split_chr7/xbc': [[124810550, 125070920]],\n",
       "  'split_chr8/xaz': [[109010721, 109345554]],\n",
       "  'split_chr9/xav': [[112161299, 112408537]],\n",
       "  'split_chr11/xbb': [[124171937, 124450010]],\n",
       "  'split_chr18/xac': [[12017790, 12244103]]},\n",
       " 'GBR': {'split_chr1/xak': [[45628366, 46147211]],\n",
       "  'split_chr2/xan': [[56405225, 56644106]],\n",
       "  'split_chr2/xas': [[78325225, 78577282]],\n",
       "  'split_chr3/xbf': [[145365797, 145612467]],\n",
       "  'split_chr3/xbi': [[158122703, 158435520]],\n",
       "  'split_chr4/xba': [[119243365, 119539168]],\n",
       "  'split_chr6/xac': [[8413699, 8649798]],\n",
       "  'split_chr7/xbc': [[124760998, 125070920]],\n",
       "  'split_chr11/xbb': [[124171937, 124450010]],\n",
       "  'split_chr12/xac': [[10962097, 11205540]],\n",
       "  'split_chr17/xaf': [[21654230, 21823237]],\n",
       "  'split_chr17/xaj': [[45587933, 46418024]]},\n",
       " 'GIH': {'split_chr3/xav': [[98046342, 98276757]],\n",
       "  'split_chr4/xbd': [[132580391, 132816794]],\n",
       "  'split_chr6/xac': [[8413699, 8649798]],\n",
       "  'split_chr11/xah': [[34650776, 34905225]],\n",
       "  'split_chr14/xaa': [[19806333, 20015421]],\n",
       "  'split_chr18/xac': [[12017790, 12244103]]},\n",
       " 'GWD': {'split_chr1/xak': [[45803471, 46100296]],\n",
       "  'split_chr2/xai': [[38264369, 38464894]],\n",
       "  'split_chr2/xau': [[89762579, 89852967]],\n",
       "  'split_chr5/xaa': [[676694, 846549]],\n",
       "  'split_chr13/xaa': [[18347994, 18534139]],\n",
       "  'split_chr21/xaa': [[10511846, 10763989]]},\n",
       " 'IBS': {'split_chr3/xbf': [[145365797, 145612467]],\n",
       "  'split_chr6/xbf': [[145485121, 145762353]],\n",
       "  'split_chr12/xac': [[10962097, 11205540]],\n",
       "  'split_chr12/xas': [[83579779, 83843102]],\n",
       "  'split_chr17/xaf': [[21619971, 21823237]],\n",
       "  'split_chr17/xaj': [[45836662, 46418024]],\n",
       "  'split_chr18/xac': [[12017790, 12244103]],\n",
       "  'split_chr22/xaa': [[16131708, 16345129]]},\n",
       " 'ITU': {'split_chr5/xas': [[84862293, 85266031]],\n",
       "  'split_chr10/xan': [[55664607, 55894887]],\n",
       "  'split_chr12/xac': [[10962097, 11162840]],\n",
       "  'split_chr14/xaa': [[19806333, 20047342]],\n",
       "  'split_chr17/xak': [[52575391, 52889013]]},\n",
       " 'JPT': {'split_chr3/xav': [[98046342, 98245327]],\n",
       "  'split_chr5/xbc': [[131688028, 132052794]],\n",
       "  'split_chr5/xaa': [[676694, 825167]],\n",
       "  'split_chr13/xaa': [[18347994, 18534139]],\n",
       "  'split_chr13/xap': [[85638733, 85884384]],\n",
       "  'split_chr14/xad': [[31681845, 31909184]],\n",
       "  'split_chr22/xaa': [[16175432, 16345129]]},\n",
       " 'KHV': {'split_chr2/xbq': [[192771748, 193054217]],\n",
       "  'split_chr3/xav': [[98046342, 98245327]],\n",
       "  'split_chr3/xbj': [[163946649, 164185047]],\n",
       "  'split_chr4/xba': [[119293026, 119539168]],\n",
       "  'split_chr7/xbc': [[124810550, 125070920]],\n",
       "  'split_chr14/xak': [[66298204, 66793088]]},\n",
       " 'LWK': {'split_chr2/xai': [[38235897, 38464894]],\n",
       "  'split_chr2/xau': [[89762579, 89852967]],\n",
       "  'split_chr5/xaa': [[676694, 846549]],\n",
       "  'split_chr13/xaa': [[18347994, 18534139]],\n",
       "  'split_chr14/xak': [[66346187, 66752333]],\n",
       "  'split_chr21/xaa': [[10605321, 10733724]]},\n",
       " 'MSL': {'split_chr1/xak': [[45803471, 46100296]],\n",
       "  'split_chr2/xau': [[89762579, 89852967]],\n",
       "  'split_chr5/xay': [[113365150, 113639918]],\n",
       "  'split_chr7/xaf': [[19775051, 19953255]],\n",
       "  'split_chr7/xap': [[67044394, 67267582]],\n",
       "  'split_chr9/xak': [[42796452, 42969270]],\n",
       "  'split_chr11/xaf': [[23272931, 23495433]],\n",
       "  'split_chr11/xaw': [[103206633, 103451621]],\n",
       "  'split_chr13/xaa': [[18347994, 18534139]],\n",
       "  'split_chr14/xat': [[105569851, 105695533]],\n",
       "  'split_chr21/xaa': [[10605321, 10733724]]},\n",
       " 'MXL': {'split_chr3/xav': [[98046342, 98217489]],\n",
       "  'split_chr3/xaq': [[74901608, 75192541]],\n",
       "  'split_chr5/xad': [[11999758, 12263260]],\n",
       "  'split_chr6/xao': [[64160994, 64404669]],\n",
       "  'split_chr7/xbc': [[124810550, 125070920]],\n",
       "  'split_chr11/xaf': [[23200593, 23461651]],\n",
       "  'split_chr12/xad': [[14846240, 15093187]],\n",
       "  'split_chr12/xac': [[10962097, 11162840]],\n",
       "  'split_chr12/xap': [[73338587, 73586502]],\n",
       "  'split_chr12/xas': [[83579779, 83843102]],\n",
       "  'split_chr17/xaf': [[21654230, 21823237]]},\n",
       " 'PEL': {'split_chr1/xak': [[45628366, 46147211]],\n",
       "  'split_chr2/xbo': [[186062200, 186331668]],\n",
       "  'split_chr3/xav': [[98046342, 98217489]],\n",
       "  'split_chr3/xba': [[120872663, 121116904]],\n",
       "  'split_chr4/xaq': [[69225334, 69589122]],\n",
       "  'split_chr6/xab': [[7345120, 7695065]],\n",
       "  'split_chr8/xba': [[112137591, 112486758]],\n",
       "  'split_chr10/xaq': [[68153912, 68481883]],\n",
       "  'split_chr11/xaf': [[23168664, 23461651]],\n",
       "  'split_chr11/xam': [[58630320, 58868016]],\n",
       "  'split_chr12/xac': [[10962097, 11162840]],\n",
       "  'split_chr12/xas': [[83579779, 83843102]],\n",
       "  'split_chr14/xaa': [[19806333, 19976578]],\n",
       "  'split_chr16/xab': [[5659954, 5828695]]},\n",
       " 'PJL': {'split_chr12/xac': [[10962097, 11162840]],\n",
       "  'split_chr14/xac': [[28519266, 28761965]],\n",
       "  'split_chr14/xaa': [[19806333, 20078222]],\n",
       "  'split_chr17/xak': [[52575391, 52861780]]},\n",
       " 'PUR': {'split_chr3/xav': [[98003499, 98273693]],\n",
       "  'split_chr3/xbj': [[163819938, 164063747]],\n",
       "  'split_chr12/xac': [[10962097, 11205540]],\n",
       "  'split_chr12/xan': [[61013177, 61213757]],\n",
       "  'split_chr12/xas': [[83689105, 83928389]],\n",
       "  'split_chr17/xaf': [[21654230, 21823237]]},\n",
       " 'STU': {'split_chr3/xav': [[98046342, 98273693]],\n",
       "  'split_chr7/xbc': [[124810550, 125070920]],\n",
       "  'split_chr13/xaa': [[18347994, 18534139]],\n",
       "  'split_chr13/xai': [[55102733, 55443491]],\n",
       "  'split_chr14/xaa': [[19806333, 19976578]],\n",
       "  'split_chr16/xaj': [[48512974, 48799209]],\n",
       "  'split_chr19/xam': [[51801039, 52098595]]},\n",
       " 'TSI': {'split_chr4/xaw': [[97892649, 98189302]],\n",
       "  'split_chr4/xba': [[119293026, 119539168]],\n",
       "  'split_chr7/xag': [[23951217, 24204307]],\n",
       "  'split_chr7/xbc': [[124810550, 125070920]],\n",
       "  'split_chr9/xai': [[31957257, 32172669]],\n",
       "  'split_chr12/xac': [[10962097, 11162840]],\n",
       "  'split_chr14/xaa': [[19806333, 19976578]],\n",
       "  'split_chr17/xaf': [[21654230, 21823237]],\n",
       "  'split_chr17/xaj': [[45836662, 46544765]]},\n",
       " 'YRI': {'split_chr2/xau': [[89762579, 89852967]],\n",
       "  'split_chr5/xaa': [[676694, 846549]],\n",
       "  'split_chr7/xan': [[56467013, 56713542]],\n",
       "  'split_chr7/xap': [[67044394, 67267582]],\n",
       "  'split_chr9/xak': [[42796452, 42969270]],\n",
       "  'split_chr13/xaa': [[18347994, 18534139]],\n",
       "  'split_chr16/xao': [[72288822, 72684953]],\n",
       "  'split_chr21/xaa': [[10605321, 10733724]]}}"
      ]
     },
     "execution_count": 34,
     "metadata": {},
     "output_type": "execute_result"
    }
   ],
   "source": [
    "all_race_positons"
   ]
  },
  {
   "cell_type": "code",
   "execution_count": 36,
   "metadata": {},
   "outputs": [
    {
     "name": "stdout",
     "output_type": "stream",
     "text": [
      "../all_race_start_length/ACB_mhc_start_lenth.csv\n",
      "filepath ../mhcdataset/1kgp.29720000-33130000.vcf\n",
      "../all_race_start_length/ASW_mhc_start_lenth.csv\n",
      "filepath ../mhcdataset/1kgp.29720000-33130000.vcf\n",
      "filepath ../mhcdataset/1kgp.29720000-33130000.vcf\n",
      "filepath ../mhcdataset/1kgp.29720000-33130000.vcf\n",
      "../all_race_start_length/BEB_mhc_start_lenth.csv\n",
      "../all_race_start_length/CDX_mhc_start_lenth.csv\n",
      "filepath ../mhcdataset/1kgp.29720000-33130000.vcf\n",
      "../all_race_start_length/CEU_mhc_start_lenth.csv\n",
      "filepath ../mhcdataset/1kgp.29720000-33130000.vcf\n",
      "../all_race_start_length/CHB_mhc_start_lenth.csv\n",
      "../all_race_start_length/CHS_mhc_start_lenth.csv\n",
      "filepath ../mhcdataset/1kgp.29720000-33130000.vcf\n",
      "../all_race_start_length/CLM_mhc_start_lenth.csv\n",
      "filepath ../mhcdataset/1kgp.29720000-33130000.vcf\n",
      "filepath ../mhcdataset/1kgp.29720000-33130000.vcf\n",
      "../all_race_start_length/ESN_mhc_start_lenth.csv\n",
      "filepath ../mhcdataset/1kgp.29720000-33130000.vcf\n",
      "filepath ../mhcdataset/1kgp.29720000-33130000.vcf\n",
      "../all_race_start_length/FIN_mhc_start_lenth.csv\n",
      "../all_race_start_length/GBR_mhc_start_lenth.csv\n",
      "filepath ../mhcdataset/1kgp.29720000-33130000.vcf\n",
      "../all_race_start_length/GIH_mhc_start_lenth.csv\n",
      "filepath ../mhcdataset/1kgp.29720000-33130000.vcf\n",
      "../all_race_start_length/GWD_mhc_start_lenth.csv\n",
      "filepath ../mhcdataset/1kgp.29720000-33130000.vcf\n",
      "filepath ../mhcdataset/1kgp.29720000-33130000.vcf\n",
      "filepath ../mhcdataset/1kgp.29720000-33130000.vcf\n",
      "../all_race_start_length/IBS_mhc_start_lenth.csv\n",
      "filepath ../mhcdataset/1kgp.29720000-33130000.vcf\n",
      "filepath ../mhcdataset/1kgp.29720000-33130000.vcf\n",
      "../all_race_start_length/ITU_mhc_start_lenth.csv\n",
      "filepath ../mhcdataset/1kgp.29720000-33130000.vcf\n",
      "../all_race_start_length/JPT_mhc_start_lenth.csv\n",
      "filepath ../mhcdataset/1kgp.29720000-33130000.vcf\n",
      "../all_race_start_length/KHV_mhc_start_lenth.csv\n",
      "filepath ../mhcdataset/1kgp.29720000-33130000.vcf\n",
      "filepath ../mhcdataset/1kgp.29720000-33130000.vcf\n",
      "../all_race_start_length/LWK_mhc_start_lenth.csv\n",
      "filepath ../mhcdataset/1kgp.29720000-33130000.vcf\n",
      "../all_race_start_length/MSL_mhc_start_lenth.csv\n",
      "filepath ../mhcdataset/1kgp.29720000-33130000.vcf\n",
      "filepath ../mhcdataset/1kgp.29720000-33130000.vcf\n",
      "filepath ../mhcdataset/1kgp.29720000-33130000.vcf\n",
      "../all_race_start_length/MXL_mhc_start_lenth.csv\n",
      "filepath ../mhcdataset/1kgp.29720000-33130000.vcf\n",
      "../all_race_start_length/PEL_mhc_start_lenth.csv\n",
      "filepath ../mhcdataset/1kgp.29720000-33130000.vcf\n",
      "../all_race_start_length/PJL_mhc_start_lenth.csv\n",
      "../all_race_start_length/PUR_mhc_start_lenth.csv\n",
      "filepath ../mhcdataset/1kgp.29720000-33130000.vcf\n",
      "../all_race_start_length/STU_mhc_start_lenth.csv\n",
      "filepath ../mhcdataset/1kgp.29720000-33130000.vcf\n",
      "filepath ../mhcdataset/1kgp.29720000-33130000.vcf\n",
      "../all_race_start_length/TSI_mhc_start_lenth.csv\n",
      "filepath ../mhcdataset/1kgp.29720000-33130000.vcf\n",
      "../all_race_start_length/YRI_mhc_start_lenth.csv\n",
      "filepath ../mhcdataset/1kgp.29720000-33130000.vcf\n",
      "filepath ../mhcdataset/1kgp.29720000-33130000.vcf\n",
      "filepath ../mhcdataset/1kgp.29720000-33130000.vcf\n"
     ]
    }
   ],
   "source": [
    "mhc_race_positons=dict()\n",
    "for category in allcategories:\n",
    "    mhc_race_positons[category]=dict()\n",
    "\n",
    "for curDir, dirs, files in os.walk(top=\"../all_race_start_length/\"):        \n",
    "    for category in allcategories:\n",
    "        res=dict()\n",
    "        for file in files:\n",
    "            filename=file[:file.index(\".\")]\n",
    "            if \"mhc\" in filename:\n",
    "                filerace=filename.split(\"_\")[0]\n",
    "                if filerace==category:                   \n",
    "                    filepath=os.path.join(curDir,file)\n",
    "                    print(filepath)\n",
    "                    res=GetPositionformhc(filepath=filepath,threshold=6,res=res)\n",
    "                    mhc_race_positons[category]=res\n",
    "                else:\n",
    "                    continue\n",
    "            else:\n",
    "                continue\n"
   ]
  },
  {
   "cell_type": "code",
   "execution_count": 37,
   "metadata": {},
   "outputs": [
    {
     "data": {
      "text/plain": [
       "{'ACB': {'mhc': [[32589647, 32805573]]},\n",
       " 'ASW': {'mhc': [[29753369, 29913914],\n",
       "   [29939668, 30120966],\n",
       "   [32627859, 32843772]]},\n",
       " 'BEB': {},\n",
       " 'CDX': {'mhc': [[31295439, 31432528]]},\n",
       " 'CEU': {'mhc': [[32627859, 32776791]]},\n",
       " 'CHB': {},\n",
       " 'CHS': {'mhc': [[32589647, 32716541]]},\n",
       " 'CLM': {'mhc': [[32453110, 32577355], [32589647, 32732048]]},\n",
       " 'ESN': {'mhc': [[29720403, 29896285], [32644320, 32843772]]},\n",
       " 'FIN': {},\n",
       " 'GBR': {'mhc': [[32453110, 32577355]]},\n",
       " 'GIH': {'mhc': [[32589647, 32698571]]},\n",
       " 'GWD': {'mhc': [[29720403, 29913914],\n",
       "   [29939668, 30085606],\n",
       "   [32627859, 32732048]]},\n",
       " 'IBS': {'mhc': [[32453110, 32577355], [32589647, 32716541]]},\n",
       " 'ITU': {'mhc': [[32423532, 32554290]]},\n",
       " 'JPT': {'mhc': [[32589647, 32732048]]},\n",
       " 'KHV': {'mhc': [[32453110, 32577355], [32589647, 32716541]]},\n",
       " 'LWK': {'mhc': [[32627859, 32805573]]},\n",
       " 'MSL': {'mhc': [[29720403, 29913914],\n",
       "   [31317765, 31528792],\n",
       "   [32554291, 32776791]]},\n",
       " 'MXL': {'mhc': [[32589647, 32716541]]},\n",
       " 'PEL': {'mhc': [[32473902, 32616414]]},\n",
       " 'PJL': {},\n",
       " 'PUR': {'mhc': [[32589647, 32683157]]},\n",
       " 'STU': {'mhc': [[32453110, 32577355], [32589647, 32716541]]},\n",
       " 'TSI': {'mhc': [[32589647, 32698571]]},\n",
       " 'YRI': {'mhc': [[29720403, 29913914],\n",
       "   [29939668, 30120966],\n",
       "   [32589647, 32882258]]}}"
      ]
     },
     "execution_count": 37,
     "metadata": {},
     "output_type": "execute_result"
    }
   ],
   "source": [
    "mhc_race_positons"
   ]
  }
 ],
 "metadata": {
  "kernelspec": {
   "display_name": "mhc",
   "language": "python",
   "name": "python3"
  },
  "language_info": {
   "codemirror_mode": {
    "name": "ipython",
    "version": 3
   },
   "file_extension": ".py",
   "mimetype": "text/x-python",
   "name": "python",
   "nbconvert_exporter": "python",
   "pygments_lexer": "ipython3",
   "version": "3.8.0"
  },
  "orig_nbformat": 4
 },
 "nbformat": 4,
 "nbformat_minor": 2
}
